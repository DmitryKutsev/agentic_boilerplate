{
 "cells": [
  {
   "cell_type": "code",
   "execution_count": 276,
   "metadata": {},
   "outputs": [],
   "source": [
    "import asyncio\n",
    "import os\n",
    "import json\n",
    "\n",
    "# from dotenv.main import load_dotenv\n",
    "from dotenv import load_dotenv\n",
    "from pydantic import BaseModel\n",
    "from typing import Literal"
   ]
  },
  {
   "cell_type": "code",
   "execution_count": 274,
   "metadata": {},
   "outputs": [],
   "source": [
    "import chromadb\n",
    "from langsmith.wrappers import wrap_openai\n",
    "from langsmith import traceable\n",
    "\n",
    "from tavily import TavilyClient\n",
    "from typing_extensions import TypedDict\n",
    "from openai import OpenAI\n",
    "from together import AsyncTogether, Together\n",
    "from chromadb.utils.embedding_functions import OpenAIEmbeddingFunction\n",
    "from langgraph.graph import END, StateGraph, START, MessagesState"
   ]
  },
  {
   "cell_type": "code",
   "execution_count": 3,
   "metadata": {},
   "outputs": [
    {
     "data": {
      "text/plain": [
       "True"
      ]
     },
     "execution_count": 3,
     "metadata": {},
     "output_type": "execute_result"
    }
   ],
   "source": [
    "load_dotenv()"
   ]
  },
  {
   "cell_type": "code",
   "execution_count": 4,
   "metadata": {},
   "outputs": [],
   "source": [
    "LANGCHAIN_TRACING_V2 = True\n",
    "LANGCHAIN_ENDPOINT = \"https://api.smith.langchain.com\"\n",
    "LANGCHAIN_PROJECT = \"my_test_project\""
   ]
  },
  {
   "cell_type": "code",
   "execution_count": 5,
   "metadata": {},
   "outputs": [],
   "source": [
    "TOGETHER_API_KEY = os.getenv(\"TOGETHER_API_KEY\")\n",
    "OPENAI_API_KEY = os.getenv(\"OPENAI_API_KEY\")\n",
    "TAVILY_API_KEY = os.getenv(\"TAVILY_API_KEY\")\n",
    "LANGCHAIN_API_KEY = os.getenv(\"LANGCHAIN_API_KEY\")"
   ]
  },
  {
   "cell_type": "code",
   "execution_count": 6,
   "metadata": {},
   "outputs": [],
   "source": [
    "EMBEDDING_MODEL = \"text-embedding-3-small\"\n",
    "CURR_LLM_MODEL = \"meta-llama/Meta-Llama-3.1-8B-Instruct-Turbo\""
   ]
  },
  {
   "cell_type": "code",
   "execution_count": 7,
   "metadata": {},
   "outputs": [
    {
     "data": {
      "text/plain": [
       "<together.client.Together at 0x12ac04210>"
      ]
     },
     "execution_count": 7,
     "metadata": {},
     "output_type": "execute_result"
    }
   ],
   "source": [
    "together_client = wrap_openai(Together(api_key=TOGETHER_API_KEY))\n",
    "together_client"
   ]
  },
  {
   "cell_type": "code",
   "execution_count": 281,
   "metadata": {},
   "outputs": [],
   "source": [
    "# async_together_client = wrap_openai(AsyncTogether(api_key=TOGETHER_API_KEY))\n",
    "async_together_client = AsyncTogether(api_key=TOGETHER_API_KEY)"
   ]
  },
  {
   "cell_type": "code",
   "execution_count": 8,
   "metadata": {},
   "outputs": [],
   "source": [
    "@traceable\n",
    "def llm_pipeline(user_input: str) -> str:\n",
    "    result = together_client.chat.completions.create(\n",
    "        messages=[{\"role\": \"user\", \"content\": user_input}], model=CURR_LLM_MODEL\n",
    "    )\n",
    "    return result.choices[0].message.content"
   ]
  },
  {
   "cell_type": "code",
   "execution_count": 282,
   "metadata": {},
   "outputs": [],
   "source": [
    "async def async_llm_pipeline(messages):\n",
    "    tasks = [\n",
    "        async_together_client.chat.completions.create(\n",
    "            model=CURR_LLM_MODEL,\n",
    "            messages=[{\"role\": \"user\", \"content\": message}],\n",
    "        )\n",
    "        for message in messages\n",
    "    ]\n",
    "    responses = await asyncio.gather(*tasks)\n",
    "\n",
    "    return [response.choices[0].message.content for response in responses]\n"
   ]
  },
  {
   "cell_type": "code",
   "execution_count": 9,
   "metadata": {},
   "outputs": [
    {
     "data": {
      "text/plain": [
       "'I\\'m an AI model known as Llama. Llama stands for \"Large Language Model Meta AI.\"'"
      ]
     },
     "execution_count": 9,
     "metadata": {},
     "output_type": "execute_result"
    }
   ],
   "source": [
    "llm_pipeline(\"Hi there. What model are you?\")"
   ]
  },
  {
   "cell_type": "markdown",
   "metadata": {},
   "source": [
    "## CHROMA DB SET UP\n"
   ]
  },
  {
   "cell_type": "code",
   "execution_count": 10,
   "metadata": {},
   "outputs": [],
   "source": [
    "embedding_function = OpenAIEmbeddingFunction(\n",
    "    api_key=OPENAI_API_KEY, model_name=EMBEDDING_MODEL\n",
    ")\n",
    "chroma_client = chromadb.Client()"
   ]
  },
  {
   "cell_type": "code",
   "execution_count": 11,
   "metadata": {},
   "outputs": [],
   "source": [
    "collection = chroma_client.create_collection(\n",
    "    name=\"marcus_collection\", embedding_function=embedding_function\n",
    ")\n",
    "\n",
    "# collection = chroma_client.get_collection(\n",
    "#     name=\"marcus_collection\", embedding_function=embedding_function\n",
    "# )"
   ]
  },
  {
   "cell_type": "code",
   "execution_count": 12,
   "metadata": {},
   "outputs": [],
   "source": [
    "with open(\"marcus_quotes.txt\", \"r\") as reader:\n",
    "    marcus_list = reader.readlines()\n",
    "ids_list = [f\"id{i+1}\" for i in range(len(marcus_list))]\n",
    "\n",
    "    "
   ]
  },
  {
   "cell_type": "code",
   "execution_count": 13,
   "metadata": {},
   "outputs": [],
   "source": [
    "# collection.add(documents=marcus_list, ids=ids_list)"
   ]
  },
  {
   "cell_type": "code",
   "execution_count": 14,
   "metadata": {},
   "outputs": [
    {
     "data": {
      "text/plain": [
       "{'ids': [[]],\n",
       " 'embeddings': None,\n",
       " 'documents': [[]],\n",
       " 'uris': None,\n",
       " 'data': None,\n",
       " 'metadatas': [[]],\n",
       " 'distances': [[]],\n",
       " 'included': [<IncludeEnum.distances: 'distances'>,\n",
       "  <IncludeEnum.documents: 'documents'>,\n",
       "  <IncludeEnum.metadatas: 'metadatas'>]}"
      ]
     },
     "execution_count": 14,
     "metadata": {},
     "output_type": "execute_result"
    }
   ],
   "source": [
    "collection.query(\n",
    "    query_texts=[\"I want to learn good morals and the government of my temper\"],\n",
    "    n_results=2,\n",
    ")"
   ]
  },
  {
   "cell_type": "code",
   "execution_count": 15,
   "metadata": {},
   "outputs": [
    {
     "data": {
      "text/plain": [
       "[[]]"
      ]
     },
     "execution_count": 15,
     "metadata": {},
     "output_type": "execute_result"
    }
   ],
   "source": [
    "collection.query(\n",
    "    query_texts=[\n",
    "        \"Я хочу научиться хорошим моральным принципам и управлению моим темпераментом\"\n",
    "    ],\n",
    "    n_results=1,\n",
    ")[\"documents\"]"
   ]
  },
  {
   "cell_type": "markdown",
   "metadata": {},
   "source": [
    "## TavilyClient setup\n"
   ]
  },
  {
   "cell_type": "code",
   "execution_count": 17,
   "metadata": {},
   "outputs": [],
   "source": [
    "tavily_client = TavilyClient(api_key=TAVILY_API_KEY)"
   ]
  },
  {
   "cell_type": "code",
   "execution_count": 18,
   "metadata": {},
   "outputs": [
    {
     "data": {
      "text/plain": [
       "{'query': 'Who is Aomine Daiki?',\n",
       " 'follow_up_questions': None,\n",
       " 'answer': None,\n",
       " 'images': [],\n",
       " 'results': [{'title': 'Daiki Aomine - Kuroko no Basuke Wiki',\n",
       "   'url': 'https://kurokonobasuke.fandom.com/wiki/Daiki_Aomine',\n",
       "   'content': \"Daiki Aomine (青峰 大輝 Aomine Daiki) was the ace player of the renowned Generation of Miracles and was the former partner/light of Tetsuya Kuroko in Teikō Junior High. After hearing a benched teammate insult Tetsuya Kuroko and his style of play during a match against Seirin High, Aomine did not hesitate to slam him against the lockers and warn that he, as someone who couldn't even earn a spot on the court, had no right to comment on the players' performances.[5] Aomine was similarly protective over Ryōta Kise following his match against Fukuda Sōgō Academy, as he chose to wait outside the venue to prevent Shōgo Haizaki from causing any further trouble for Kise or his team.[6]\",\n",
       "   'score': 0.9997063,\n",
       "   'raw_content': None},\n",
       "  {'title': 'What NBA player is Aomine Daiki? - Basketball Fandom',\n",
       "   'url': 'https://basketballfandom.com/what-nba-player-is-aomine-daiki/',\n",
       "   'content': 'What NBA player is Aomine Daiki? Home » Guide » What NBA player is Aomine Daiki? What NBA player is Aomine Daiki? Who is Aomine Daiki? 1. Who is Aomine Daiki? Aomine Daiki is a professional basketball player in the National Basketball Association (NBA). Aomine Daiki was drafted by the Los Angeles Lakers with the 10th overall pick in the 2020 NBA Draft. Since joining the Lakers, Aomine has been a part of two championship-winning teams and was voted an All-Star in 2021. Aomine is one of the most marketable players in the NBA. Aomine Daiki is one of the best players in the NBA and is still playing at an elite level. Aomine Daiki is one of the most talented and marketable players in the NBA.',\n",
       "   'score': 0.99966466,\n",
       "   'raw_content': None},\n",
       "  {'title': '10 Things That Make Aomine Daiki A Great Basketball Player - CBR',\n",
       "   'url': 'https://www.cbr.com/aomine-daiki-great-basketball-player-reasons/',\n",
       "   'content': '![Image 6: Aomine Daiki from Kuroko\\'s Basketball alongside the other four Generation of Miracles members.](https://static1.cbrimages.com/wordpress/wp-content/uploads/2022/01/aomine-promo-image-kurokos-basketball.jpg) Touou Academy\\'s Aomine Daiki is one of the most polarizing characters in Kuroko\\'s Basketball. Though this is not all that he has to offer, Aomine\\'s strength is still a key component in why he is such an excellent basketball player. Aomine entered the \"Zone\" while playing against Kagami during the Winter Cup. RELATED: 5 Sports Anime For Action Lovers (& 5 That Are Comedy Gold) While most players would marvel at overpowering their opponents on the court, this jaded Aomine. The two played for the Teiko middle school team back in the day, so Aomine already recognized that Kuroko\\'s strength lay in his passing ability.',\n",
       "   'score': 0.9994,\n",
       "   'raw_content': None},\n",
       "  {'title': \"Kuroko's Basketball: Every Main Character's Age, Height & Birthday\",\n",
       "   'url': 'https://gamerant.com/kurokos-basketball-every-main-characters-age-height-birthday/',\n",
       "   'content': \"8 Daiki Aomine Aomine is the former ace of the Generation of Miracles. He plays as a power forward for Tōō academy's basketball team. Aomine is one of the\",\n",
       "   'score': 0.99923277,\n",
       "   'raw_content': None},\n",
       "  {'title': \"10 Best Kuroko's Basketball Players, Ranked - Screen Rant\",\n",
       "   'url': 'https://screenrant.com/kurokos-basketball-best-players-ranked/',\n",
       "   'content': '3 Aomine Daiki - The Monster Power Forward The super scorer and ace of the Generation of Miracles, 192 cm (6\\' 3½\") Power Forward Aomine Daiki is the fastest athlete in the series and can score from any position on the court with his formless shot, while at high speeds and even behind the rim. Daiki is free-spirited and has an unorthodox street',\n",
       "   'score': 0.99903405,\n",
       "   'raw_content': None}],\n",
       " 'response_time': 4.82}"
      ]
     },
     "execution_count": 18,
     "metadata": {},
     "output_type": "execute_result"
    }
   ],
   "source": [
    "tavily_client.search(\"Who is Aomine Daiki?\")"
   ]
  },
  {
   "cell_type": "code",
   "execution_count": 19,
   "metadata": {},
   "outputs": [
    {
     "data": {
      "text/plain": [
       "{'query': 'Кто такой Борис Рыжий?',\n",
       " 'follow_up_questions': None,\n",
       " 'answer': None,\n",
       " 'images': [],\n",
       " 'results': [{'title': 'История легендарного поэта Бориса Рыжего, который прожил всего 26 лет ...',\n",
       "   'url': 'https://ngs.ru/text/culture/2024/09/09/74062475/',\n",
       "   'content': 'История поэта Бориса Рыжего, который ушел из жизни в 26 лет и прославился на весь мир История поэта Бориса Рыжего, который ушел из жизни в 26 лет и прославился на весь мир По его словам, Борис Рыжий «был и жил целиком в поэзии, а это\\xa0— смертельно». В 1991 году Рыжий пошел по стопам отца и поступил в Свердловский горный институт (на самом деле\\xa0— потому что больше было некуда). Писатель Евгений Касимов рассказал E1.RU, что был не так близко знаком с Борисом: несколько раз они работали вместе, делали передачи на радио и ходили друг к другу в гости. Хамство, невежество и мракобесие: врач-педиатр — о том, что его бесит в пациентах Хамство, невежество и мракобесие: врач-педиатр — о том, что его бесит в пациентах',\n",
       "   'score': 0.9940428,\n",
       "   'raw_content': None},\n",
       "  {'title': 'Рыжий, Борис Борисович — Википедия',\n",
       "   'url': 'https://ru.wikipedia.org/wiki/Рыжий,_Борис_Борисович',\n",
       "   'content': 'В основе постановки\\xa0— поэзия Бориса Рыжего и музыка Сергея Никитина. 2012\\xa0год\\xa0— «Рыжий», театральный перформанс на стихи Бориса Рыжего уральского режиссёра Александра Вахова, показанный в Екатеринбурге в рамках 2-й Индустриальной биеннале современного искусства[13]. Фильм снимался в Екатеринбурге, в районе Вторчермета, где жил Борис Рыжий; режиссёр встречалась с его семьёй, друзьями, соседями, наблюдала за людьми на улицах, во дворах, магазинах\\xa0— за теми людьми, о которых писал поэт. С 5 по 8 сентября 2024\\xa0года в Екатеринбурге организованы «Дни Бориса Рыжего»\\xa0— серия мероприятий, посвящённых 50-летию со дня рождения поэта[36]. ↑ \"Борис Рыжий — Я работал на драге в посёлке Кытлым: читать стих, текст стихотворения поэта классика на РуСтих\". История поэта Бориса Рыжего, который ушёл из жизни в 26 лет и прославился на весь мир\\xa0\\xa0(рус.).',\n",
       "   'score': 0.99253935,\n",
       "   'raw_content': None}],\n",
       " 'response_time': 4.24}"
      ]
     },
     "execution_count": 19,
     "metadata": {},
     "output_type": "execute_result"
    }
   ],
   "source": [
    "tavily_client.search(\"Кто такой Борис Рыжий?\", max_results=2)"
   ]
  },
  {
   "cell_type": "markdown",
   "metadata": {},
   "source": [
    "## Prompts for simple function calls\n"
   ]
  },
  {
   "cell_type": "code",
   "execution_count": 236,
   "metadata": {},
   "outputs": [],
   "source": [
    "router_prompt = \"\"\"\n",
    "    SYSTEM:\n",
    "    You are an expert at routing a user question to a vectorstore or web search. \n",
    "    Vectorstore is consists of the quotes of Marcus Aurelius. If there is an emotion or need for\n",
    "    an advicce for life situation or just a complain or an advice, \n",
    "    use the vectorstore. \n",
    "    For all other questions including names, advices on business, weather characters or science use web-search. \n",
    "    Give a binary choice 'web_search' or 'vectorstore' based on the question. Return a string with a single word 'web_search' or 'vectorstore' and \n",
    "    no premable or explaination. \n",
    "\n",
    "    Example:\n",
    "        Question: I want to learn good morals and the government of my temper.\n",
    "        Answer: 'vectorstore'\n",
    "\n",
    "    USER:\n",
    "    \"\"\""
   ]
  },
  {
   "cell_type": "code",
   "execution_count": 237,
   "metadata": {},
   "outputs": [],
   "source": [
    "stoic_prompt = \"\"\"\n",
    "    SYSTEM:\n",
    "    You are a multilingual string merger. You have a user complain about something emotional in any language.\n",
    "    You have a tool with a list of closest quotes \n",
    "    from Marcus Aurelius. Yus should pick up one closest quote and return it with the prefix \n",
    "    \"Here is what Marcus Aurelius had to say on this matter:\" You must not rephrase the \n",
    "    quote or use any thoughts of yours. You must pick one quote. Just prefix and quote no metter what. Answer only in English.\n",
    "\n",
    "    Example:\n",
    "        Question: I want to learn good morals and the government of my temper.\n",
    "        Quotes:[\"Be not disgusted, nor discouraged, nor dissatisfied,\n",
    "          if thou dost not succeed in doing everything according to right principles.\\n\",\n",
    "  \"Examine men's ruling principles, even those of the wise, what kind of things they avoid, and what kind they pursue.\\n\"]\n",
    "\n",
    "        Answer: \"That is what Marcus Avrelius said on this metter: Be not disgusted, nor discouraged, nor dissatisfied,\n",
    "          if thou dost not succeed in doing everything according to right principles\n",
    "\n",
    "    USER:\n",
    "    \"\"\""
   ]
  },
  {
   "cell_type": "code",
   "execution_count": 238,
   "metadata": {},
   "outputs": [],
   "source": [
    "search_prompt = \"\"\"\n",
    "    SYSTEM:\n",
    "    You are a multilingual search system. you have a qustion from user and a serach results. You need to the closest answer. \n",
    "    Answer always in English.\n",
    "\n",
    "    USER:\n",
    "    \"\"\""
   ]
  },
  {
   "cell_type": "code",
   "execution_count": 239,
   "metadata": {},
   "outputs": [
    {
     "data": {
      "text/plain": [
       "'vectorstore'"
      ]
     },
     "execution_count": 239,
     "metadata": {},
     "output_type": "execute_result"
    }
   ],
   "source": [
    "curr_question = \"What can I do with my shitty life???\"\n",
    "\n",
    "llm_pipeline(f\"{router_prompt} {curr_question}\")"
   ]
  },
  {
   "cell_type": "code",
   "execution_count": 240,
   "metadata": {},
   "outputs": [
    {
     "data": {
      "text/plain": [
       "'web_search'"
      ]
     },
     "execution_count": 240,
     "metadata": {},
     "output_type": "execute_result"
    }
   ],
   "source": [
    "curr_question = \"Who is Uzumaki Naruto?\"\n",
    "\n",
    "llm_pipeline(f\"{router_prompt} {curr_question}\")"
   ]
  },
  {
   "cell_type": "markdown",
   "metadata": {},
   "source": [
    "## Agentic python functions\n"
   ]
  },
  {
   "cell_type": "code",
   "execution_count": 241,
   "metadata": {},
   "outputs": [],
   "source": [
    "def get_search_results(query: str, max_results=2):\n",
    "    return tavily_client.search(query, max_results=max_results)[\"results\"]"
   ]
  },
  {
   "cell_type": "code",
   "execution_count": 242,
   "metadata": {},
   "outputs": [],
   "source": [
    "def first_step_completion(user_query):\n",
    "    return llm_pipeline(f\"{router_prompt} {user_query}\")"
   ]
  },
  {
   "cell_type": "code",
   "execution_count": 243,
   "metadata": {},
   "outputs": [],
   "source": [
    "def second_step(first_step_completion, curr_question):\n",
    "    if first_step_completion == \"web_search\":\n",
    "        search_results = get_search_results(curr_question, max_results=2)\n",
    "        return llm_pipeline(\n",
    "            f\"{search_prompt} {curr_question}, SEARCH_RESULTS: {search_results}\"\n",
    "        )\n",
    "\n",
    "    elif first_step_completion == \"vectorstore\":\n",
    "        store_search = collection.query(query_texts=[curr_question], n_results=2)[\n",
    "            \"documents\"\n",
    "        ]\n",
    "        return llm_pipeline(f\"{stoic_prompt} {curr_question}, QUOTES: {store_search}\")"
   ]
  },
  {
   "cell_type": "code",
   "execution_count": 244,
   "metadata": {},
   "outputs": [],
   "source": [
    "def run_steps(user_query):\n",
    "    first_step_res = first_step_completion(user_query)\n",
    "    return second_step(first_step_res, user_query)"
   ]
  },
  {
   "cell_type": "code",
   "execution_count": 245,
   "metadata": {},
   "outputs": [
    {
     "data": {
      "text/plain": [
       "'Here is what Marcus Aurelius said on this matter: Be not disgusted, nor discouraged, nor dissatisfied, if thou dost not succeed in doing everything according to right principles.'"
      ]
     },
     "execution_count": 245,
     "metadata": {},
     "output_type": "execute_result"
    }
   ],
   "source": [
    "run_steps(\"I want to learn good morals and the government of my temper\")"
   ]
  },
  {
   "cell_type": "code",
   "execution_count": 246,
   "metadata": {},
   "outputs": [
    {
     "data": {
      "text/plain": [
       "'Here is what Marcus Aurelius had to say on this matter: Some things are too great for us to comprehend.'"
      ]
     },
     "execution_count": 246,
     "metadata": {},
     "output_type": "execute_result"
    }
   ],
   "source": [
    "run_steps(\"Some truths are not for you\")"
   ]
  },
  {
   "cell_type": "code",
   "execution_count": 247,
   "metadata": {},
   "outputs": [
    {
     "data": {
      "text/plain": [
       "'Here is what Marcus Aurelius had to say on this matter: \"The impediment to action advances action. What stands in the way becomes the way.\"'"
      ]
     },
     "execution_count": 247,
     "metadata": {},
     "output_type": "execute_result"
    }
   ],
   "source": [
    "run_steps(\"Shitty life! How to change it???\")"
   ]
  },
  {
   "cell_type": "code",
   "execution_count": 248,
   "metadata": {},
   "outputs": [
    {
     "data": {
      "text/plain": [
       "'Based on the search results, I can tell you that Naruto Uzumaki is the main protagonist of the series \"Naruto.\" He is a genin-level shinobi from the Hidden Leaf Village and is the third and current jinchūriki of Kurama, the Nine-Tails.'"
      ]
     },
     "execution_count": 248,
     "metadata": {},
     "output_type": "execute_result"
    }
   ],
   "source": [
    "run_steps(\"Who is Uzumaki Naruto?\")"
   ]
  },
  {
   "cell_type": "code",
   "execution_count": 249,
   "metadata": {},
   "outputs": [
    {
     "data": {
      "text/plain": [
       "\"Based on the search results, Daiki Aomine is the former ace of the Generation of Miracles and a power forward for Tōō academy's basketball team. He is known for being protective of his teammates, particularly Tetsuya Kuroko and Ryōta Kise.\""
      ]
     },
     "execution_count": 249,
     "metadata": {},
     "output_type": "execute_result"
    }
   ],
   "source": [
    "run_steps(\"Who is Aomine Daiki?\")"
   ]
  },
  {
   "cell_type": "code",
   "execution_count": 250,
   "metadata": {},
   "outputs": [
    {
     "data": {
      "text/plain": [
       "'Here is what Marcus Aurelius had to say on this matter: Some truths are not for all men, and even among those to whom they are revealed, only a select few are able to grasp them.'"
      ]
     },
     "execution_count": 250,
     "metadata": {},
     "output_type": "execute_result"
    }
   ],
   "source": [
    "run_steps(\"Some truths are not for you\")"
   ]
  },
  {
   "cell_type": "code",
   "execution_count": 251,
   "metadata": {},
   "outputs": [
    {
     "data": {
      "text/plain": [
       "'Based on the search results, I found that Naruto Uzumaki is 12 years old at the beginning of his journey, and his age varies throughout the series. \\n\\nAt the end of the first part of the series, Naruto is 17 years old. Two years after the events of the Great Ninja War, Naruto is 19 years old.'"
      ]
     },
     "execution_count": 251,
     "metadata": {},
     "output_type": "execute_result"
    }
   ],
   "source": [
    "run_steps(\"How old is Naruto Uzumaki?\")"
   ]
  },
  {
   "cell_type": "code",
   "execution_count": 252,
   "metadata": {},
   "outputs": [
    {
     "data": {
      "text/plain": [
       "'Based on the search results, it appears that there are multiple trains available from Amsterdam to Zandvoort aan Zee, with prices starting from $8.51 for a Standard Class ticket when booked in advance. There are 38 trains per day available for this route.'"
      ]
     },
     "execution_count": 252,
     "metadata": {},
     "output_type": "execute_result"
    }
   ],
   "source": [
    "run_steps(\"What happened today with trains between amsterdam and zandfoord?\")"
   ]
  },
  {
   "cell_type": "code",
   "execution_count": 261,
   "metadata": {},
   "outputs": [
    {
     "data": {
      "text/plain": [
       "'Here is what Marcus Aurelius had to say on this matter: Be not disgusted, nor discouraged, nor dissatisfied, if thou dost not succeed in doing everything according to right principles.'"
      ]
     },
     "execution_count": 261,
     "metadata": {},
     "output_type": "execute_result"
    }
   ],
   "source": [
    "run_steps(\"I don't understand the invoice\")"
   ]
  },
  {
   "cell_type": "markdown",
   "metadata": {},
   "source": [
    "### What if there are multiple questions?\n"
   ]
  },
  {
   "cell_type": "code",
   "execution_count": 253,
   "metadata": {},
   "outputs": [],
   "source": [
    "tasks_prompt = \"\"\"\n",
    "    SYSTEM:\n",
    "        You are a system, that splits request on topics.\n",
    "        Analyze the user's request and identify distinct questions or topics within it. Separate each question into its own entry, \n",
    "        numbering them sequentially. Use only english language, return result only in JSON format {index: part of the request}.\n",
    "\n",
    "    EXAMPLE:\n",
    "        Query:\n",
    "\n",
    "        Weather is terrible, life shitty. Who is Natsume Souseki and Dostoevsky?\n",
    "\n",
    "        Model response:\n",
    "        \n",
    "        {\n",
    "        \"1\": \" Weather is terrible\",\n",
    "        \"2\": \"life is shitty\",\n",
    "        \"3\": \"Who is Natsume Souseki?\",\n",
    "        \"4\": \"Who is Natsume Dostoevsky?\"\n",
    "        }\n",
    "\n",
    "\n",
    "    USER:\n",
    "    \"\"\""
   ]
  },
  {
   "cell_type": "code",
   "execution_count": 270,
   "metadata": {},
   "outputs": [],
   "source": [
    "def zero_step_completion(user_query):\n",
    "    result_json = llm_pipeline(f\"{tasks_prompt} {user_query}\")\n",
    "    return json.loads(result_json)"
   ]
  },
  {
   "cell_type": "code",
   "execution_count": 271,
   "metadata": {},
   "outputs": [],
   "source": [
    "def run_multitasks(user_query):\n",
    "    res_list = []\n",
    "    \n",
    "    for task in zero_step_completion(user_query).values():\n",
    "        res_list.append(run_steps(task))\n",
    "\n",
    "    return res_list"
   ]
  },
  {
   "cell_type": "code",
   "execution_count": 272,
   "metadata": {},
   "outputs": [
    {
     "data": {
      "text/plain": [
       "['Based on the search results, the closest answer to the question \"What is the weather atm?\" is:\\n\\nThe current weather is Cloudy with a temperature of 25.8°C (78.5°F) in Harbour Island, Bahamas.',\n",
       " 'Here is what Marcus Aurelius had to say on this matter: Be not disgusted, nor discouraged, nor dissatisfied, if thou dost not succeed in doing everything according to right principles.',\n",
       " 'Here is what Marcus Aurelius had to say on this matter: \"The impediment to action advances action. What stands in the way becomes the way.\"',\n",
       " 'Based on the search results, the closest answer to the question \"Who is Yukio Mishima?\" is:\\n\\nYukio Mishima was a Japanese author born in 1925 in Tokyo. He graduated from Tokyo Imperial University\\'s School of Jurisprudence in 1947 and established himself as a major author with his works including \"Confessions of a Mask\" (1949).']"
      ]
     },
     "execution_count": 272,
     "metadata": {},
     "output_type": "execute_result"
    }
   ],
   "source": [
    "run_multitasks(\"Whaaaat What is the weather atm, I don't understand the invoice btw? My life is shitty, and who is Ukio Mishima?\")"
   ]
  },
  {
   "cell_type": "code",
   "execution_count": null,
   "metadata": {},
   "outputs": [],
   "source": []
  },
  {
   "cell_type": "code",
   "execution_count": 283,
   "metadata": {},
   "outputs": [],
   "source": [
    "# async def a_zero_step_completion(user_queries):\n",
    "#     queries_list = [f\"{tasks_prompt} {user_query}\" for user_query in user_queries]\n",
    "#     result_json_list = await async_llm_pipeline(queries_list)\n",
    "#     return [json.loads(result_json) for result_json in result_json_list]"
   ]
  },
  {
   "cell_type": "code",
   "execution_count": 1,
   "metadata": {},
   "outputs": [],
   "source": [
    "# await a_zero_step_completion(\"Whaaaat What is the weather atm, I don't understand the invoice btw? My life is shitty, and who is Ukio Mishima?\")\n"
   ]
  },
  {
   "cell_type": "code",
   "execution_count": 256,
   "metadata": {},
   "outputs": [],
   "source": [
    "async def a_first_step_completion(user_query):\n",
    "    return llm_pipeline(f\"{router_prompt} {user_query}\")"
   ]
  },
  {
   "cell_type": "code",
   "execution_count": 257,
   "metadata": {},
   "outputs": [],
   "source": [
    "async def a_second_step_completion(first_step_completion, curr_question):\n",
    "    if first_step_completion == \"web_search\":\n",
    "        search_results = get_search_results(curr_question, max_results=2)\n",
    "        return llm_pipeline(\n",
    "            f\"{search_prompt} {curr_question}, SEARCH_RESULTS: {search_results}\"\n",
    "        )\n",
    "\n",
    "    elif first_step_completion == \"vectorstore\":\n",
    "        store_search = collection.query(query_texts=[curr_question], n_results=2)[\n",
    "            \"documents\"\n",
    "        ]\n",
    "        return llm_pipeline(f\"{stoic_prompt} {curr_question}, QUOTES: {store_search}\")"
   ]
  },
  {
   "cell_type": "code",
   "execution_count": 258,
   "metadata": {},
   "outputs": [
    {
     "data": {
      "text/plain": [
       "{'1': 'What is the weather atm?',\n",
       " '2': \"I don't understand the invoice\",\n",
       " '3': 'My life is shitty',\n",
       " '4': 'Who is Ukio Mishima?'}"
      ]
     },
     "execution_count": 258,
     "metadata": {},
     "output_type": "execute_result"
    }
   ],
   "source": [
    "await a_zero_step_completion(\"Whaaaat What is the weather atm, I don't understand the invoice btw? My life is shitty, and who is Ukio Mishima?\")"
   ]
  },
  {
   "cell_type": "code",
   "execution_count": 265,
   "metadata": {},
   "outputs": [],
   "source": [
    "async def run_steps_v2(user_query):\n",
    "    results_list = []\n",
    "    results_cors_list = []\n",
    "    tool_cors_list = []\n",
    "\n",
    "\n",
    "    tasks_dict = await a_zero_step_completion(user_query)\n",
    "    for task in tasks_dict.values():\n",
    "        tool_cors_list.append(a_first_step_completion(task))\n",
    "\n",
    "    tools_list = await asyncio.gather(*tool_cors_list)\n",
    "    for ind, tool_name in enumerate(tools_list):\n",
    "        results_cors_list.append(a_second_step_completion(tool_name, list(tasks_dict.values())[ind]))\n",
    "\n",
    "    results_list = await asyncio.gather(*results_cors_list)\n",
    "    results_list = map(lambda x, y: f\"Question: {x}, Answer: {y}\", tasks_dict.values(), results_list)\n",
    "    return list(results_list)"
   ]
  },
  {
   "cell_type": "code",
   "execution_count": 266,
   "metadata": {},
   "outputs": [
    {
     "name": "stdout",
     "output_type": "stream",
     "text": [
      "['Based on the search results, I found the following information about the current weather:\\n\\nThe current weather in Harbour Island, Bahamas is Cloudy with a temperature of 25.8°C (78.5°F) and a humidity of 73%. The wind speed is 31.7 km/h (19.7 mph) from the northeast direction.', 'Here is what Marcus Aurelius had to say on this matter: Be not disgusted, nor discouraged, nor dissatisfied, if thou dost not succeed in doing everything according to right principles.', 'Here is what Marcus Aurelius had to say on this matter: \"The impediment to action advances action. What stands in the way becomes the way.\"', 'Based on the search results, the closest answer to the question \"Who is Ukio Mishima?\" is:\\n\\nYukio Mishima, a Japanese author, was a prolific writer who is regarded by many critics as the most important Japanese novelist of the 20th century.'] ['web_search', 'vectorstore', 'vectorstore', 'web_search']\n"
     ]
    },
    {
     "data": {
      "text/plain": [
       "['Question: What is the weather atm?, Answer: Based on the search results, I found the following information about the current weather:\\n\\nThe current weather in Harbour Island, Bahamas is Cloudy with a temperature of 25.8°C (78.5°F) and a humidity of 73%. The wind speed is 31.7 km/h (19.7 mph) from the northeast direction.',\n",
       " \"Question: I don't understand the invoice, Answer: Here is what Marcus Aurelius had to say on this matter: Be not disgusted, nor discouraged, nor dissatisfied, if thou dost not succeed in doing everything according to right principles.\",\n",
       " 'Question: My life is shitty, Answer: Here is what Marcus Aurelius had to say on this matter: \"The impediment to action advances action. What stands in the way becomes the way.\"',\n",
       " 'Question: Who is Ukio Mishima?, Answer: Based on the search results, the closest answer to the question \"Who is Ukio Mishima?\" is:\\n\\nYukio Mishima, a Japanese author, was a prolific writer who is regarded by many critics as the most important Japanese novelist of the 20th century.']"
      ]
     },
     "execution_count": 266,
     "metadata": {},
     "output_type": "execute_result"
    }
   ],
   "source": [
    "await run_steps_v2(\"Whaaaat What is the weather atm, I don't understand the invoice btw? My life is shitty, and who is Ukio Mishima?\")"
   ]
  },
  {
   "cell_type": "code",
   "execution_count": null,
   "metadata": {},
   "outputs": [],
   "source": []
  },
  {
   "cell_type": "code",
   "execution_count": null,
   "metadata": {},
   "outputs": [],
   "source": []
  },
  {
   "cell_type": "code",
   "execution_count": null,
   "metadata": {},
   "outputs": [],
   "source": []
  },
  {
   "cell_type": "code",
   "execution_count": null,
   "metadata": {},
   "outputs": [],
   "source": []
  },
  {
   "cell_type": "code",
   "execution_count": null,
   "metadata": {},
   "outputs": [],
   "source": []
  },
  {
   "cell_type": "code",
   "execution_count": null,
   "metadata": {},
   "outputs": [],
   "source": []
  },
  {
   "cell_type": "markdown",
   "metadata": {},
   "source": [
    "## Let's try Langgraph + LangChain classes\n"
   ]
  },
  {
   "cell_type": "code",
   "execution_count": 37,
   "metadata": {},
   "outputs": [],
   "source": [
    "from langgraph.graph import StateGraph, END\n",
    "from typing import TypedDict, Annotated\n",
    "import operator\n",
    "from langchain_core.messages import AnyMessage, SystemMessage, HumanMessage, ToolMessage\n",
    "from langchain_openai import ChatOpenAI\n",
    "from langchain_community.tools.tavily_search import TavilySearchResults\n",
    "from langchain_core.tools import tool"
   ]
  },
  {
   "cell_type": "code",
   "execution_count": 38,
   "metadata": {},
   "outputs": [],
   "source": [
    "@tool\n",
    "def stoic_collection_search(query, n_results=4) -> dict:\n",
    "    \"\"\"\n",
    "    Searches a stoic quote in a collection. Use when needed advice on an emotional or life-relational situation.\n",
    "    \"\"\"\n",
    "\n",
    "    return collection.query(\n",
    "        query_texts=[query],\n",
    "        n_results=n_results,\n",
    "    )  # type: ignore"
   ]
  },
  {
   "cell_type": "code",
   "execution_count": 39,
   "metadata": {},
   "outputs": [],
   "source": [
    "from typing import Optional, Type\n",
    "\n",
    "from pydantic import Field\n",
    "\n",
    "\n",
    "class SearchInput(BaseModel):\n",
    "    query: str = Field(description=\"should be a search query\")\n",
    "\n",
    "\n",
    "class CustomStoicSearchTool:\n",
    "    name = \"stoic_collection_search\"\n",
    "    description = \"Searches a stoic quote in a collection. Use when needed advice on an emotional or life-relational situation.\"\n",
    "    title = \"stoic_collection_search\"\n",
    "    # args_schema: Type[BaseModel] = SearchInput\n",
    "\n",
    "    def _run(query, n_results=4) -> dict:\n",
    "        \"\"\"Use the tool.\"\"\"\n",
    "        return collection.query(\n",
    "            query_texts=[query],  # type: ignore\n",
    "            n_results=n_results,\n",
    "        )"
   ]
  },
  {
   "cell_type": "code",
   "execution_count": 40,
   "metadata": {},
   "outputs": [
    {
     "data": {
      "text/plain": [
       "'stoic_collection_search'"
      ]
     },
     "execution_count": 40,
     "metadata": {},
     "output_type": "execute_result"
    }
   ],
   "source": [
    "stoic_collection_search.name  # remember kwargs lag"
   ]
  },
  {
   "cell_type": "code",
   "execution_count": 41,
   "metadata": {},
   "outputs": [],
   "source": [
    "my_stoic_collection_search = CustomStoicSearchTool()"
   ]
  },
  {
   "cell_type": "code",
   "execution_count": 42,
   "metadata": {},
   "outputs": [
    {
     "data": {
      "text/plain": [
       "'stoic_collection_search'"
      ]
     },
     "execution_count": 42,
     "metadata": {},
     "output_type": "execute_result"
    }
   ],
   "source": [
    "my_stoic_collection_search.name"
   ]
  },
  {
   "cell_type": "code",
   "execution_count": 43,
   "metadata": {},
   "outputs": [],
   "source": [
    "# from langchain.tools.retriever import create_retriever_tool\n",
    "\n",
    "# retriever_tool = create_retriever_tool(\n",
    "#     retriever,\n",
    "#     \"retrieve_blog_posts\",\n",
    "#     \"Search and return information about Lilian Weng blog posts on LLM agents, prompt engineering, and adversarial attacks on LLMs.\",\n",
    "# )"
   ]
  },
  {
   "cell_type": "code",
   "execution_count": 44,
   "metadata": {},
   "outputs": [],
   "source": [
    "search_tool = TavilySearchResults(max_results=4)\n"
   ]
  },
  {
   "cell_type": "code",
   "execution_count": 45,
   "metadata": {},
   "outputs": [],
   "source": [
    "tools = [stoic_collection_search, search_tool]\n",
    "# tools = [my_stoic_collection_search, search_tool]"
   ]
  },
  {
   "cell_type": "code",
   "execution_count": 46,
   "metadata": {},
   "outputs": [],
   "source": [
    "class AgentState(TypedDict):\n",
    "    messages: Annotated[list[AnyMessage], operator.add]"
   ]
  },
  {
   "cell_type": "code",
   "execution_count": 47,
   "metadata": {},
   "outputs": [],
   "source": [
    "class LgAgent:\n",
    "\n",
    "    def __init__(self, model, tools, system=\"\"):\n",
    "        self.system = system\n",
    "        graph = StateGraph(AgentState)\n",
    "        graph.add_node(\"llm\", self.call_openai)\n",
    "        graph.add_node(\"action\", self.take_action)\n",
    "        graph.add_conditional_edges(\n",
    "            \"llm\", self.exists_action, {True: \"action\", False: END}\n",
    "        )\n",
    "        graph.add_edge(\"action\", \"llm\")\n",
    "        graph.set_entry_point(\"llm\")\n",
    "        self.graph = graph.compile()\n",
    "        self.tools = {t.name: t for t in tools}\n",
    "        self.model = model.bind_tools(tools)\n",
    "\n",
    "    def exists_action(self, state: AgentState):\n",
    "        result = state[\"messages\"][-1]\n",
    "        return len(result.tool_calls) > 0\n",
    "\n",
    "    def call_openai(self, state: AgentState):\n",
    "        messages = state[\"messages\"]\n",
    "        if self.system:\n",
    "            messages = [SystemMessage(content=self.system)] + messages\n",
    "        message = self.model.invoke(messages)\n",
    "        return {\"messages\": [message]}\n",
    "\n",
    "    def take_action(self, state: AgentState):\n",
    "        tool_calls = state[\"messages\"][-1].tool_calls\n",
    "        results = []\n",
    "        for tool in tool_calls:\n",
    "            print(f\"Calling: {tool}\")\n",
    "            if not tool[\"name\"] in self.tools:  # check for bad tool name from LLM\n",
    "                print(\"\\n ....bad tool name....\")\n",
    "                result = \"bad tool name, retry\"  # instruct LLM to retry if bad\n",
    "            else:\n",
    "                result = self.tools[tool[\"name\"]].invoke(tool[\"args\"])\n",
    "            results.append(\n",
    "                ToolMessage(\n",
    "                    tool_call_id=tool[\"id\"], name=tool[\"name\"], content=str(result)\n",
    "                )\n",
    "            )\n",
    "        print(\"Back to the model!\")\n",
    "        return {\"messages\": results}"
   ]
  },
  {
   "cell_type": "code",
   "execution_count": 48,
   "metadata": {},
   "outputs": [],
   "source": [
    "prompt = \"\"\"You are a smart ass research assistant. You are an expert at routing a user question to a stoic_collection_search or web search. \n",
    "    stoic_collection_search is consists of the stoic quotes. \n",
    "    \n",
    "    If there is an emotion or need for\n",
    "    an advice for life situation or just a complain or an advice, \n",
    "    use the stoic_collection_search. You should pick up a most appropriate one quote and return it with the prefix \n",
    "    \"Here is what Marcus Aurelius had to say on this matter:\" You must not rephrase the \n",
    "    quote or use any thoughts of yours. Just prefix and quote no metter what.\n",
    "\n",
    "\n",
    "    For all other questions use web-search\n",
    "    If you need to look up some information before asking a follow up question, you are allowed to do that!  Answer only in English. \n",
    "\"\"\""
   ]
  },
  {
   "cell_type": "code",
   "execution_count": 49,
   "metadata": {},
   "outputs": [],
   "source": [
    "model = ChatOpenAI(model=\"gpt-3.5-turbo\")  # reduce inference cost\n",
    "abot = LgAgent(model, tools, system=prompt)"
   ]
  },
  {
   "cell_type": "code",
   "execution_count": 50,
   "metadata": {},
   "outputs": [
    {
     "data": {
      "image/png": "[encoded data removed]",
      "text/plain": [
       "<IPython.core.display.Image object>"
      ]
     },
     "execution_count": 50,
     "metadata": {},
     "output_type": "execute_result"
    }
   ],
   "source": [
    "from IPython.display import Image\n",
    "\n",
    "Image(abot.graph.get_graph().draw_png())"
   ]
  },
  {
   "cell_type": "code",
   "execution_count": 51,
   "metadata": {},
   "outputs": [
    {
     "name": "stdout",
     "output_type": "stream",
     "text": [
      "Calling: {'name': 'tavily_search_results_json', 'args': {'query': 'weather forecast Utrecht Sunday'}, 'id': 'call_Lmkdc0ww8j1eiBFhWE7qy2tg', 'type': 'tool_call'}\n",
      "Back to the model!\n",
      "{'messages': [HumanMessage(content='What is the weather in utrecht this sunday?', additional_kwargs={}, response_metadata={}), AIMessage(content='', additional_kwargs={'tool_calls': [{'id': 'call_Lmkdc0ww8j1eiBFhWE7qy2tg', 'function': {'arguments': '{\"query\":\"weather forecast Utrecht Sunday\"}', 'name': 'tavily_search_results_json'}, 'type': 'function'}], 'refusal': None}, response_metadata={'token_usage': {'completion_tokens': 22, 'prompt_tokens': 311, 'total_tokens': 333, 'completion_tokens_details': {'audio_tokens': None, 'reasoning_tokens': 0}, 'prompt_tokens_details': {'audio_tokens': None, 'cached_tokens': 0}}, 'model_name': 'gpt-3.5-turbo-0125', 'system_fingerprint': None, 'finish_reason': 'tool_calls', 'logprobs': None}, id='run-3c09246c-dec2-4773-9387-2ab8d9a1e34d-0', tool_calls=[{'name': 'tavily_search_results_json', 'args': {'query': 'weather forecast Utrecht Sunday'}, 'id': 'call_Lmkdc0ww8j1eiBFhWE7qy2tg', 'type': 'tool_call'}], usage_metadata={'input_tokens': 311, 'output_tokens': 22, 'total_tokens': 333, 'input_token_details': {'cache_read': 0}, 'output_token_details': {'reasoning': 0}}), ToolMessage(content='[{\\'url\\': \\'https://www.weatherapi.com/\\', \\'content\\': \"{\\'location\\': {\\'name\\': \\'Utrecht\\', \\'region\\': \\'Utrecht\\', \\'country\\': \\'Netherlands\\', \\'lat\\': 52.0908, \\'lon\\': 5.1222, \\'tz_id\\': \\'Europe/Amsterdam\\', \\'localtime_epoch\\': 1730060432, \\'localtime\\': \\'2024-10-27 21:20\\'}, \\'current\\': {\\'last_updated_epoch\\': 1730060100, \\'last_updated\\': \\'2024-10-27 21:15\\', \\'temp_c\\': 9.3, \\'temp_f\\': 48.7, \\'is_day\\': 0, \\'condition\\': {\\'text\\': \\'Partly cloudy\\', \\'icon\\': \\'//cdn.weatherapi.com/weather/64x64/night/116.png\\', \\'code\\': 1003}, \\'wind_mph\\': 2.5, \\'wind_kph\\': 4.0, \\'wind_degree\\': 244, \\'wind_dir\\': \\'WSW\\', \\'pressure_mb\\': 1024.0, \\'pressure_in\\': 30.24, \\'precip_mm\\': 0.0, \\'precip_in\\': 0.0, \\'humidity\\': 93, \\'cloud\\': 25, \\'feelslike_c\\': 9.3, \\'feelslike_f\\': 48.8, \\'windchill_c\\': 10.5, \\'windchill_f\\': 50.9, \\'heatindex_c\\': 10.4, \\'heatindex_f\\': 50.7, \\'dewpoint_c\\': 8.4, \\'dewpoint_f\\': 47.1, \\'vis_km\\': 10.0, \\'vis_miles\\': 6.0, \\'uv\\': 0.0, \\'gust_mph\\': 5.1, \\'gust_kph\\': 8.2}}\"}, {\\'url\\': \\'https://www.timeanddate.com/weather/@2745912/ext\\', \\'content\\': \\'Utrecht 14 Day Extended Forecast. Weather Today Weather Hourly 14 Day Forecast Yesterday/Past Weather Climate (Averages) Currently: 75 °F. Overcast.\\'}, {\\'url\\': \\'https://www.easeweather.com/europe/netherlands/utrecht\\', \\'content\\': \"Discover the latest weather forecast for Utrecht, featuring daily and 14-day long-range predictions. View detailed, interactive graphs and click for in-depth information on each day\\'s weather in Utrecht. Units °C °F. Utrecht. Forecast Today Tomorrow. more. Netherlands United States. ... 27. 11 ° 28. 12 ° 29. 13 ° 30. 14 °\"}, {\\'url\\': \\'https://www.timeanddate.com/weather/netherlands/utrecht/ext\\', \\'content\\': \\'Utrecht 14 Day Extended Forecast. Time/General. Time Zone. DST Changes. Sun & Moon. Weather Today Weather Hourly 14 Day Forecast Yesterday/Past Weather Climate (Averages) Currently: 60 °F. Overcast. (Weather station: De Bilt, Netherlands).\\'}]', name='tavily_search_results_json', tool_call_id='call_Lmkdc0ww8j1eiBFhWE7qy2tg'), AIMessage(content='I found the weather forecast for Utrecht this Sunday. It is expected to be partly cloudy with a temperature of around 9.3°C (48.7°F).', additional_kwargs={'refusal': None}, response_metadata={'token_usage': {'completion_tokens': 35, 'prompt_tokens': 1006, 'total_tokens': 1041, 'completion_tokens_details': {'audio_tokens': None, 'reasoning_tokens': 0}, 'prompt_tokens_details': {'audio_tokens': None, 'cached_tokens': 0}}, 'model_name': 'gpt-3.5-turbo-0125', 'system_fingerprint': None, 'finish_reason': 'stop', 'logprobs': None}, id='run-919d6dce-a4ff-4afd-bf5e-c333f4c324c1-0', usage_metadata={'input_tokens': 1006, 'output_tokens': 35, 'total_tokens': 1041, 'input_token_details': {'cache_read': 0}, 'output_token_details': {'reasoning': 0}})]}\n"
     ]
    },
    {
     "data": {
      "text/plain": [
       "'I found the weather forecast for Utrecht this Sunday. It is expected to be partly cloudy with a temperature of around 9.3°C (48.7°F).'"
      ]
     },
     "execution_count": 51,
     "metadata": {},
     "output_type": "execute_result"
    }
   ],
   "source": [
    "messages = [HumanMessage(content=\"What is the weather in utrecht this sunday?\")]\n",
    "messages = abot.graph.invoke({\"messages\": messages})\n",
    "print(messages)\n",
    "messages[\"messages\"][-1].content"
   ]
  },
  {
   "cell_type": "code",
   "execution_count": 52,
   "metadata": {},
   "outputs": [
    {
     "name": "stdout",
     "output_type": "stream",
     "text": [
      "Calling: {'name': 'stoic_collection_search', 'args': {'query': 'shitty life'}, 'id': 'call_71AtBl4jTqZGyR9wzx0igK4U', 'type': 'tool_call'}\n",
      "Back to the model!\n",
      "{'messages': [HumanMessage(content='Shitty life', additional_kwargs={}, response_metadata={}), AIMessage(content='', additional_kwargs={'tool_calls': [{'id': 'call_71AtBl4jTqZGyR9wzx0igK4U', 'function': {'arguments': '{\"query\":\"shitty life\"}', 'name': 'stoic_collection_search'}, 'type': 'function'}], 'refusal': None}, response_metadata={'token_usage': {'completion_tokens': 19, 'prompt_tokens': 305, 'total_tokens': 324, 'completion_tokens_details': {'audio_tokens': None, 'reasoning_tokens': 0}, 'prompt_tokens_details': {'audio_tokens': None, 'cached_tokens': 0}}, 'model_name': 'gpt-3.5-turbo-0125', 'system_fingerprint': None, 'finish_reason': 'tool_calls', 'logprobs': None}, id='run-7b1ee023-de3d-4518-9cde-c361314dedc4-0', tool_calls=[{'name': 'stoic_collection_search', 'args': {'query': 'shitty life'}, 'id': 'call_71AtBl4jTqZGyR9wzx0igK4U', 'type': 'tool_call'}], usage_metadata={'input_tokens': 305, 'output_tokens': 19, 'total_tokens': 324, 'input_token_details': {'cache_read': 0}, 'output_token_details': {'reasoning': 0}}), ToolMessage(content=\"{'ids': [[]], 'embeddings': None, 'documents': [[]], 'uris': None, 'data': None, 'metadatas': [[]], 'distances': [[]], 'included': [<IncludeEnum.distances: 'distances'>, <IncludeEnum.documents: 'documents'>, <IncludeEnum.metadatas: 'metadatas'>]}\", name='stoic_collection_search', tool_call_id='call_71AtBl4jTqZGyR9wzx0igK4U'), AIMessage(content='I couldn\\'t find a specific quote related to \"shitty life\" in the Stoic collection. Would you like me to search the web for some advice or information on dealing with difficult situations in life?', additional_kwargs={'refusal': None}, response_metadata={'token_usage': {'completion_tokens': 42, 'prompt_tokens': 410, 'total_tokens': 452, 'completion_tokens_details': {'audio_tokens': None, 'reasoning_tokens': 0}, 'prompt_tokens_details': {'audio_tokens': None, 'cached_tokens': 0}}, 'model_name': 'gpt-3.5-turbo-0125', 'system_fingerprint': None, 'finish_reason': 'stop', 'logprobs': None}, id='run-f4a0ddc7-f068-40b8-a242-e35722f53769-0', usage_metadata={'input_tokens': 410, 'output_tokens': 42, 'total_tokens': 452, 'input_token_details': {'cache_read': 0}, 'output_token_details': {'reasoning': 0}})]}\n"
     ]
    },
    {
     "data": {
      "text/plain": [
       "'I couldn\\'t find a specific quote related to \"shitty life\" in the Stoic collection. Would you like me to search the web for some advice or information on dealing with difficult situations in life?'"
      ]
     },
     "execution_count": 52,
     "metadata": {},
     "output_type": "execute_result"
    }
   ],
   "source": [
    "messages = [HumanMessage(content=\"Shitty life\")]\n",
    "messages = abot.graph.invoke({\"messages\": messages})\n",
    "print(messages)\n",
    "messages[\"messages\"][-1].content"
   ]
  },
  {
   "cell_type": "code",
   "execution_count": 53,
   "metadata": {},
   "outputs": [
    {
     "name": "stdout",
     "output_type": "stream",
     "text": [
      "Calling: {'name': 'stoic_collection_search', 'args': {'query': 'good morals and self-control'}, 'id': 'call_1YHWJhdYuz4gJmfnnWIgTVAE', 'type': 'tool_call'}\n",
      "Back to the model!\n",
      "{'messages': [HumanMessage(content='I want to learn good morals and the government of my temper', additional_kwargs={}, response_metadata={}), AIMessage(content='', additional_kwargs={'tool_calls': [{'id': 'call_1YHWJhdYuz4gJmfnnWIgTVAE', 'function': {'arguments': '{\"query\":\"good morals and self-control\"}', 'name': 'stoic_collection_search'}, 'type': 'function'}], 'refusal': None}, response_metadata={'token_usage': {'completion_tokens': 21, 'prompt_tokens': 314, 'total_tokens': 335, 'completion_tokens_details': {'audio_tokens': None, 'reasoning_tokens': 0}, 'prompt_tokens_details': {'audio_tokens': None, 'cached_tokens': 0}}, 'model_name': 'gpt-3.5-turbo-0125', 'system_fingerprint': None, 'finish_reason': 'tool_calls', 'logprobs': None}, id='run-73089ce6-e66e-473f-815a-c8a6e0eb9965-0', tool_calls=[{'name': 'stoic_collection_search', 'args': {'query': 'good morals and self-control'}, 'id': 'call_1YHWJhdYuz4gJmfnnWIgTVAE', 'type': 'tool_call'}], usage_metadata={'input_tokens': 314, 'output_tokens': 21, 'total_tokens': 335, 'input_token_details': {'cache_read': 0}, 'output_token_details': {'reasoning': 0}}), ToolMessage(content=\"{'ids': [[]], 'embeddings': None, 'documents': [[]], 'uris': None, 'data': None, 'metadatas': [[]], 'distances': [[]], 'included': [<IncludeEnum.distances: 'distances'>, <IncludeEnum.documents: 'documents'>, <IncludeEnum.metadatas: 'metadatas'>]}\", name='stoic_collection_search', tool_call_id='call_1YHWJhdYuz4gJmfnnWIgTVAE'), AIMessage(content=\"I couldn't find a specific quote on good morals and self-control in the Stoic collection. Would you like me to search the web for information on this topic?\", additional_kwargs={'refusal': None}, response_metadata={'token_usage': {'completion_tokens': 34, 'prompt_tokens': 421, 'total_tokens': 455, 'completion_tokens_details': {'audio_tokens': None, 'reasoning_tokens': 0}, 'prompt_tokens_details': {'audio_tokens': None, 'cached_tokens': 0}}, 'model_name': 'gpt-3.5-turbo-0125', 'system_fingerprint': None, 'finish_reason': 'stop', 'logprobs': None}, id='run-6c1ca672-4b38-4e0b-a513-6de9770515b6-0', usage_metadata={'input_tokens': 421, 'output_tokens': 34, 'total_tokens': 455, 'input_token_details': {'cache_read': 0}, 'output_token_details': {'reasoning': 0}})]}\n"
     ]
    },
    {
     "data": {
      "text/plain": [
       "\"I couldn't find a specific quote on good morals and self-control in the Stoic collection. Would you like me to search the web for information on this topic?\""
      ]
     },
     "execution_count": 53,
     "metadata": {},
     "output_type": "execute_result"
    }
   ],
   "source": [
    "messages = [\n",
    "    HumanMessage(content=\"I want to learn good morals and the government of my temper\")\n",
    "]\n",
    "messages = abot.graph.invoke({\"messages\": messages})\n",
    "print(messages)\n",
    "messages[\"messages\"][-1].content"
   ]
  },
  {
   "cell_type": "code",
   "execution_count": 54,
   "metadata": {},
   "outputs": [
    {
     "name": "stdout",
     "output_type": "stream",
     "text": [
      "Calling: {'name': 'tavily_search_results_json', 'args': {'query': 'Aomine Daiki'}, 'id': 'call_TsGhRpsdlpfCCKJAk5dRhr94', 'type': 'tool_call'}\n",
      "Back to the model!\n",
      "{'messages': [HumanMessage(content='Who is Aomine Daiki?', additional_kwargs={}, response_metadata={}), AIMessage(content='', additional_kwargs={'tool_calls': [{'id': 'call_TsGhRpsdlpfCCKJAk5dRhr94', 'function': {'arguments': '{\"query\":\"Aomine Daiki\"}', 'name': 'tavily_search_results_json'}, 'type': 'function'}], 'refusal': None}, response_metadata={'token_usage': {'completion_tokens': 22, 'prompt_tokens': 310, 'total_tokens': 332, 'completion_tokens_details': {'audio_tokens': None, 'reasoning_tokens': 0}, 'prompt_tokens_details': {'audio_tokens': None, 'cached_tokens': 0}}, 'model_name': 'gpt-3.5-turbo-0125', 'system_fingerprint': None, 'finish_reason': 'tool_calls', 'logprobs': None}, id='run-064eed88-4a55-4f2d-a584-ed9452010905-0', tool_calls=[{'name': 'tavily_search_results_json', 'args': {'query': 'Aomine Daiki'}, 'id': 'call_TsGhRpsdlpfCCKJAk5dRhr94', 'type': 'tool_call'}], usage_metadata={'input_tokens': 310, 'output_tokens': 22, 'total_tokens': 332, 'input_token_details': {'cache_read': 0}, 'output_token_details': {'reasoning': 0}}), ToolMessage(content='[{\\'url\\': \\'https://kurokonobasuke.fandom.com/wiki/Daiki_Aomine\\', \\'content\\': \"Daiki Aomine (青峰 大輝 Aomine Daiki) was the ace player of the renowned Generation of Miracles and was the former partner/light of Tetsuya Kuroko in Teikō Junior High. After hearing a benched teammate insult Tetsuya Kuroko and his style of play during a match against Seirin High, Aomine did not hesitate to slam him against the lockers and warn that he, as someone who couldn\\'t even earn a spot on the court, had no right to comment on the players\\' performances.[5] Aomine was similarly protective over Ryōta Kise following his match against Fukuda Sōgō Academy, as he chose to wait outside the venue to prevent Shōgo Haizaki from causing any further trouble for Kise or his team.[6]\"}, {\\'url\\': \\'https://myanimelist.net/character/36820/Daiki_Aomine\\', \\'content\\': \\'Daiki Aomine (Kuroko no Basket) - MyAnimeList.net Anime Top Anime Support Kuroko no Basket add Supporting Kuroko no Basket NG-shuu add Supporting Kuroko no Basket 2nd Season add Supporting Kuroko no Basket: Tip Off add Supporting Kuroko no Basket: Oshaberi Shiyokka add Supporting Kuroko no Basket 2nd Season NG-shuu add Supporting Kuroko no Basket 3rd Season add Supporting Kuroko no Basket 3rd Season NG-shuu add Supporting Kuroko no Basket Movie 4: Last Game add Supporting add Supporting Kuroko no Basket: Oshaberi Shiyou ka add Supporting Kuroko no Basket add Supporting Kuroko no Basket: Replace add Supporting Kuroko no Basket: Extra Game Kuroko no Basket: Replace Plus In his second year in middle school, Aomine inspired Kise to play basketball and he became his training partner.\\'}, {\\'url\\': \\'https://gamerant.com/kurokos-basketball-every-main-characters-age-height-birthday/\\', \\'content\\': \"8 Daiki Aomine Aomine is the former ace of the Generation of Miracles. He plays as a power forward for Tōō academy\\'s basketball team. Aomine is one of the\"}, {\\'url\\': \\'https://www.behindthevoiceactors.com/tv-shows/Kurokos-Basketball/Daiki-Aomine/\\', \\'content\\': \"Daiki Aomine Benjamin Diskin is the English dub voice of Daiki Aomine in Kuroko\\'s Basketball, and Junichi Suwabe is the Japanese voice. TV Show: Kuroko\\'s Basketball Franchise: Kuroko\\'s Basketball\"}]', name='tavily_search_results_json', tool_call_id='call_TsGhRpsdlpfCCKJAk5dRhr94'), AIMessage(content='Aomine Daiki is a character from the anime series \"Kuroko no Basket.\" He was the ace player of the renowned Generation of Miracles and the former partner of Tetsuya Kuroko in Teikō Junior High. Aomine is known for his strong skills and protective nature towards his teammates.', additional_kwargs={'refusal': None}, response_metadata={'token_usage': {'completion_tokens': 66, 'prompt_tokens': 939, 'total_tokens': 1005, 'completion_tokens_details': {'audio_tokens': None, 'reasoning_tokens': 0}, 'prompt_tokens_details': {'audio_tokens': None, 'cached_tokens': 0}}, 'model_name': 'gpt-3.5-turbo-0125', 'system_fingerprint': None, 'finish_reason': 'stop', 'logprobs': None}, id='run-5385db08-09f9-48de-bd88-2eda7f2a638e-0', usage_metadata={'input_tokens': 939, 'output_tokens': 66, 'total_tokens': 1005, 'input_token_details': {'cache_read': 0}, 'output_token_details': {'reasoning': 0}})]}\n"
     ]
    },
    {
     "data": {
      "text/plain": [
       "'Aomine Daiki is a character from the anime series \"Kuroko no Basket.\" He was the ace player of the renowned Generation of Miracles and the former partner of Tetsuya Kuroko in Teikō Junior High. Aomine is known for his strong skills and protective nature towards his teammates.'"
      ]
     },
     "execution_count": 54,
     "metadata": {},
     "output_type": "execute_result"
    }
   ],
   "source": [
    "messages = [HumanMessage(content=\"Who is Aomine Daiki?\")]\n",
    "messages = abot.graph.invoke({\"messages\": messages})\n",
    "print(messages)\n",
    "messages[\"messages\"][-1].content"
   ]
  },
  {
   "cell_type": "code",
   "execution_count": 55,
   "metadata": {},
   "outputs": [
    {
     "name": "stdout",
     "output_type": "stream",
     "text": [
      "Calling: {'name': 'tavily_search_results_json', 'args': {'query': 'Naruto Uzumaki age'}, 'id': 'call_DKhFSyZD4r2If39D7FjguR0T', 'type': 'tool_call'}\n",
      "Back to the model!\n",
      "{'messages': [HumanMessage(content='How old is Naruto Uzumaki?', additional_kwargs={}, response_metadata={}), AIMessage(content='', additional_kwargs={'tool_calls': [{'id': 'call_DKhFSyZD4r2If39D7FjguR0T', 'function': {'arguments': '{\"query\":\"Naruto Uzumaki age\"}', 'name': 'tavily_search_results_json'}, 'type': 'function'}], 'refusal': None}, response_metadata={'token_usage': {'completion_tokens': 25, 'prompt_tokens': 311, 'total_tokens': 336, 'completion_tokens_details': {'audio_tokens': None, 'reasoning_tokens': 0}, 'prompt_tokens_details': {'audio_tokens': None, 'cached_tokens': 0}}, 'model_name': 'gpt-3.5-turbo-0125', 'system_fingerprint': None, 'finish_reason': 'tool_calls', 'logprobs': None}, id='run-84fb3d18-ad30-4517-9034-d94b501b35b8-0', tool_calls=[{'name': 'tavily_search_results_json', 'args': {'query': 'Naruto Uzumaki age'}, 'id': 'call_DKhFSyZD4r2If39D7FjguR0T', 'type': 'tool_call'}], usage_metadata={'input_tokens': 311, 'output_tokens': 25, 'total_tokens': 336, 'input_token_details': {'cache_read': 0}, 'output_token_details': {'reasoning': 0}}), ToolMessage(content='[{\\'url\\': \\'https://wegotthiscovered.com/anime/how-old-is-naruto-naruto-uzumakis-age-throughout-his-namesake-franchise-explained/\\', \\'content\\': \\'How Old Is Naruto? How old is Naruto? Naruto Uzumaki starts off his long journey as a tween, 12 years old to be exact. Airing from 2002 to 2007, the first part of the Naruto series showcases the protagonist as a pre-teen, from 12 to 13 years old. By the end of this arc, Naruto and Jiraya begin their return trip to the Leaf Village after nearly three years away. By the end, Naruto is 17 years old and has undergone an epic journey from zero to hero. In The Last: Naruto the Movie But the majority of the main action takes place two years after the events of the Great Ninja War, which makes Naruto and most of his friends 19 years old.\\'}, {\\'url\\': \\'https://fantasytopics.com/how-old-naruto-characters-ages-birthdays/\\', \\'content\\': \\'From Naruto Uzumaki’s boundless energy to Sasuke Uchiha’s brooding wisdom, from Sakura Haruno’s unyielding spirit to the vast pantheon of characters that breathe life into this universe, we bring you a comprehensive ages and birthdays chart. Naruto Uzumaki – October 10th By the time he comes back from training Naruto for 2 years at the beginning of part 2, Jiraiya is 54 years old. Sasuke Uchiha is 12 years old at the beginning of Naruto, turning 13 before its end. Kakashi’s main role in part 1 is as the leader of Team 7, teaching Naruto, Sasuke, and Sakura the value of teamwork. Her descendency from 2 powerful Konoha clans (the Senju and Uzumaki clans) makes Tsunade one of the most powerful ninjas in the whole of the Naruto world.\\'}, {\\'url\\': \\'https://collider.com/naruto-age-timeline-explained/\\', \\'content\\': \"![Image 3: Different ages of Naruto in front of the series logo and the Hidden Leaf Vilage](https://static1.colliderimages.com/wordpress/wp-content/uploads/2021/11/Naruto%E2%80%99s-Age-Timeline.jpg) Naruto\\'s age spans across the three series: he starts as a young boy at 12, becomes 16 during a major arc, and ends as a 17-year-old after the fourth great ninja war. Naruto Grows Up Throughout The Series and Movies in the Franchise In 2014 The Last: Naruto the Movie was released. [![Image 6: NARUTO-MOVIES-IN-ORDER](https://static1.colliderimages.com/wordpress/wp-content/uploads/2021/08/NARUTO-MOVIES-IN-ORDER.jpg)](https://collider.com/naruto-movies-in-order-how-to-watch/) [![Image 8: Timon Pumba and Simba walking across a log in the moonlight in The Lion King](https://static1.colliderimages.com/wordpress/wp-content/uploads/2024/06/the-lion-king.jpg)](https://collider.com/original-movies-better-than-remakes/) [![Image 9: Best-Indie-Movies-With-Great-Acting-Ranked](https://static1.colliderimages.com/wordpress/wp-content/uploads/2024/10/the-10-best-indie-movies-with-great-acting-ranked.jpg)](https://collider.com/best-indie-movies-great-acting-ranked/) [![Image 10: Wish-Upon](https://static1.colliderimages.com/wordpress/wp-content/uploads/2024/10/wish-upon.jpg)](https://collider.com/worst-movies-confusing/) ](https://static1.colliderimages.com/wordpress/wp-content/uploads/2024/05/frodo-one-ring-return-of-the-king-lotr.jpeg)](https://collider.com/voyage-and-return-movies-best-ranked/) [![Image 12: Best-Movies-on-Netflix](https://collider.com/naruto-age-timeline-explained/)](https://collider.com/best-movies-on-netflix-streaming/) [![Image 14: bat-family-featured](https://static1.colliderimages.com/wordpress/wp-content/uploads/2023/10/bat-family-featured.jpg)](https://collider.com/bat-family-members-ranked/) [![Image 15: Keke Palmer and SZA standing on the street in the trailer for One of them Days](https://static1.colliderimages.com/wordpress/wp-content/uploads/2024/10/one-of-them-days-trailer.png)](https://collider.com/one-of-them-days-trailer-keke-palmer/)\"}, {\\'url\\': \\'https://en.wikipedia.org/wiki/Naruto_Uzumaki\\', \\'content\\': \\'Naruto Uzumaki (Japanese: うずまき ナルト, Hepburn: Uzumaki Naruto) (/ ˈnɑːrutoʊ /) is the titular protagonist of the manga Naruto, created by Masashi Kishimoto. He is a ninja from the fictional Hidden Leaf Village (Japanese: 木ノ葉隠れ, Hepburn: konohagakure).\\'}]', name='tavily_search_results_json', tool_call_id='call_DKhFSyZD4r2If39D7FjguR0T'), AIMessage(content='Naruto Uzumaki starts off his long journey as a tween, 12 years old to be exact. By the end of the first arc, Naruto is 17 years old. However, the majority of the main action takes place two years after the events of the Great Ninja War, making Naruto and most of his friends 19 years old.', additional_kwargs={'refusal': None}, response_metadata={'token_usage': {'completion_tokens': 73, 'prompt_tokens': 1491, 'total_tokens': 1564, 'completion_tokens_details': {'audio_tokens': None, 'reasoning_tokens': 0}, 'prompt_tokens_details': {'audio_tokens': None, 'cached_tokens': 0}}, 'model_name': 'gpt-3.5-turbo-0125', 'system_fingerprint': None, 'finish_reason': 'stop', 'logprobs': None}, id='run-fee44914-fee8-47b4-9517-724bcced8c27-0', usage_metadata={'input_tokens': 1491, 'output_tokens': 73, 'total_tokens': 1564, 'input_token_details': {'cache_read': 0}, 'output_token_details': {'reasoning': 0}})]}\n"
     ]
    },
    {
     "data": {
      "text/plain": [
       "'Naruto Uzumaki starts off his long journey as a tween, 12 years old to be exact. By the end of the first arc, Naruto is 17 years old. However, the majority of the main action takes place two years after the events of the Great Ninja War, making Naruto and most of his friends 19 years old.'"
      ]
     },
     "execution_count": 55,
     "metadata": {},
     "output_type": "execute_result"
    }
   ],
   "source": [
    "messages = [HumanMessage(content=\"How old is Naruto Uzumaki?\")]\n",
    "messages = abot.graph.invoke({\"messages\": messages})\n",
    "print(messages)\n",
    "messages[\"messages\"][-1].content"
   ]
  },
  {
   "cell_type": "code",
   "execution_count": 56,
   "metadata": {},
   "outputs": [
    {
     "name": "stdout",
     "output_type": "stream",
     "text": [
      "Calling: {'name': 'tavily_search_results_json', 'args': {'query': 'train delay between Amsterdam and Zandvoort today'}, 'id': 'call_gBptQgDdJNe8c9mOHIG3f4cW', 'type': 'tool_call'}\n",
      "Back to the model!\n",
      "{'messages': [HumanMessage(content='What happened today with trains between amsterdam and zandfoord?', additional_kwargs={}, response_metadata={}), AIMessage(content='', additional_kwargs={'tool_calls': [{'id': 'call_gBptQgDdJNe8c9mOHIG3f4cW', 'function': {'arguments': '{\"query\":\"train delay between Amsterdam and Zandvoort today\"}', 'name': 'tavily_search_results_json'}, 'type': 'function'}], 'refusal': None}, response_metadata={'token_usage': {'completion_tokens': 27, 'prompt_tokens': 315, 'total_tokens': 342, 'completion_tokens_details': {'audio_tokens': None, 'reasoning_tokens': 0}, 'prompt_tokens_details': {'audio_tokens': None, 'cached_tokens': 0}}, 'model_name': 'gpt-3.5-turbo-0125', 'system_fingerprint': None, 'finish_reason': 'tool_calls', 'logprobs': None}, id='run-6a825333-4dc6-43ad-8060-95da3c4d57ce-0', tool_calls=[{'name': 'tavily_search_results_json', 'args': {'query': 'train delay between Amsterdam and Zandvoort today'}, 'id': 'call_gBptQgDdJNe8c9mOHIG3f4cW', 'type': 'tool_call'}], usage_metadata={'input_tokens': 315, 'output_tokens': 27, 'total_tokens': 342, 'input_token_details': {'cache_read': 0}, 'output_token_details': {'reasoning': 0}}), ToolMessage(content=\"[{'url': 'https://www.rome2rio.com/Train/Amsterdam/Zandvoort', 'content': 'Trains run hourly between Amsterdam and Zandvoort. The service departs Amsterdam at 23:41 at night, which arrives into Zandvoort at 00:13. All services run direct with no transfers required, and take on average 30 min. The schedules shown below are for the next available departures.'}, {'url': 'https://www.rome2rio.com/Train/Amsterdam-Centraal-Station/Zandvoort', 'content': 'Trains run hourly between Amsterdam, Centraal Station and Zandvoort. The earliest departure is at 06:41 in the morning, and the last departure from Amsterdam, Centraal Station is at 23:41 which arrives into Zandvoort at 00:13. All services run direct with no transfers required, and take on average 30 min.'}, {'url': 'https://www.thetrainline.com/en-us/train-times/amsterdam-to-zandvoort-aan-zee', 'content': 'Keep reading for more information on the journey to Zandvoort aan Zee by train, including our train schedule where you can view first and last train times. Amsterdam to Zandvoort aan Zee by train It takes an average of 1h 10m to travel from Amsterdam to Zandvoort aan Zee by train, over a distance of around 16 miles (25 km).'}, {'url': 'https://www.raileurope.com/en-us/destinations/amsterdam-zandvoort-aan-zee-train', 'content': 'Find out how to travel by train from Amsterdam to Zandvoort aan Zee in 23 minutes, with prices starting from US$13.86. Compare train times, schedules, operators and book online with Rail Europe.'}]\", name='tavily_search_results_json', tool_call_id='call_gBptQgDdJNe8c9mOHIG3f4cW'), AIMessage(content=\"I couldn't find any specific information on train delays between Amsterdam and Zandvoort today. Trains usually run hourly between the two locations with an average travel time of 30 minutes.\", additional_kwargs={'refusal': None}, response_metadata={'token_usage': {'completion_tokens': 39, 'prompt_tokens': 753, 'total_tokens': 792, 'completion_tokens_details': {'audio_tokens': None, 'reasoning_tokens': 0}, 'prompt_tokens_details': {'audio_tokens': None, 'cached_tokens': 0}}, 'model_name': 'gpt-3.5-turbo-0125', 'system_fingerprint': None, 'finish_reason': 'stop', 'logprobs': None}, id='run-51f5c35d-1289-4efc-ae86-96c703287984-0', usage_metadata={'input_tokens': 753, 'output_tokens': 39, 'total_tokens': 792, 'input_token_details': {'cache_read': 0}, 'output_token_details': {'reasoning': 0}})]}\n"
     ]
    },
    {
     "data": {
      "text/plain": [
       "\"I couldn't find any specific information on train delays between Amsterdam and Zandvoort today. Trains usually run hourly between the two locations with an average travel time of 30 minutes.\""
      ]
     },
     "execution_count": 56,
     "metadata": {},
     "output_type": "execute_result"
    }
   ],
   "source": [
    "messages = [\n",
    "    HumanMessage(\n",
    "        content=\"What happened today with trains between amsterdam and zandfoord?\"\n",
    "    )\n",
    "]\n",
    "messages = abot.graph.invoke({\"messages\": messages})\n",
    "print(messages)\n",
    "messages[\"messages\"][-1].content"
   ]
  },
  {
   "cell_type": "code",
   "execution_count": null,
   "metadata": {},
   "outputs": [],
   "source": []
  },
  {
   "cell_type": "code",
   "execution_count": null,
   "metadata": {},
   "outputs": [],
   "source": []
  },
  {
   "cell_type": "code",
   "execution_count": null,
   "metadata": {},
   "outputs": [],
   "source": []
  },
  {
   "cell_type": "code",
   "execution_count": null,
   "metadata": {},
   "outputs": [],
   "source": []
  },
  {
   "cell_type": "markdown",
   "metadata": {},
   "source": [
    "LlamaIndex\n"
   ]
  },
  {
   "cell_type": "code",
   "execution_count": 57,
   "metadata": {},
   "outputs": [
    {
     "name": "stderr",
     "output_type": "stream",
     "text": [
      "/Users/dmitrykutsev/repos/learn_langgraph/.venv/lib/python3.11/site-packages/tqdm/auto.py:21: TqdmWarning: IProgress not found. Please update jupyter and ipywidgets. See https://ipywidgets.readthedocs.io/en/stable/user_install.html\n",
      "  from .autonotebook import tqdm as notebook_tqdm\n",
      "None of PyTorch, TensorFlow >= 2.0, or Flax have been found. Models won't be available and only tokenizers, configuration and file/data utilities can be used.\n"
     ]
    }
   ],
   "source": [
    "from llama_index.core.agent import ReActAgent\n",
    "from llama_index.core.tools import FunctionTool\n",
    "from llama_index.llms.together import TogetherLLM"
   ]
  },
  {
   "cell_type": "code",
   "execution_count": 58,
   "metadata": {},
   "outputs": [],
   "source": [
    "llm = TogetherLLM(\n",
    "    model=CURR_LLM_MODEL,\n",
    "    api_key=TOGETHER_API_KEY,\n",
    ")"
   ]
  },
  {
   "cell_type": "code",
   "execution_count": 59,
   "metadata": {},
   "outputs": [],
   "source": [
    "def li_stoic_collection_search(query, n_results=4) -> dict:\n",
    "    \"\"\"\n",
    "    Searches a stoic quote in a collection. Use when needed advice on an emotional or life-relational situation.\n",
    "    The closest quote is the answer.cUse only the quote without changing.\n",
    "    The response should begin with ‘Here is what Marcus Aurelius had to say on this matter.’”\n",
    "    \"\"\"\n",
    "\n",
    "    return collection.query(\n",
    "        query_texts=[query],\n",
    "        n_results=n_results,\n",
    "    )  # type: ignore"
   ]
  },
  {
   "cell_type": "code",
   "execution_count": 60,
   "metadata": {},
   "outputs": [],
   "source": [
    "def li_tavily_search(query, n_results=4) -> dict:\n",
    "    \"\"\"\n",
    "    Conduct a search on the topic of [user's query topic] and provide a concise, accurate summary based on the most relevant results\n",
    "    \"\"\"\n",
    "    return tavily_client.search(query, max_results=n_results)"
   ]
  },
  {
   "cell_type": "code",
   "execution_count": 61,
   "metadata": {},
   "outputs": [],
   "source": [
    "li_tavily_tool = FunctionTool.from_defaults(fn=li_tavily_search)\n",
    "li_stoic_collection_tool = FunctionTool.from_defaults(fn=li_stoic_collection_search)"
   ]
  },
  {
   "cell_type": "code",
   "execution_count": 62,
   "metadata": {},
   "outputs": [],
   "source": [
    "agent = ReActAgent.from_tools(\n",
    "    [li_tavily_tool, li_stoic_collection_tool], llm=llm, verbose=True\n",
    ")"
   ]
  },
  {
   "cell_type": "code",
   "execution_count": 64,
   "metadata": {},
   "outputs": [
    {
     "name": "stdout",
     "output_type": "stream",
     "text": [
      "> Running step 98a9997f-e8f9-4498-b82b-b12cf4d012fb. Step input: How old is Naruto Uzumaki?\n",
      "\u001b[1;3;38;5;200mThought: The current language of the user is English. I need to use a tool to help me answer the question.\n",
      "Action: li_tavily_search\n",
      "Action Input: {'query': 'Naruto Uzumaki age', 'n_results': 1}\n",
      "\u001b[0m\u001b[1;3;34mObservation: {'query': 'Naruto Uzumaki age', 'follow_up_questions': None, 'answer': None, 'images': [], 'results': [{'title': \"How old is Naruto? Naruto Uzumaki's age throughout his namesake ...\", 'url': 'https://wegotthiscovered.com/anime/how-old-is-naruto-naruto-uzumakis-age-throughout-his-namesake-franchise-explained/', 'content': 'How Old Is Naruto? How old is Naruto? Naruto Uzumaki starts off his long journey as a tween, 12 years old to be exact. Airing from 2002 to 2007, the first part of the Naruto series showcases the protagonist as a pre-teen, from 12 to 13 years old. By the end of this arc, Naruto and Jiraya begin their return trip to the Leaf Village after nearly three years away. By the end, Naruto is 17 years old and has undergone an epic journey from zero to hero. In The Last: Naruto the Movie But the majority of the main action takes place two years after the events of the Great Ninja War, which makes Naruto and most of his friends 19 years old.', 'score': 0.9985335, 'raw_content': None}], 'response_time': 4.31}\n",
      "\u001b[0m> Running step 1107a1f1-7033-4987-8655-c05e193d8f11. Step input: None\n",
      "\u001b[1;3;38;5;200mThought: The search result provides information about Naruto's age at different points in the series. I need to extract the age information to answer the question.\n",
      "Action: li_tavily_search\n",
      "Action Input: {'query': 'Naruto Uzumaki age', 'n_results': 1}\n",
      "\u001b[0m\u001b[1;3;34mObservation: {'query': 'Naruto Uzumaki age', 'follow_up_questions': None, 'answer': None, 'images': [], 'results': [{'title': 'How Old Are the Naruto Characters? Ages & Birthdays Chart - Fantasy Topics', 'url': 'https://fantasytopics.com/how-old-naruto-characters-ages-birthdays/', 'content': 'From Naruto Uzumaki’s boundless energy to Sasuke Uchiha’s brooding wisdom, from Sakura Haruno’s unyielding spirit to the vast pantheon of characters that breathe life into this universe, we bring you a comprehensive ages and birthdays chart. Naruto Uzumaki – October 10th By the time he comes back from training Naruto for 2 years at the beginning of part 2, Jiraiya is 54 years old. Sasuke Uchiha is 12 years old at the beginning of Naruto, turning 13 before its end. Kakashi’s main role in part 1 is as the leader of Team 7, teaching Naruto, Sasuke, and Sakura the value of teamwork. Her descendency from 2 powerful Konoha clans (the Senju and Uzumaki clans) makes Tsunade one of the most powerful ninjas in the whole of the Naruto world.', 'score': 0.9983516, 'raw_content': None}], 'response_time': 3.8}\n",
      "\u001b[0m> Running step 2f00092b-ab84-4f24-9927-30608909cd7f. Step input: None\n",
      "\u001b[1;3;38;5;200mThought: The search result still doesn't provide a clear answer to the question. I need to extract the age information to answer the question.\n",
      "Action: li_tavily_search\n",
      "Action Input: {'query': 'Naruto Uzumaki age at the end of the series', 'n_results': 1}\n",
      "\u001b[0m\u001b[1;3;34mObservation: {'query': 'Naruto Uzumaki age at the end of the series', 'follow_up_questions': None, 'answer': None, 'images': [], 'results': [{'title': \"How old is Naruto? Naruto Uzumaki's age throughout his namesake ...\", 'url': 'https://wegotthiscovered.com/anime/how-old-is-naruto-naruto-uzumakis-age-throughout-his-namesake-franchise-explained/', 'content': 'How Old Is Naruto? How old is Naruto? Naruto Uzumaki starts off his long journey as a tween, 12 years old to be exact. Airing from 2002 to 2007, the first part of the Naruto series showcases the protagonist as a pre-teen, from 12 to 13 years old. By the end of this arc, Naruto and Jiraya begin their return trip to the Leaf Village after nearly three years away. By the end, Naruto is 17 years old and has undergone an epic journey from zero to hero. In The Last: Naruto the Movie But the majority of the main action takes place two years after the events of the Great Ninja War, which makes Naruto and most of his friends 19 years old.', 'score': 0.9984573, 'raw_content': None}], 'response_time': 3.78}\n",
      "\u001b[0m> Running step 027bfab2-0eff-4807-88af-7c89f90bcaa8. Step input: None\n",
      "\u001b[1;3;38;5;200mThought: The search result provides information about Naruto's age at the end of the series. I can now answer the question.\n",
      "Thought: I can answer without using any more tools. I'll use the user's language to answer\n",
      "Answer: Naruto Uzumaki is 19 years old at the end of the series.\n",
      "\u001b[0m"
     ]
    },
    {
     "data": {
      "text/plain": [
       "AgentChatResponse(response='Naruto Uzumaki is 19 years old at the end of the series.', sources=[ToolOutput(content='{\\'query\\': \\'Naruto Uzumaki age\\', \\'follow_up_questions\\': None, \\'answer\\': None, \\'images\\': [], \\'results\\': [{\\'title\\': \"How old is Naruto? Naruto Uzumaki\\'s age throughout his namesake ...\", \\'url\\': \\'https://wegotthiscovered.com/anime/how-old-is-naruto-naruto-uzumakis-age-throughout-his-namesake-franchise-explained/\\', \\'content\\': \\'How Old Is Naruto? How old is Naruto? Naruto Uzumaki starts off his long journey as a tween, 12 years old to be exact. Airing from 2002 to 2007, the first part of the Naruto series showcases the protagonist as a pre-teen, from 12 to 13 years old. By the end of this arc, Naruto and Jiraya begin their return trip to the Leaf Village after nearly three years away. By the end, Naruto is 17 years old and has undergone an epic journey from zero to hero. In The Last: Naruto the Movie But the majority of the main action takes place two years after the events of the Great Ninja War, which makes Naruto and most of his friends 19 years old.\\', \\'score\\': 0.9985335, \\'raw_content\\': None}], \\'response_time\\': 4.31}', tool_name='li_tavily_search', raw_input={'args': (), 'kwargs': {'query': 'Naruto Uzumaki age', 'n_results': 1}}, raw_output={'query': 'Naruto Uzumaki age', 'follow_up_questions': None, 'answer': None, 'images': [], 'results': [{'title': \"How old is Naruto? Naruto Uzumaki's age throughout his namesake ...\", 'url': 'https://wegotthiscovered.com/anime/how-old-is-naruto-naruto-uzumakis-age-throughout-his-namesake-franchise-explained/', 'content': 'How Old Is Naruto? How old is Naruto? Naruto Uzumaki starts off his long journey as a tween, 12 years old to be exact. Airing from 2002 to 2007, the first part of the Naruto series showcases the protagonist as a pre-teen, from 12 to 13 years old. By the end of this arc, Naruto and Jiraya begin their return trip to the Leaf Village after nearly three years away. By the end, Naruto is 17 years old and has undergone an epic journey from zero to hero. In The Last: Naruto the Movie But the majority of the main action takes place two years after the events of the Great Ninja War, which makes Naruto and most of his friends 19 years old.', 'score': 0.9985335, 'raw_content': None}], 'response_time': 4.31}, is_error=False), ToolOutput(content=\"{'query': 'Naruto Uzumaki age', 'follow_up_questions': None, 'answer': None, 'images': [], 'results': [{'title': 'How Old Are the Naruto Characters? Ages & Birthdays Chart - Fantasy Topics', 'url': 'https://fantasytopics.com/how-old-naruto-characters-ages-birthdays/', 'content': 'From Naruto Uzumaki’s boundless energy to Sasuke Uchiha’s brooding wisdom, from Sakura Haruno’s unyielding spirit to the vast pantheon of characters that breathe life into this universe, we bring you a comprehensive ages and birthdays chart. Naruto Uzumaki – October 10th By the time he comes back from training Naruto for 2 years at the beginning of part 2, Jiraiya is 54 years old. Sasuke Uchiha is 12 years old at the beginning of Naruto, turning 13 before its end. Kakashi’s main role in part 1 is as the leader of Team 7, teaching Naruto, Sasuke, and Sakura the value of teamwork. Her descendency from 2 powerful Konoha clans (the Senju and Uzumaki clans) makes Tsunade one of the most powerful ninjas in the whole of the Naruto world.', 'score': 0.9983516, 'raw_content': None}], 'response_time': 3.8}\", tool_name='li_tavily_search', raw_input={'args': (), 'kwargs': {'query': 'Naruto Uzumaki age', 'n_results': 1}}, raw_output={'query': 'Naruto Uzumaki age', 'follow_up_questions': None, 'answer': None, 'images': [], 'results': [{'title': 'How Old Are the Naruto Characters? Ages & Birthdays Chart - Fantasy Topics', 'url': 'https://fantasytopics.com/how-old-naruto-characters-ages-birthdays/', 'content': 'From Naruto Uzumaki’s boundless energy to Sasuke Uchiha’s brooding wisdom, from Sakura Haruno’s unyielding spirit to the vast pantheon of characters that breathe life into this universe, we bring you a comprehensive ages and birthdays chart. Naruto Uzumaki – October 10th By the time he comes back from training Naruto for 2 years at the beginning of part 2, Jiraiya is 54 years old. Sasuke Uchiha is 12 years old at the beginning of Naruto, turning 13 before its end. Kakashi’s main role in part 1 is as the leader of Team 7, teaching Naruto, Sasuke, and Sakura the value of teamwork. Her descendency from 2 powerful Konoha clans (the Senju and Uzumaki clans) makes Tsunade one of the most powerful ninjas in the whole of the Naruto world.', 'score': 0.9983516, 'raw_content': None}], 'response_time': 3.8}, is_error=False), ToolOutput(content='{\\'query\\': \\'Naruto Uzumaki age at the end of the series\\', \\'follow_up_questions\\': None, \\'answer\\': None, \\'images\\': [], \\'results\\': [{\\'title\\': \"How old is Naruto? Naruto Uzumaki\\'s age throughout his namesake ...\", \\'url\\': \\'https://wegotthiscovered.com/anime/how-old-is-naruto-naruto-uzumakis-age-throughout-his-namesake-franchise-explained/\\', \\'content\\': \\'How Old Is Naruto? How old is Naruto? Naruto Uzumaki starts off his long journey as a tween, 12 years old to be exact. Airing from 2002 to 2007, the first part of the Naruto series showcases the protagonist as a pre-teen, from 12 to 13 years old. By the end of this arc, Naruto and Jiraya begin their return trip to the Leaf Village after nearly three years away. By the end, Naruto is 17 years old and has undergone an epic journey from zero to hero. In The Last: Naruto the Movie But the majority of the main action takes place two years after the events of the Great Ninja War, which makes Naruto and most of his friends 19 years old.\\', \\'score\\': 0.9984573, \\'raw_content\\': None}], \\'response_time\\': 3.78}', tool_name='li_tavily_search', raw_input={'args': (), 'kwargs': {'query': 'Naruto Uzumaki age at the end of the series', 'n_results': 1}}, raw_output={'query': 'Naruto Uzumaki age at the end of the series', 'follow_up_questions': None, 'answer': None, 'images': [], 'results': [{'title': \"How old is Naruto? Naruto Uzumaki's age throughout his namesake ...\", 'url': 'https://wegotthiscovered.com/anime/how-old-is-naruto-naruto-uzumakis-age-throughout-his-namesake-franchise-explained/', 'content': 'How Old Is Naruto? How old is Naruto? Naruto Uzumaki starts off his long journey as a tween, 12 years old to be exact. Airing from 2002 to 2007, the first part of the Naruto series showcases the protagonist as a pre-teen, from 12 to 13 years old. By the end of this arc, Naruto and Jiraya begin their return trip to the Leaf Village after nearly three years away. By the end, Naruto is 17 years old and has undergone an epic journey from zero to hero. In The Last: Naruto the Movie But the majority of the main action takes place two years after the events of the Great Ninja War, which makes Naruto and most of his friends 19 years old.', 'score': 0.9984573, 'raw_content': None}], 'response_time': 3.78}, is_error=False)], source_nodes=[], is_dummy_stream=False, metadata=None)"
      ]
     },
     "execution_count": 64,
     "metadata": {},
     "output_type": "execute_result"
    }
   ],
   "source": [
    "agent.chat(\"How old is Naruto Uzumaki?\")"
   ]
  },
  {
   "cell_type": "code",
   "execution_count": 92,
   "metadata": {},
   "outputs": [
    {
     "name": "stdout",
     "output_type": "stream",
     "text": [
      "> Running step a362c71c-530b-4e55-9a56-c4c834c15ee2. Step input: Shitty life! How to change it???\n",
      "\u001b[1;3;38;5;200mThought: The current language of the user is: English. I need to use a tool to help me answer the question.\n",
      "Action: li_stoic_collection_search\n",
      "Action Input: {'query': 'change a shitty life', 'n_results': 1}\n",
      "\u001b[0m\u001b[1;3;34mObservation: {'ids': [[]], 'embeddings': None, 'documents': [[]], 'uris': None, 'data': None, 'metadatas': [[]], 'distances': [[]], 'included': [<IncludeEnum.distances: 'distances'>, <IncludeEnum.documents: 'documents'>, <IncludeEnum.metadatas: 'metadatas'>]}\n",
      "\u001b[0m> Running step 71f7aa6c-d1aa-4e89-81fd-099a0c145bdc. Step input: None\n",
      "\u001b[1;3;38;5;200mThought: The previous tool response was not what I expected. I'll try again with a different tool.\n",
      "Action: li_tavily_search\n",
      "Action Input: {'query': 'change a shitty life', 'n_results': 1}\n",
      "\u001b[0m\u001b[1;3;34mObservation: {'query': 'change a shitty life', 'follow_up_questions': None, 'answer': None, 'images': [], 'results': [{'title': '24 Things You Can Do To Change Your Life For The Better', 'url': 'https://www.aconsciousrethink.com/17056/how-to-change-your-life/', 'content': '24 Things You Can Do To Change Your Life For The Better But for most people, changing life for the better simply means making a number of important changes. Consult a life coach to help you make the changes you feel you need to make in your life. Use the list of tips that follows to write down all the things you need or want to change about your life as it is now. This alone will help change your life for the better, and you’ll feel absolutely incredible when you finally achieve your dream. If you’re constantly saying things like “I feel like crap” or “I’m exhausted all the time,” then your subconscious will strive to make that a reality.', 'score': 0.45598578, 'raw_content': None}], 'response_time': 3.41}\n",
      "\u001b[0m> Running step 8a61b280-6b6e-4795-b4ee-56f2659e1cd8. Step input: None\n",
      "\u001b[1;3;38;5;200mThought: I can answer without using any more tools. I'll use the user's language to answer\n",
      "Answer: It seems like you're feeling stuck in a difficult situation. To change your life for the better, consider making a list of the things you want to change and consult a life coach for guidance. Sometimes, just acknowledging what needs to be changed can be a powerful step towards making positive changes.\n",
      "\u001b[0m"
     ]
    },
    {
     "data": {
      "text/plain": [
       "AgentChatResponse(response=\"It seems like you're feeling stuck in a difficult situation. To change your life for the better, consider making a list of the things you want to change and consult a life coach for guidance. Sometimes, just acknowledging what needs to be changed can be a powerful step towards making positive changes.\", sources=[ToolOutput(content=\"{'ids': [[]], 'embeddings': None, 'documents': [[]], 'uris': None, 'data': None, 'metadatas': [[]], 'distances': [[]], 'included': [<IncludeEnum.distances: 'distances'>, <IncludeEnum.documents: 'documents'>, <IncludeEnum.metadatas: 'metadatas'>]}\", tool_name='li_stoic_collection_search', raw_input={'args': (), 'kwargs': {'query': 'change a shitty life', 'n_results': 1}}, raw_output={'ids': [[]], 'embeddings': None, 'documents': [[]], 'uris': None, 'data': None, 'metadatas': [[]], 'distances': [[]], 'included': [<IncludeEnum.distances: 'distances'>, <IncludeEnum.documents: 'documents'>, <IncludeEnum.metadatas: 'metadatas'>]}, is_error=False), ToolOutput(content=\"{'query': 'change a shitty life', 'follow_up_questions': None, 'answer': None, 'images': [], 'results': [{'title': '24 Things You Can Do To Change Your Life For The Better', 'url': 'https://www.aconsciousrethink.com/17056/how-to-change-your-life/', 'content': '24 Things You Can Do To Change Your Life For The Better But for most people, changing life for the better simply means making a number of important changes. Consult a life coach to help you make the changes you feel you need to make in your life. Use the list of tips that follows to write down all the things you need or want to change about your life as it is now. This alone will help change your life for the better, and you’ll feel absolutely incredible when you finally achieve your dream. If you’re constantly saying things like “I feel like crap” or “I’m exhausted all the time,” then your subconscious will strive to make that a reality.', 'score': 0.45598578, 'raw_content': None}], 'response_time': 3.41}\", tool_name='li_tavily_search', raw_input={'args': (), 'kwargs': {'query': 'change a shitty life', 'n_results': 1}}, raw_output={'query': 'change a shitty life', 'follow_up_questions': None, 'answer': None, 'images': [], 'results': [{'title': '24 Things You Can Do To Change Your Life For The Better', 'url': 'https://www.aconsciousrethink.com/17056/how-to-change-your-life/', 'content': '24 Things You Can Do To Change Your Life For The Better But for most people, changing life for the better simply means making a number of important changes. Consult a life coach to help you make the changes you feel you need to make in your life. Use the list of tips that follows to write down all the things you need or want to change about your life as it is now. This alone will help change your life for the better, and you’ll feel absolutely incredible when you finally achieve your dream. If you’re constantly saying things like “I feel like crap” or “I’m exhausted all the time,” then your subconscious will strive to make that a reality.', 'score': 0.45598578, 'raw_content': None}], 'response_time': 3.41}, is_error=False)], source_nodes=[], is_dummy_stream=False, metadata=None)"
      ]
     },
     "execution_count": 92,
     "metadata": {},
     "output_type": "execute_result"
    }
   ],
   "source": [
    "agent.chat(\"Shitty life! How to change it???\")"
   ]
  },
  {
   "cell_type": "code",
   "execution_count": 84,
   "metadata": {},
   "outputs": [
    {
     "name": "stdout",
     "output_type": "stream",
     "text": [
      "> Running step d4551bb8-8773-4fb7-a4c2-d08196afebed. Step input: Who is Aomine Daiki?\n",
      "\u001b[1;3;38;5;200mThought: I need to find information about Aomine Daiki.\n",
      "Action: li_tavily_search\n",
      "Action Input: {'query': 'Aomine Daiki', 'n_results': 4}\n",
      "\u001b[0m\u001b[1;3;34mObservation: {'query': 'Aomine Daiki', 'follow_up_questions': None, 'answer': None, 'images': [], 'results': [{'title': 'Daiki Aomine - Kuroko no Basuke Wiki', 'url': 'https://kurokonobasuke.fandom.com/wiki/Daiki_Aomine', 'content': \"Daiki Aomine (青峰 大輝 Aomine Daiki) was the ace player of the renowned Generation of Miracles and was the former partner/light of Tetsuya Kuroko in Teikō Junior High. After hearing a benched teammate insult Tetsuya Kuroko and his style of play during a match against Seirin High, Aomine did not hesitate to slam him against the lockers and warn that he, as someone who couldn't even earn a spot on the court, had no right to comment on the players' performances.[5] Aomine was similarly protective over Ryōta Kise following his match against Fukuda Sōgō Academy, as he chose to wait outside the venue to prevent Shōgo Haizaki from causing any further trouble for Kise or his team.[6]\", 'score': 0.99990237, 'raw_content': None}, {'title': 'Aomine Daiki - Character (45467) - AniDB', 'url': 'https://anidb.net/character/45467', 'content': 'Aomine Daiki - Character (45467) - AniDB Character: Aomine Daiki Short hair includes hair that goes no more than a centimetre or two beyond the chin; anything longer is shoulder-length., dark skinDark skin is a naturally occurring human skin color that is rich in melanin pigments and having a dark color.nationalityJapaneseA character originating from the island nation of Japan.personalitylazyThe character`s favorite activity is doing nothing., short-temperedThis character has a short temper, meaning he or she can get angry quickly.roleschool club memberA school club member is a student who attends a thematic school club, such as the soccer club or the drama club. | Image | Name | Anime | Relation | Primary Seiyuu? related anime add/edit anime relations', 'score': 0.9998416, 'raw_content': None}, {'title': 'Daiki Aomine (Kuroko no Basket) - MyAnimeList.net', 'url': 'https://myanimelist.net/character/36820/Daiki_Aomine', 'content': 'Daiki Aomine (Kuroko no Basket) - MyAnimeList.net Anime Top Anime Support Kuroko no Basket add Supporting Kuroko no Basket NG-shuu add Supporting Kuroko no Basket 2nd Season add Supporting Kuroko no Basket: Tip Off add Supporting Kuroko no Basket: Oshaberi Shiyokka add Supporting Kuroko no Basket 2nd Season NG-shuu add Supporting Kuroko no Basket 3rd Season add Supporting Kuroko no Basket 3rd Season NG-shuu add Supporting Kuroko no Basket Movie 4: Last Game add Supporting add Supporting Kuroko no Basket: Oshaberi Shiyou ka add Supporting Kuroko no Basket add Supporting Kuroko no Basket: Replace add Supporting Kuroko no Basket: Extra Game Kuroko no Basket: Replace Plus In his second year in middle school, Aomine inspired Kise to play basketball and he became his training partner.', 'score': 0.9997868, 'raw_content': None}, {'title': \"10 Things You Didn't Know About Aomine Daiki - YouTube\", 'url': 'https://m.youtube.com/watch?v=MGj9G67Xg38', 'content': \"In this video, we cover 10 Things You Didn't Know About Aomine Daiki from the Kuroko No Basket Anime series. Aomine is one the generation of miracles along w\", 'score': 0.9988927, 'raw_content': None}], 'response_time': 3.53}\n",
      "\u001b[0m> Running step 901a2e29-e1b8-4977-a0c3-f39d5ea14f45. Step input: None\n",
      "\u001b[1;3;38;5;200mThought: I can answer without using any more tools. I'll use the user's language to answer\n",
      "Answer: Aomine Daiki is a character from the anime series \"Kuroko no Basket\". He is the ace player of the Generation of Miracles and was the former partner of Tetsuya Kuroko in Teikō Junior High. He is known for being protective of his teammates and having a short temper.\n",
      "\u001b[0m"
     ]
    },
    {
     "data": {
      "text/plain": [
       "AgentChatResponse(response='Aomine Daiki is a character from the anime series \"Kuroko no Basket\". He is the ace player of the Generation of Miracles and was the former partner of Tetsuya Kuroko in Teikō Junior High. He is known for being protective of his teammates and having a short temper.', sources=[ToolOutput(content='{\\'query\\': \\'Aomine Daiki\\', \\'follow_up_questions\\': None, \\'answer\\': None, \\'images\\': [], \\'results\\': [{\\'title\\': \\'Daiki Aomine - Kuroko no Basuke Wiki\\', \\'url\\': \\'https://kurokonobasuke.fandom.com/wiki/Daiki_Aomine\\', \\'content\\': \"Daiki Aomine (青峰 大輝 Aomine Daiki) was the ace player of the renowned Generation of Miracles and was the former partner/light of Tetsuya Kuroko in Teikō Junior High. After hearing a benched teammate insult Tetsuya Kuroko and his style of play during a match against Seirin High, Aomine did not hesitate to slam him against the lockers and warn that he, as someone who couldn\\'t even earn a spot on the court, had no right to comment on the players\\' performances.[5] Aomine was similarly protective over Ryōta Kise following his match against Fukuda Sōgō Academy, as he chose to wait outside the venue to prevent Shōgo Haizaki from causing any further trouble for Kise or his team.[6]\", \\'score\\': 0.99990237, \\'raw_content\\': None}, {\\'title\\': \\'Aomine Daiki - Character (45467) - AniDB\\', \\'url\\': \\'https://anidb.net/character/45467\\', \\'content\\': \\'Aomine Daiki - Character (45467) - AniDB Character: Aomine Daiki Short hair includes hair that goes no more than a centimetre or two beyond the chin; anything longer is shoulder-length., dark skinDark skin is a naturally occurring human skin color that is rich in melanin pigments and having a dark color.nationalityJapaneseA character originating from the island nation of Japan.personalitylazyThe character`s favorite activity is doing nothing., short-temperedThis character has a short temper, meaning he or she can get angry quickly.roleschool club memberA school club member is a student who attends a thematic school club, such as the soccer club or the drama club. | Image | Name | Anime | Relation | Primary Seiyuu? related anime add/edit anime relations\\', \\'score\\': 0.9998416, \\'raw_content\\': None}, {\\'title\\': \\'Daiki Aomine (Kuroko no Basket) - MyAnimeList.net\\', \\'url\\': \\'https://myanimelist.net/character/36820/Daiki_Aomine\\', \\'content\\': \\'Daiki Aomine (Kuroko no Basket) - MyAnimeList.net Anime Top Anime Support Kuroko no Basket add Supporting Kuroko no Basket NG-shuu add Supporting Kuroko no Basket 2nd Season add Supporting Kuroko no Basket: Tip Off add Supporting Kuroko no Basket: Oshaberi Shiyokka add Supporting Kuroko no Basket 2nd Season NG-shuu add Supporting Kuroko no Basket 3rd Season add Supporting Kuroko no Basket 3rd Season NG-shuu add Supporting Kuroko no Basket Movie 4: Last Game add Supporting add Supporting Kuroko no Basket: Oshaberi Shiyou ka add Supporting Kuroko no Basket add Supporting Kuroko no Basket: Replace add Supporting Kuroko no Basket: Extra Game Kuroko no Basket: Replace Plus In his second year in middle school, Aomine inspired Kise to play basketball and he became his training partner.\\', \\'score\\': 0.9997868, \\'raw_content\\': None}, {\\'title\\': \"10 Things You Didn\\'t Know About Aomine Daiki - YouTube\", \\'url\\': \\'https://m.youtube.com/watch?v=MGj9G67Xg38\\', \\'content\\': \"In this video, we cover 10 Things You Didn\\'t Know About Aomine Daiki from the Kuroko No Basket Anime series. Aomine is one the generation of miracles along w\", \\'score\\': 0.9988927, \\'raw_content\\': None}], \\'response_time\\': 3.53}', tool_name='li_tavily_search', raw_input={'args': (), 'kwargs': {'query': 'Aomine Daiki', 'n_results': 4}}, raw_output={'query': 'Aomine Daiki', 'follow_up_questions': None, 'answer': None, 'images': [], 'results': [{'title': 'Daiki Aomine - Kuroko no Basuke Wiki', 'url': 'https://kurokonobasuke.fandom.com/wiki/Daiki_Aomine', 'content': \"Daiki Aomine (青峰 大輝 Aomine Daiki) was the ace player of the renowned Generation of Miracles and was the former partner/light of Tetsuya Kuroko in Teikō Junior High. After hearing a benched teammate insult Tetsuya Kuroko and his style of play during a match against Seirin High, Aomine did not hesitate to slam him against the lockers and warn that he, as someone who couldn't even earn a spot on the court, had no right to comment on the players' performances.[5] Aomine was similarly protective over Ryōta Kise following his match against Fukuda Sōgō Academy, as he chose to wait outside the venue to prevent Shōgo Haizaki from causing any further trouble for Kise or his team.[6]\", 'score': 0.99990237, 'raw_content': None}, {'title': 'Aomine Daiki - Character (45467) - AniDB', 'url': 'https://anidb.net/character/45467', 'content': 'Aomine Daiki - Character (45467) - AniDB Character: Aomine Daiki Short hair includes hair that goes no more than a centimetre or two beyond the chin; anything longer is shoulder-length., dark skinDark skin is a naturally occurring human skin color that is rich in melanin pigments and having a dark color.nationalityJapaneseA character originating from the island nation of Japan.personalitylazyThe character`s favorite activity is doing nothing., short-temperedThis character has a short temper, meaning he or she can get angry quickly.roleschool club memberA school club member is a student who attends a thematic school club, such as the soccer club or the drama club. | Image | Name | Anime | Relation | Primary Seiyuu? related anime add/edit anime relations', 'score': 0.9998416, 'raw_content': None}, {'title': 'Daiki Aomine (Kuroko no Basket) - MyAnimeList.net', 'url': 'https://myanimelist.net/character/36820/Daiki_Aomine', 'content': 'Daiki Aomine (Kuroko no Basket) - MyAnimeList.net Anime Top Anime Support Kuroko no Basket add Supporting Kuroko no Basket NG-shuu add Supporting Kuroko no Basket 2nd Season add Supporting Kuroko no Basket: Tip Off add Supporting Kuroko no Basket: Oshaberi Shiyokka add Supporting Kuroko no Basket 2nd Season NG-shuu add Supporting Kuroko no Basket 3rd Season add Supporting Kuroko no Basket 3rd Season NG-shuu add Supporting Kuroko no Basket Movie 4: Last Game add Supporting add Supporting Kuroko no Basket: Oshaberi Shiyou ka add Supporting Kuroko no Basket add Supporting Kuroko no Basket: Replace add Supporting Kuroko no Basket: Extra Game Kuroko no Basket: Replace Plus In his second year in middle school, Aomine inspired Kise to play basketball and he became his training partner.', 'score': 0.9997868, 'raw_content': None}, {'title': \"10 Things You Didn't Know About Aomine Daiki - YouTube\", 'url': 'https://m.youtube.com/watch?v=MGj9G67Xg38', 'content': \"In this video, we cover 10 Things You Didn't Know About Aomine Daiki from the Kuroko No Basket Anime series. Aomine is one the generation of miracles along w\", 'score': 0.9988927, 'raw_content': None}], 'response_time': 3.53}, is_error=False)], source_nodes=[], is_dummy_stream=False, metadata=None)"
      ]
     },
     "execution_count": 84,
     "metadata": {},
     "output_type": "execute_result"
    }
   ],
   "source": [
    "agent.chat(\"Who is Aomine Daiki?\")"
   ]
  },
  {
   "cell_type": "code",
   "execution_count": null,
   "metadata": {},
   "outputs": [],
   "source": []
  },
  {
   "cell_type": "code",
   "execution_count": null,
   "metadata": {},
   "outputs": [],
   "source": []
  },
  {
   "cell_type": "code",
   "execution_count": 65,
   "metadata": {},
   "outputs": [],
   "source": [
    "from llama_index.core.workflow import (\n",
    "    StartEvent,\n",
    "    StopEvent,\n",
    "    Workflow,\n",
    "    step,\n",
    ")"
   ]
  },
  {
   "cell_type": "code",
   "execution_count": 66,
   "metadata": {},
   "outputs": [],
   "source": [
    "# from llama_index.utils.workflow import draw_all_possible_flows\n",
    "from llama_index.utils.workflow import draw_all_possible_flows"
   ]
  },
  {
   "cell_type": "code",
   "execution_count": 68,
   "metadata": {},
   "outputs": [
    {
     "name": "stdout",
     "output_type": "stream",
     "text": [
      "Hello, world!\n"
     ]
    }
   ],
   "source": [
    "class MyWorkflow(Workflow):\n",
    "    @step\n",
    "    async def my_step(self, ev: StartEvent) -> StopEvent:\n",
    "        # do something here\n",
    "        return StopEvent(result=\"Hello, world!\")\n",
    "\n",
    "\n",
    "w = MyWorkflow(timeout=10, verbose=False)\n",
    "result = await w.run()\n",
    "print(result)"
   ]
  },
  {
   "cell_type": "code",
   "execution_count": 69,
   "metadata": {},
   "outputs": [
    {
     "name": "stdout",
     "output_type": "stream",
     "text": [
      "<class 'NoneType'>\n",
      "<class 'llama_index.core.workflow.events.StopEvent'>\n",
      "basic_workflow.html\n"
     ]
    }
   ],
   "source": [
    "draw_all_possible_flows(MyWorkflow, filename=\"basic_workflow.html\")"
   ]
  },
  {
   "cell_type": "code",
   "execution_count": null,
   "metadata": {},
   "outputs": [],
   "source": []
  }
 ],
 "metadata": {
  "kernelspec": {
   "display_name": ".venv",
   "language": "python",
   "name": "python3"
  },
  "language_info": {
   "codemirror_mode": {
    "name": "ipython",
    "version": 3
   },
   "file_extension": ".py",
   "mimetype": "text/x-python",
   "name": "python",
   "nbconvert_exporter": "python",
   "pygments_lexer": "ipython3",
   "version": "3.11.8"
  }
 },
 "nbformat": 4,
 "nbformat_minor": 2
}
