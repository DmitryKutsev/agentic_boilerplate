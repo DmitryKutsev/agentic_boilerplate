{
 "cells": [
  {
   "cell_type": "code",
   "execution_count": 25,
   "metadata": {},
   "outputs": [],
   "source": [
    "import os\n",
    "# from dotenv.main import load_dotenv\n",
    "from dotenv import load_dotenv\n",
    "from pydantic import BaseModel\n",
    "from typing import Literal"
   ]
  },
  {
   "cell_type": "code",
   "execution_count": 26,
   "metadata": {},
   "outputs": [],
   "source": [
    "import together\n",
    "import chromadb\n",
    "from langsmith.wrappers import wrap_openai\n",
    "from langsmith import traceable\n",
    "\n",
    "from tavily import TavilyClient\n",
    "from typing_extensions import TypedDict\n",
    "from openai import OpenAI\n",
    "from together import Together\n",
    "from chromadb.utils.embedding_functions import OpenAIEmbeddingFunction\n",
    "from langgraph.graph import END, StateGraph, START, MessagesState"
   ]
  },
  {
   "cell_type": "code",
   "execution_count": 27,
   "metadata": {},
   "outputs": [
    {
     "data": {
      "text/plain": [
       "True"
      ]
     },
     "execution_count": 27,
     "metadata": {},
     "output_type": "execute_result"
    }
   ],
   "source": [
    "load_dotenv()"
   ]
  },
  {
   "cell_type": "code",
   "execution_count": 28,
   "metadata": {},
   "outputs": [],
   "source": [
    "LANGCHAIN_TRACING_V2 = True\n",
    "LANGCHAIN_ENDPOINT = \"https://api.smith.langchain.com\"\n",
    "LANGCHAIN_PROJECT = \"my_test_project\""
   ]
  },
  {
   "cell_type": "code",
   "execution_count": 29,
   "metadata": {},
   "outputs": [],
   "source": [
    "TOGETHER_API_KEY = os.getenv(\"TOGETHER_API_KEY\")\n",
    "OPENAI_API_KEY = os.getenv(\"OPENAI_API_KEY\")\n",
    "TAVILY_API_KEY = os.getenv(\"TAVILY_API_KEY\")\n",
    "LANGCHAIN_API_KEY = os.getenv(\"LANGCHAIN_API_KEY\")"
   ]
  },
  {
   "cell_type": "code",
   "execution_count": 30,
   "metadata": {},
   "outputs": [],
   "source": [
    "EMBEDDING_MODEL = \"text-embedding-3-small\"\n",
    "CURR_LLM_MODEL = \"meta-llama/Meta-Llama-3.1-8B-Instruct-Turbo\""
   ]
  },
  {
   "cell_type": "code",
   "execution_count": 31,
   "metadata": {},
   "outputs": [
    {
     "data": {
      "text/plain": [
       "<together.client.Together at 0x146e2da50>"
      ]
     },
     "execution_count": 31,
     "metadata": {},
     "output_type": "execute_result"
    }
   ],
   "source": [
    "together_client = wrap_openai(Together(api_key=TOGETHER_API_KEY))\n",
    "together_client"
   ]
  },
  {
   "cell_type": "code",
   "execution_count": 32,
   "metadata": {},
   "outputs": [],
   "source": [
    "@traceable\n",
    "def llm_pipeline(user_input: str) -> str:\n",
    "    result = together_client.chat.completions.create(\n",
    "        messages=[{\"role\": \"user\", \"content\": user_input}], model=CURR_LLM_MODEL\n",
    "    )\n",
    "    return result.choices[0].message.content"
   ]
  },
  {
   "cell_type": "code",
   "execution_count": 33,
   "metadata": {},
   "outputs": [
    {
     "data": {
      "text/plain": [
       "'I\\'m an AI model known as Llama. Llama stands for \"Large Language Model Meta AI.\"'"
      ]
     },
     "execution_count": 33,
     "metadata": {},
     "output_type": "execute_result"
    }
   ],
   "source": [
    "llm_pipeline(\"Hi there. What model are you?\")"
   ]
  },
  {
   "cell_type": "markdown",
   "metadata": {},
   "source": [
    "## CHROMA DB SET UP\n"
   ]
  },
  {
   "cell_type": "code",
   "execution_count": 34,
   "metadata": {},
   "outputs": [],
   "source": [
    "embedding_function = OpenAIEmbeddingFunction(\n",
    "    api_key=OPENAI_API_KEY, model_name=EMBEDDING_MODEL\n",
    ")\n",
    "chroma_client = chromadb.Client()"
   ]
  },
  {
   "cell_type": "code",
   "execution_count": 36,
   "metadata": {},
   "outputs": [],
   "source": [
    "# collection = chroma_client.create_collection(\n",
    "#     name=\"marcus_collection\", embedding_function=embedding_function\n",
    "# )\n",
    "\n",
    "collection = chroma_client.get_collection(\n",
    "    name=\"marcus_collection\", embedding_function=embedding_function\n",
    ")"
   ]
  },
  {
   "cell_type": "code",
   "execution_count": 37,
   "metadata": {},
   "outputs": [],
   "source": [
    "with open(\"marcus_quotes.txt\", \"r\") as reader:\n",
    "    marcus_list = reader.readlines()[:150]\n",
    "ids_list = [f\"id{i+1}\" for i in range(len(marcus_list))]"
   ]
  },
  {
   "cell_type": "code",
   "execution_count": 40,
   "metadata": {},
   "outputs": [],
   "source": [
    "collection.add(documents=marcus_list, ids=ids_list)"
   ]
  },
  {
   "cell_type": "code",
   "execution_count": 41,
   "metadata": {},
   "outputs": [
    {
     "data": {
      "text/plain": [
       "{'ids': [['id1', 'id15']],\n",
       " 'embeddings': None,\n",
       " 'documents': [['From my grandfather Verus I learned good morals and the government of my temper.\\n',\n",
       "   'From Maximus I learned self-government, and not to be led aside by anything; and cheerfulness in all circumstances, as well as in illness; and a just admixture in the moral character of sweetness and dignity, and to do what was set before me without complaining. I observed that everybody believed that he thought as he spoke, and that in all that he did he never had any bad intention; and he never showed amazement and surprise, and was never in a hurry, and never put off doing a thing, nor was perplexed nor dejected, nor did he ever laugh to disguise his vexation, nor, on the other hand, was he ever passionate or suspicious. He was accustomed to do acts of beneficence, and was ready to forgive, and was free from all falsehood; and he presented the appearance of a man who could not be diverted from right rather than of a man who had been improved. I observed, too, that no man could ever think that he was despised by Maximus, or ever venture to think himself a better man. He had also the art of being humorous in an agreeable way.\\n']],\n",
       " 'uris': None,\n",
       " 'data': None,\n",
       " 'metadatas': [[None, None]],\n",
       " 'distances': [[0.6908390522003174, 1.1410863399505615]],\n",
       " 'included': [<IncludeEnum.distances: 'distances'>,\n",
       "  <IncludeEnum.documents: 'documents'>,\n",
       "  <IncludeEnum.metadatas: 'metadatas'>]}"
      ]
     },
     "execution_count": 41,
     "metadata": {},
     "output_type": "execute_result"
    }
   ],
   "source": [
    "collection.query(\n",
    "    query_texts=[\"I want to learn good morals and the government of my temper\"],\n",
    "    n_results=2,\n",
    ")"
   ]
  },
  {
   "cell_type": "code",
   "execution_count": 42,
   "metadata": {},
   "outputs": [
    {
     "data": {
      "text/plain": [
       "[['From my grandfather Verus I learned good morals and the government of my temper.\\n']]"
      ]
     },
     "execution_count": 42,
     "metadata": {},
     "output_type": "execute_result"
    }
   ],
   "source": [
    "collection.query(\n",
    "    query_texts=[\n",
    "        \"Я хочу научиться хорошим моральным принципам и управлению моим темпераментом\"\n",
    "    ],\n",
    "    n_results=1,\n",
    ")[\"documents\"]"
   ]
  },
  {
   "cell_type": "code",
   "execution_count": 43,
   "metadata": {},
   "outputs": [
    {
     "data": {
      "text/plain": [
       "{'ids': [['id1']],\n",
       " 'embeddings': None,\n",
       " 'documents': [['From my grandfather Verus I learned good morals and the government of my temper.\\n']],\n",
       " 'uris': None,\n",
       " 'data': None,\n",
       " 'metadatas': [[None]],\n",
       " 'distances': [[1.2780762910842896]],\n",
       " 'included': [<IncludeEnum.distances: 'distances'>,\n",
       "  <IncludeEnum.documents: 'documents'>,\n",
       "  <IncludeEnum.metadatas: 'metadatas'>]}"
      ]
     },
     "execution_count": 43,
     "metadata": {},
     "output_type": "execute_result"
    }
   ],
   "source": [
    "collection.query(\n",
    "    query_texts=[\n",
    "        \"Я хочу научиться хорошим моральным принципам и управлению моим темпераментом\"\n",
    "    ],\n",
    "    n_results=1,\n",
    ")"
   ]
  },
  {
   "cell_type": "markdown",
   "metadata": {},
   "source": [
    "## TavilyClient setup\n"
   ]
  },
  {
   "cell_type": "code",
   "execution_count": 47,
   "metadata": {},
   "outputs": [],
   "source": [
    "tavily_client = TavilyClient(api_key=TAVILY_API_KEY)"
   ]
  },
  {
   "cell_type": "code",
   "execution_count": 48,
   "metadata": {},
   "outputs": [
    {
     "data": {
      "text/plain": [
       "{'query': 'Who is Aomine Daiki?',\n",
       " 'follow_up_questions': None,\n",
       " 'answer': None,\n",
       " 'images': [],\n",
       " 'results': [{'title': \"Aomine Daiki: The Phenomenal Basketball Star of Kuroko's Basketball\",\n",
       "   'url': 'https://dailyflares.com/aomine-daiki/',\n",
       "   'content': \"Aomine Daiki is a standout character in the popular anime and manga series Kuroko's Basketball. Known for his exceptional basketball skills and charismatic personality, Aomine has captured the hearts of fans worldwide. This article delves into the life and career of Aomine Daiki, exploring his role in Kuroko's Basketball, his basketball\",\n",
       "   'score': 0.9998233,\n",
       "   'raw_content': None},\n",
       "  {'title': 'Daiki Aomine - Kuroko no Basuke Wiki',\n",
       "   'url': 'https://kurokonobasuke.fandom.com/wiki/Daiki_Aomine',\n",
       "   'content': \"Daiki Aomine (青峰 大輝 Aomine Daiki) was the ace player of the renowned Generation of Miracles and was the former partner/light of Tetsuya Kuroko in Teikō Junior High. After hearing a benched teammate insult Tetsuya Kuroko and his style of play during a match against Seirin High, Aomine did not hesitate to slam him against the lockers and warn that he, as someone who couldn't even earn a spot on the court, had no right to comment on the players' performances.[5] Aomine was similarly protective over Ryōta Kise following his match against Fukuda Sōgō Academy, as he chose to wait outside the venue to prevent Shōgo Haizaki from causing any further trouble for Kise or his team.[6]\",\n",
       "   'score': 0.9997063,\n",
       "   'raw_content': None},\n",
       "  {'title': 'What NBA player is Aomine Daiki? - Basketball Fandom',\n",
       "   'url': 'https://basketballfandom.com/what-nba-player-is-aomine-daiki/',\n",
       "   'content': 'Aomine Daiki is one of the most talented and marketable players in the NBA. His impressive offensive skill set, defensive prowess, and off-the-court activities make him one of the most popular players in the league. With two championships already under his belt, Aomine is looking to add more hardware to his collection as he continues to',\n",
       "   'score': 0.9994642,\n",
       "   'raw_content': None},\n",
       "  {'title': \"Kuroko's Basketball: Every Main Character's Age, Height & Birthday\",\n",
       "   'url': 'https://gamerant.com/kurokos-basketball-every-main-characters-age-height-birthday/',\n",
       "   'content': \"8 Daiki Aomine Aomine is the former ace of the Generation of Miracles. He plays as a power forward for Tōō academy's basketball team. Aomine is one of the\",\n",
       "   'score': 0.99923575,\n",
       "   'raw_content': None},\n",
       "  {'title': '10 Things That Make Aomine Daiki A Great Basketball Player - CBR',\n",
       "   'url': 'https://www.cbr.com/aomine-daiki-great-basketball-player-reasons/',\n",
       "   'content': \"Aomine Daiki can be a formidable opponent, but he can also be a very supportive, strong ally. 1 Aomine's Love Of Basketball Conquers All Aomine's emotions towards the sport can all be chalked up to an immense love of basketball. The rollercoaster of emotions he felt towards basketball is directly caused by his love and respect for the art of\",\n",
       "   'score': 0.9974291,\n",
       "   'raw_content': None}],\n",
       " 'response_time': 5.83}"
      ]
     },
     "execution_count": 48,
     "metadata": {},
     "output_type": "execute_result"
    }
   ],
   "source": [
    "tavily_client.search(\"Who is Aomine Daiki?\")"
   ]
  },
  {
   "cell_type": "code",
   "execution_count": 49,
   "metadata": {},
   "outputs": [
    {
     "data": {
      "text/plain": [
       "{'query': 'Кто такой Борис Рыжий?',\n",
       " 'follow_up_questions': None,\n",
       " 'answer': None,\n",
       " 'images': [],\n",
       " 'results': [{'title': 'История легендарного поэта Бориса Рыжего, который прожил всего 26 лет ...',\n",
       "   'url': 'https://ngs.ru/text/culture/2024/09/09/74062475/',\n",
       "   'content': 'История поэта Бориса Рыжего, который ушел из жизни в 26 лет и прославился на весь мир История поэта Бориса Рыжего, который ушел из жизни в 26 лет и прославился на весь мир По его словам, Борис Рыжий «был и жил целиком в поэзии, а это\\xa0— смертельно». В 1991 году Рыжий пошел по стопам отца и поступил в Свердловский горный институт (на самом деле\\xa0— потому что больше было некуда). Писатель Евгений Касимов рассказал E1.RU, что был не так близко знаком с Борисом: несколько раз они работали вместе, делали передачи на радио и ходили друг к другу в гости. Хамство, невежество и мракобесие: врач-педиатр — о том, что его бесит в пациентах Хамство, невежество и мракобесие: врач-педиатр — о том, что его бесит в пациентах',\n",
       "   'score': 0.9940659,\n",
       "   'raw_content': None},\n",
       "  {'title': 'Рыжий, Борис Борисович — Википедия',\n",
       "   'url': 'https://ru.wikipedia.org/wiki/Рыжий,_Борис_Борисович',\n",
       "   'content': 'В основе постановки\\xa0— поэзия Бориса Рыжего и музыка Сергея Никитина. 2012\\xa0год\\xa0— «Рыжий», театральный перформанс на стихи Бориса Рыжего уральского режиссёра Александра Вахова, показанный в Екатеринбурге в рамках 2-й Индустриальной биеннале современного искусства[13]. Фильм снимался в Екатеринбурге, в районе Вторчермета, где жил Борис Рыжий; режиссёр встречалась с его семьёй, друзьями, соседями, наблюдала за людьми на улицах, во дворах, магазинах\\xa0— за теми людьми, о которых писал поэт. С 5 по 8 сентября 2024\\xa0года в Екатеринбурге организованы «Дни Бориса Рыжего»\\xa0— серия мероприятий, посвящённых 50-летию со дня рождения поэта[36]. ↑ \"Борис Рыжий — Я работал на драге в посёлке Кытлым: читать стих, текст стихотворения поэта классика на РуСтих\". История поэта Бориса Рыжего, который ушёл из жизни в 26 лет и прославился на весь мир\\xa0\\xa0(рус.).',\n",
       "   'score': 0.99256825,\n",
       "   'raw_content': None}],\n",
       " 'response_time': 4.67}"
      ]
     },
     "execution_count": 49,
     "metadata": {},
     "output_type": "execute_result"
    }
   ],
   "source": [
    "tavily_client.search(\"Кто такой Борис Рыжий?\", max_results=2)"
   ]
  },
  {
   "cell_type": "markdown",
   "metadata": {},
   "source": [
    "## Prompts for simple function calls\n"
   ]
  },
  {
   "cell_type": "code",
   "execution_count": 55,
   "metadata": {},
   "outputs": [],
   "source": [
    "router_prompt = \"\"\"\n",
    "    SYSTEM:\n",
    "    You are an expert at routing a user question to a vectorstore or web search. \n",
    "    Vectorstore is consists of the quotes of Marcus Aurelius. If there is an emotion or need for\n",
    "    an advicce for life situation or just a complain or an advice, \n",
    "    use the vectorstore. For all other questions use web-search\n",
    "    Give a binary choice 'web_search' or 'vectorstore' based on the question. Return a string with a single word 'web_search' or 'vectorstore' and \n",
    "    no premable or explaination. \n",
    "\n",
    "    Example:\n",
    "        Question: I want to learn good morals and the government of my temper.\n",
    "        Answer: 'vectorstore'\n",
    "\n",
    "    USER:\n",
    "    \"\"\""
   ]
  },
  {
   "cell_type": "code",
   "execution_count": 67,
   "metadata": {},
   "outputs": [],
   "source": [
    "stoic_prompt = \"\"\"\n",
    "    SYSTEM:\n",
    "    You are a multilingual string merger. You have a user complain about something emotional in any language.\n",
    "    You have a tool with a list of closest quotes \n",
    "    from Marcus Aurelius. Yus should pick up a most appropriate one quote and return it with the prefix \n",
    "    \"Here is what Marcus Aurelius had to say on this matter:\" You must not rephrase the \n",
    "    quote or use any thoughts of yours. Just prefix and quote no metter what. Answer only in English.\n",
    "\n",
    "    Example:\n",
    "        Question: I want to learn good morals and the government of my temper.\n",
    "        Quotes:[\"Be not disgusted, nor discouraged, nor dissatisfied,\n",
    "          if thou dost not succeed in doing everything according to right principles.\\n\",\n",
    "  \"Examine men's ruling principles, even those of the wise, what kind of things they avoid, and what kind they pursue.\\n\"]\n",
    "\n",
    "        Answer: \"That is what Marcus Avrelius said on this metter: Be not disgusted, nor discouraged, nor dissatisfied,\n",
    "          if thou dost not succeed in doing everything according to right principles\n",
    "\n",
    "    USER:\n",
    "    \"\"\""
   ]
  },
  {
   "cell_type": "code",
   "execution_count": 68,
   "metadata": {},
   "outputs": [],
   "source": [
    "search_prompt = \"\"\"\n",
    "    SYSTEM:\n",
    "    You are a multilingual search system. you have a qustion from user and a serach results. You need to the closest answer. \n",
    "    Answer always in English.\n",
    "\n",
    "    USER:\n",
    "    \"\"\""
   ]
  },
  {
   "cell_type": "code",
   "execution_count": 69,
   "metadata": {},
   "outputs": [
    {
     "data": {
      "text/plain": [
       "'vectorstore'"
      ]
     },
     "execution_count": 69,
     "metadata": {},
     "output_type": "execute_result"
    }
   ],
   "source": [
    "curr_question = \"What can I do with my shitty life???\"\n",
    "\n",
    "llm_pipeline(f\"{router_prompt} {curr_question}\")"
   ]
  },
  {
   "cell_type": "code",
   "execution_count": 70,
   "metadata": {},
   "outputs": [
    {
     "data": {
      "text/plain": [
       "'web_search'"
      ]
     },
     "execution_count": 70,
     "metadata": {},
     "output_type": "execute_result"
    }
   ],
   "source": [
    "curr_question = \"Who is Uzumaki Naruto?\"\n",
    "\n",
    "llm_pipeline(f\"{router_prompt} {curr_question}\")"
   ]
  },
  {
   "cell_type": "markdown",
   "metadata": {},
   "source": [
    "## Agentic python functions"
   ]
  },
  {
   "cell_type": "code",
   "execution_count": 71,
   "metadata": {},
   "outputs": [],
   "source": [
    "def get_search_results(query: str, max_results=2):\n",
    "    return tavily_client.search(query, max_results=max_results)[\"results\"]"
   ]
  },
  {
   "cell_type": "code",
   "execution_count": 72,
   "metadata": {},
   "outputs": [],
   "source": [
    "def first_step_completion(user_query):\n",
    "    return llm_pipeline(f\"{router_prompt} {user_query}\")"
   ]
  },
  {
   "cell_type": "code",
   "execution_count": 73,
   "metadata": {},
   "outputs": [],
   "source": [
    "def second_step(first_step_completion, curr_question):\n",
    "    if first_step_completion == \"web_search\":\n",
    "        search_results = get_search_results(curr_question, max_results=2)\n",
    "        return llm_pipeline( f\"{search_prompt} {curr_question}, SEARCH_RESULTS: {search_results}\" )\n",
    "\n",
    "    elif first_step_completion == \"vectorstore\":\n",
    "        store_search = collection.query(query_texts=[curr_question], n_results=2)[\n",
    "            \"documents\"\n",
    "        ]\n",
    "        return llm_pipeline( f\"{stoic_prompt} {curr_question}, QUOTES: {store_search}\" )\n",
    "\n"
   ]
  },
  {
   "cell_type": "code",
   "execution_count": 74,
   "metadata": {},
   "outputs": [],
   "source": [
    "def run(user_query):\n",
    "    first_step_res = first_step_completion(user_query)\n",
    "    return second_step(first_step_res, user_query)"
   ]
  },
  {
   "cell_type": "code",
   "execution_count": 75,
   "metadata": {},
   "outputs": [
    {
     "data": {
      "text/plain": [
       "'Here is what Marcus Aurelius had to say on this matter: From my grandfather Verus I learned good morals and the government of my temper.'"
      ]
     },
     "execution_count": 75,
     "metadata": {},
     "output_type": "execute_result"
    }
   ],
   "source": [
    "run(\"I want to learn good morals and the government of my temper\")"
   ]
  },
  {
   "cell_type": "code",
   "execution_count": 76,
   "metadata": {},
   "outputs": [
    {
     "data": {
      "text/plain": [
       "'Here is what Marcus Aurelius said on this matter: Do not have such an opinion of things as he has who does thee wrong, or such as he wishes thee to have, but look at them as they are in truth.'"
      ]
     },
     "execution_count": 76,
     "metadata": {},
     "output_type": "execute_result"
    }
   ],
   "source": [
    "run(\"Some truths are not for you\")"
   ]
  },
  {
   "cell_type": "code",
   "execution_count": 77,
   "metadata": {},
   "outputs": [
    {
     "data": {
      "text/plain": [
       "'Here is what Marcus Aurelius had to say on this matter: \"Hast thou seen those things? Look also at these. Do not disturb thyself. Make thyself all simplicity.\"'"
      ]
     },
     "execution_count": 77,
     "metadata": {},
     "output_type": "execute_result"
    }
   ],
   "source": [
    "run(\"Shitty life! How to change it???\")"
   ]
  },
  {
   "cell_type": "code",
   "execution_count": 78,
   "metadata": {},
   "outputs": [
    {
     "data": {
      "text/plain": [
       "'Based on the search results, the closest answer to the question \"Who is Uzumaki Naruto?\" is:\\n\\nNaruto Uzumaki is the titular protagonist of the manga Naruto, created by Masashi Kishimoto. He is a ninja from the fictional Hidden Leaf Village.'"
      ]
     },
     "execution_count": 78,
     "metadata": {},
     "output_type": "execute_result"
    }
   ],
   "source": [
    "run(\"Who is Uzumaki Naruto?\")"
   ]
  },
  {
   "cell_type": "code",
   "execution_count": 79,
   "metadata": {},
   "outputs": [
    {
     "data": {
      "text/plain": [
       "\"Based on the search results, Daiki Aomine is the former ace of the Generation of Miracles and a power forward for Tōō academy's basketball team. He is known for being protective of his teammates, particularly Tetsuya Kuroko and Ryōta Kise.\""
      ]
     },
     "execution_count": 79,
     "metadata": {},
     "output_type": "execute_result"
    }
   ],
   "source": [
    "run(\"Who is Aomine Daiki?\")"
   ]
  },
  {
   "cell_type": "code",
   "execution_count": 113,
   "metadata": {},
   "outputs": [
    {
     "data": {
      "text/plain": [
       "\"Thought: I should look up the meaning of this phrase using tavily_search\\nAction: tavily_search: query='Some truths are not for you'\\nPAUSE\""
      ]
     },
     "execution_count": 113,
     "metadata": {},
     "output_type": "execute_result"
    }
   ],
   "source": [
    "abot(\"Some truths are not for you\")"
   ]
  },
  {
   "cell_type": "code",
   "execution_count": null,
   "metadata": {},
   "outputs": [],
   "source": []
  },
  {
   "cell_type": "code",
   "execution_count": null,
   "metadata": {},
   "outputs": [],
   "source": []
  },
  {
   "cell_type": "code",
   "execution_count": null,
   "metadata": {},
   "outputs": [],
   "source": []
  },
  {
   "cell_type": "code",
   "execution_count": null,
   "metadata": {},
   "outputs": [],
   "source": []
  },
  {
   "cell_type": "code",
   "execution_count": null,
   "metadata": {},
   "outputs": [],
   "source": []
  },
  {
   "cell_type": "code",
   "execution_count": null,
   "metadata": {},
   "outputs": [],
   "source": []
  },
  {
   "cell_type": "code",
   "execution_count": null,
   "metadata": {},
   "outputs": [],
   "source": []
  },
  {
   "cell_type": "code",
   "execution_count": 39,
   "metadata": {},
   "outputs": [],
   "source": []
  },
  {
   "cell_type": "code",
   "execution_count": 115,
   "metadata": {},
   "outputs": [],
   "source": [
    "from langgraph.graph import StateGraph, END\n",
    "from typing import TypedDict, Annotated\n",
    "import operator\n",
    "from langchain_core.messages import AnyMessage, SystemMessage, HumanMessage, ToolMessage\n",
    "from langchain_openai import ChatOpenAI\n",
    "from langchain_community.tools.tavily_search import TavilySearchResults"
   ]
  },
  {
   "cell_type": "code",
   "execution_count": 125,
   "metadata": {},
   "outputs": [],
   "source": [
    "def stoic_collection_search(query, n_results) -> dict:\n",
    "    \"\"\"\n",
    "    Searches a stoic quote in a collection. Use when needed advice on an emotional or life-relational situation.\n",
    "    \"\"\"\n",
    "\n",
    "    return collection.query(\n",
    "        query_texts=[\n",
    "            query\n",
    "        ],\n",
    "        n_results=n_results,\n",
    "    ) # type: ignore"
   ]
  },
  {
   "cell_type": "code",
   "execution_count": 126,
   "metadata": {},
   "outputs": [],
   "source": [
    "search_tool = TavilySearchResults(max_results=4) "
   ]
  },
  {
   "cell_type": "code",
   "execution_count": 128,
   "metadata": {},
   "outputs": [],
   "source": [
    "tools = [stoic_collection_search, search_tool]"
   ]
  },
  {
   "cell_type": "code",
   "execution_count": 129,
   "metadata": {},
   "outputs": [],
   "source": [
    "class AgentState(TypedDict):\n",
    "    messages: Annotated[list[AnyMessage], operator.add]"
   ]
  },
  {
   "cell_type": "code",
   "execution_count": 135,
   "metadata": {},
   "outputs": [],
   "source": [
    "class LgAgent:\n",
    "\n",
    "    def __init__(self, model, tools, system=\"\"):\n",
    "        self.system = system\n",
    "        graph = StateGraph(AgentState)\n",
    "        graph.add_node(\"llm\", self.call_openai)\n",
    "        graph.add_node(\"action\", self.take_action)\n",
    "        graph.add_conditional_edges(\n",
    "            \"llm\",\n",
    "            self.exists_action,\n",
    "            {True: \"action\", False: END}\n",
    "        )\n",
    "        graph.add_edge(\"action\", \"llm\")\n",
    "        graph.set_entry_point(\"llm\")\n",
    "        self.graph = graph.compile()\n",
    "        self.tools = {t.name: t for t in tools}\n",
    "        self.model = model.bind_tools(tools)\n",
    "\n",
    "    def exists_action(self, state: AgentState):\n",
    "        result = state['messages'][-1]\n",
    "        return len(result.tool_calls) > 0\n",
    "\n",
    "    def call_openai(self, state: AgentState):\n",
    "        messages = state['messages']\n",
    "        if self.system:\n",
    "            messages = [SystemMessage(content=self.system)] + messages\n",
    "        message = self.model.invoke(messages)\n",
    "        return {'messages': [message]}\n",
    "\n",
    "    def take_action(self, state: AgentState):\n",
    "        tool_calls = state['messages'][-1].tool_calls\n",
    "        results = []\n",
    "        for t in tool_calls:\n",
    "            print(f\"Calling: {t}\")\n",
    "            if not t['name'] in self.tools:      # check for bad tool name from LLM\n",
    "                print(\"\\n ....bad tool name....\")\n",
    "                result = \"bad tool name, retry\"  # instruct LLM to retry if bad\n",
    "            else:\n",
    "                result = self.tools[t['name']].invoke(t['args'])\n",
    "            results.append(ToolMessage(tool_call_id=t['id'], name=t['name'], content=str(result)))\n",
    "        print(\"Back to the model!\")\n",
    "        return {'messages': results}"
   ]
  },
  {
   "cell_type": "code",
   "execution_count": 152,
   "metadata": {},
   "outputs": [],
   "source": [
    "prompt = \"\"\"You are a smart ass research assistant. You are an expert at routing a user question to a stoic_collection_search or web search. \n",
    "    stoic_collection_search is consists of the stoic quotes. \n",
    "    \n",
    "    If there is an emotion or need for\n",
    "    an advice for life situation or just a complain or an advice, \n",
    "    use the stoic_collection_search. You should pick up a most appropriate one quote and return it with the prefix \n",
    "    \"Here is what Marcus Aurelius had to say on this matter:\" You must not rephrase the \n",
    "    quote or use any thoughts of yours. Just prefix and quote no metter what. Answer only in English. \n",
    "    In any situation where emotions take place, \n",
    "    or you are not sure it's a search for a persone, event, or state - use stoic_collection_search.\n",
    "\n",
    "    For all other questions use web-search\n",
    "    If you need to look up some information before asking a follow up question, you are allowed to do that!\n",
    "\"\"\""
   ]
  },
  {
   "cell_type": "code",
   "execution_count": 153,
   "metadata": {},
   "outputs": [],
   "source": [
    "# prompt = \"\"\"\n",
    "#     SYSTEM:\n",
    "#     You are an expert at routing a user question to a vectorstore or web search. \n",
    "#     Vectorstore is consists of the quotes of Marcus Aurelius. If there is an emotion or need for\n",
    "#     an advicce for life situation or just a complain or an advice, \n",
    "#     use the vectorstore. For all other questions use web-search\n",
    "#     Give a binary choice 'web_search' or 'vectorstore' based on the question. Return a string with a single word 'web_search' or 'vectorstore' and \n",
    "#     no premable or explaination. \n",
    "\n",
    "#     Example:\n",
    "#         Question: I want to learn good morals and the government of my temper.\n",
    "#         Answer: 'vectorstore'\n",
    "\n",
    "#     USER:\n",
    "#     \"\"\""
   ]
  },
  {
   "cell_type": "code",
   "execution_count": 154,
   "metadata": {},
   "outputs": [],
   "source": [
    "model = ChatOpenAI(model=\"gpt-3.5-turbo\")  #reduce inference cost\n",
    "abot = LgAgent(model, [tool], system=prompt)"
   ]
  },
  {
   "cell_type": "code",
   "execution_count": 155,
   "metadata": {},
   "outputs": [
    {
     "data": {
      "image/png": "[encoded data removed]",
      "text/plain": [
       "<IPython.core.display.Image object>"
      ]
     },
     "execution_count": 155,
     "metadata": {},
     "output_type": "execute_result"
    }
   ],
   "source": [
    "from IPython.display import Image\n",
    "\n",
    "Image(abot.graph.get_graph().draw_png())"
   ]
  },
  {
   "cell_type": "code",
   "execution_count": 156,
   "metadata": {},
   "outputs": [
    {
     "name": "stdout",
     "output_type": "stream",
     "text": [
      "Calling: {'name': 'tavily_search_results_json', 'args': {'query': 'weather in San Francisco'}, 'id': 'call_qjJ2uhbC4iHO5ux3svr2Dp7I', 'type': 'tool_call'}\n",
      "Back to the model!\n",
      "{'messages': [HumanMessage(content='What is the weather in sf?', additional_kwargs={}, response_metadata={}), AIMessage(content='', additional_kwargs={'tool_calls': [{'id': 'call_qjJ2uhbC4iHO5ux3svr2Dp7I', 'function': {'arguments': '{\"query\":\"weather in San Francisco\"}', 'name': 'tavily_search_results_json'}, 'type': 'function'}], 'refusal': None}, response_metadata={'token_usage': {'completion_tokens': 21, 'prompt_tokens': 291, 'total_tokens': 312, 'completion_tokens_details': {'audio_tokens': None, 'reasoning_tokens': 0}, 'prompt_tokens_details': {'audio_tokens': None, 'cached_tokens': 0}}, 'model_name': 'gpt-3.5-turbo-0125', 'system_fingerprint': None, 'finish_reason': 'tool_calls', 'logprobs': None}, id='run-bfeaabbe-8dc0-441e-99a9-5546aad05899-0', tool_calls=[{'name': 'tavily_search_results_json', 'args': {'query': 'weather in San Francisco'}, 'id': 'call_qjJ2uhbC4iHO5ux3svr2Dp7I', 'type': 'tool_call'}], usage_metadata={'input_tokens': 291, 'output_tokens': 21, 'total_tokens': 312, 'input_token_details': {'cache_read': 0}, 'output_token_details': {'reasoning': 0}}), ToolMessage(content='[{\\'url\\': \\'https://www.weatherapi.com/\\', \\'content\\': \"{\\'location\\': {\\'name\\': \\'San Francisco\\', \\'region\\': \\'California\\', \\'country\\': \\'United States of America\\', \\'lat\\': 37.775, \\'lon\\': -122.4183, \\'tz_id\\': \\'America/Los_Angeles\\', \\'localtime_epoch\\': 1729809019, \\'localtime\\': \\'2024-10-24 15:30\\'}, \\'current\\': {\\'last_updated_epoch\\': 1729809000, \\'last_updated\\': \\'2024-10-24 15:30\\', \\'temp_c\\': 19.3, \\'temp_f\\': 66.7, \\'is_day\\': 1, \\'condition\\': {\\'text\\': \\'Sunny\\', \\'icon\\': \\'//cdn.weatherapi.com/weather/64x64/day/113.png\\', \\'code\\': 1000}, \\'wind_mph\\': 8.1, \\'wind_kph\\': 13.0, \\'wind_degree\\': 304, \\'wind_dir\\': \\'NW\\', \\'pressure_mb\\': 1014.0, \\'pressure_in\\': 29.94, \\'precip_mm\\': 0.0, \\'precip_in\\': 0.0, \\'humidity\\': 56, \\'cloud\\': 0, \\'feelslike_c\\': 19.3, \\'feelslike_f\\': 66.7, \\'windchill_c\\': 19.6, \\'windchill_f\\': 67.2, \\'heatindex_c\\': 19.6, \\'heatindex_f\\': 67.2, \\'dewpoint_c\\': 12.3, \\'dewpoint_f\\': 54.2, \\'vis_km\\': 13.0, \\'vis_miles\\': 8.0, \\'uv\\': 2.8, \\'gust_mph\\': 13.5, \\'gust_kph\\': 21.7}}\"}, {\\'url\\': \\'https://weatherspark.com/h/y/557/2024/Historical-Weather-during-2024-in-San-Francisco-California-United-States\\', \\'content\\': \\'San Francisco Temperature History 2024\\\\nHourly Temperature in 2024 in San Francisco\\\\nCompare San Francisco to another city:\\\\nCloud Cover in 2024 in San Francisco\\\\nDaily Precipitation in 2024 in San Francisco\\\\nObserved Weather in 2024 in San Francisco\\\\nHours of Daylight and Twilight in 2024 in San Francisco\\\\nSunrise & Sunset with Twilight and Daylight Saving Time in 2024 in San Francisco\\\\nSolar Elevation and Azimuth in 2024 in San Francisco\\\\nMoon Rise, Set & Phases in 2024 in San Francisco\\\\nHumidity Comfort Levels in 2024 in San Francisco\\\\nWind Speed in 2024 in San Francisco\\\\nHourly Wind Speed in 2024 in San Francisco\\\\nHourly Wind Direction in 2024 in San Francisco\\\\nAtmospheric Pressure in 2024 in San Francisco\\\\nData Sources\\\\n See all nearby weather stations\\\\nLatest Report — 3:56 PM\\\\nWed, Jan 24, 2024\\\\xa0\\\\xa0\\\\xa0\\\\xa013 min ago\\\\xa0\\\\xa0\\\\xa0\\\\xa0UTC 23:56\\\\nCall Sign KSFO\\\\nTemp.\\\\n60.1°F\\\\nPrecipitation\\\\nNo Report\\\\nWind\\\\n6.9 mph\\\\nCloud Cover\\\\nMostly Cloudy\\\\n1,800 ft\\\\nRaw: KSFO 242356Z 18006G19KT 10SM FEW015 BKN018 BKN039 16/12 A3004 RMK AO2 SLP171 T01560122 10156 20122 55001\\\\n While having the tremendous advantages of temporal and spatial completeness, these reconstructions: (1) are based on computer models that may have model-based errors, (2) are coarsely sampled on a 50 km grid and are therefore unable to reconstruct the local variations of many microclimates, and (3) have particular difficulty with the weather in some coastal areas, especially small islands.\\\\n We further caution that our travel scores are only as good as the data that underpin them, that weather conditions at any given location and time are unpredictable and variable, and that the definition of the scores reflects a particular set of preferences that may not agree with those of any particular reader.\\\\n 2024 Weather History in San Francisco California, United States\\\\nThe data for this report comes from the San Francisco International Airport.\\'}, {\\'url\\': \\'https://www.weathertab.com/en/c/e/10/united-states/california/san-francisco/\\', \\'content\\': \\'Avg Low Temps 50 to 60 °F. Explore comprehensive October 2024 weather forecasts for San Francisco, including daily high and low temperatures, precipitation risks, and monthly temperature trends. Featuring detailed day-by-day forecasts, dynamic graphs of daily rain probabilities, and temperature trends to help you plan ahead.\\'}, {\\'url\\': \\'https://forecast.weather.gov/MapClick.php?lat=37.7771&lon=-122.4196\\', \\'content\\': \\'San Francisco CA 37.77°N 122.41°W (Elev. 131 ft) Last Update: 2:29 pm PDT Oct 23, 2024. Forecast Valid: 11pm PDT Oct 23, 2024-6pm PDT Oct 30, 2024 . Forecast Discussion . Additional Resources. Radar & Satellite Image. Hourly Weather Forecast. ... National Weather Service; San Francisco Bay Area, CA; 21 Grace Hopper Ave, Stop 5; Monterey, CA\\'}]', name='tavily_search_results_json', tool_call_id='call_qjJ2uhbC4iHO5ux3svr2Dp7I'), AIMessage(content='The current weather in San Francisco is sunny with a temperature of 66.7°F. Here is what Marcus Aurelius had to say on this matter: \"You have power over your mind - not outside events. Realize this, and you will find strength.\"', additional_kwargs={'refusal': None}, response_metadata={'token_usage': {'completion_tokens': 54, 'prompt_tokens': 1502, 'total_tokens': 1556, 'completion_tokens_details': {'audio_tokens': None, 'reasoning_tokens': 0}, 'prompt_tokens_details': {'audio_tokens': None, 'cached_tokens': 0}}, 'model_name': 'gpt-3.5-turbo-0125', 'system_fingerprint': None, 'finish_reason': 'stop', 'logprobs': None}, id='run-d63d0b1e-3a22-40f1-9eb0-2b710996f50c-0', usage_metadata={'input_tokens': 1502, 'output_tokens': 54, 'total_tokens': 1556, 'input_token_details': {'cache_read': 0}, 'output_token_details': {'reasoning': 0}})]}\n"
     ]
    },
    {
     "data": {
      "text/plain": [
       "'The current weather in San Francisco is sunny with a temperature of 66.7°F. Here is what Marcus Aurelius had to say on this matter: \"You have power over your mind - not outside events. Realize this, and you will find strength.\"'"
      ]
     },
     "execution_count": 156,
     "metadata": {},
     "output_type": "execute_result"
    }
   ],
   "source": [
    "messages = [HumanMessage(content=\"What is the weather in sf?\")]\n",
    "messages = abot.graph.invoke({\"messages\": messages})\n",
    "print(messages)\n",
    "messages['messages'][-1].content"
   ]
  },
  {
   "cell_type": "code",
   "execution_count": 157,
   "metadata": {},
   "outputs": [
    {
     "name": "stdout",
     "output_type": "stream",
     "text": [
      "Calling: {'name': 'stoic_collection_search', 'args': {}, 'id': 'call_nLT72XHvbBbjBd0K81dIGy4d', 'type': 'tool_call'}\n",
      "\n",
      " ....bad tool name....\n",
      "Back to the model!\n",
      "{'messages': [HumanMessage(content='Shitty life', additional_kwargs={}, response_metadata={}), AIMessage(content='', additional_kwargs={'tool_calls': [{'id': 'call_nLT72XHvbBbjBd0K81dIGy4d', 'function': {'arguments': '{}', 'name': 'stoic_collection_search'}, 'type': 'function'}], 'refusal': None}, response_metadata={'token_usage': {'completion_tokens': 11, 'prompt_tokens': 287, 'total_tokens': 298, 'completion_tokens_details': {'audio_tokens': None, 'reasoning_tokens': 0}, 'prompt_tokens_details': {'audio_tokens': None, 'cached_tokens': 0}}, 'model_name': 'gpt-3.5-turbo-0125', 'system_fingerprint': None, 'finish_reason': 'tool_calls', 'logprobs': None}, id='run-2fc05806-5c65-4481-8ed9-c639e9dbea09-0', tool_calls=[{'name': 'stoic_collection_search', 'args': {}, 'id': 'call_nLT72XHvbBbjBd0K81dIGy4d', 'type': 'tool_call'}], usage_metadata={'input_tokens': 287, 'output_tokens': 11, 'total_tokens': 298, 'input_token_details': {'cache_read': 0}, 'output_token_details': {'reasoning': 0}}), ToolMessage(content='bad tool name, retry', name='stoic_collection_search', tool_call_id='call_nLT72XHvbBbjBd0K81dIGy4d'), AIMessage(content='Here is what Marcus Aurelius had to say on this matter: \"You have power over your mind - not outside events. Realize this, and you will find strength.\"', additional_kwargs={'refusal': None}, response_metadata={'token_usage': {'completion_tokens': 36, 'prompt_tokens': 315, 'total_tokens': 351, 'completion_tokens_details': {'audio_tokens': None, 'reasoning_tokens': 0}, 'prompt_tokens_details': {'audio_tokens': None, 'cached_tokens': 0}}, 'model_name': 'gpt-3.5-turbo-0125', 'system_fingerprint': None, 'finish_reason': 'stop', 'logprobs': None}, id='run-1054d389-a7b9-44ac-b096-274d8812bb9e-0', usage_metadata={'input_tokens': 315, 'output_tokens': 36, 'total_tokens': 351, 'input_token_details': {'cache_read': 0}, 'output_token_details': {'reasoning': 0}})]}\n"
     ]
    },
    {
     "data": {
      "text/plain": [
       "'Here is what Marcus Aurelius had to say on this matter: \"You have power over your mind - not outside events. Realize this, and you will find strength.\"'"
      ]
     },
     "execution_count": 157,
     "metadata": {},
     "output_type": "execute_result"
    }
   ],
   "source": [
    "messages = [HumanMessage(content=\"Shitty life\")]\n",
    "messages = abot.graph.invoke({\"messages\": messages})\n",
    "print(messages)\n",
    "messages['messages'][-1].content"
   ]
  },
  {
   "cell_type": "code",
   "execution_count": 158,
   "metadata": {},
   "outputs": [
    {
     "name": "stdout",
     "output_type": "stream",
     "text": [
      "{'messages': [HumanMessage(content='I want to learn good morals and the government of my temper', additional_kwargs={}, response_metadata={}), AIMessage(content='Here is what Marcus Aurelius had to say on this matter:\\n\"The best revenge is to be unlike him who performed the injury.\"', additional_kwargs={'refusal': None}, response_metadata={'token_usage': {'completion_tokens': 27, 'prompt_tokens': 296, 'total_tokens': 323, 'completion_tokens_details': {'audio_tokens': None, 'reasoning_tokens': 0}, 'prompt_tokens_details': {'audio_tokens': None, 'cached_tokens': 0}}, 'model_name': 'gpt-3.5-turbo-0125', 'system_fingerprint': None, 'finish_reason': 'stop', 'logprobs': None}, id='run-6bb15041-3a83-43b2-bf4c-3ffa5f51c591-0', usage_metadata={'input_tokens': 296, 'output_tokens': 27, 'total_tokens': 323, 'input_token_details': {'cache_read': 0}, 'output_token_details': {'reasoning': 0}})]}\n"
     ]
    },
    {
     "data": {
      "text/plain": [
       "'Here is what Marcus Aurelius had to say on this matter:\\n\"The best revenge is to be unlike him who performed the injury.\"'"
      ]
     },
     "execution_count": 158,
     "metadata": {},
     "output_type": "execute_result"
    }
   ],
   "source": [
    "messages = [HumanMessage(content=\"I want to learn good morals and the government of my temper\")]\n",
    "messages = abot.graph.invoke({\"messages\": messages})\n",
    "print(messages)\n",
    "messages['messages'][-1].content\n"
   ]
  },
  {
   "cell_type": "code",
   "execution_count": 159,
   "metadata": {},
   "outputs": [
    {
     "name": "stdout",
     "output_type": "stream",
     "text": [
      "Calling: {'name': 'tavily_search_results_json', 'args': {'query': 'Aomine Daiki'}, 'id': 'call_EYFxF8BE0OXQRCwCx7TFdxtv', 'type': 'tool_call'}\n",
      "Calling: {'name': 'stoic_collection_search', 'args': {'query': 'emotions'}, 'id': 'call_qBdaShM0MoIZCjQAU5pXfije', 'type': 'tool_call'}\n",
      "\n",
      " ....bad tool name....\n",
      "Back to the model!\n",
      "{'messages': [HumanMessage(content='Who is Aomine Daiki?', additional_kwargs={}, response_metadata={}), AIMessage(content='', additional_kwargs={'tool_calls': [{'id': 'call_EYFxF8BE0OXQRCwCx7TFdxtv', 'function': {'arguments': '{\"query\": \"Aomine Daiki\"}', 'name': 'tavily_search_results_json'}, 'type': 'function'}, {'id': 'call_qBdaShM0MoIZCjQAU5pXfije', 'function': {'arguments': '{\"query\": \"emotions\"}', 'name': 'stoic_collection_search'}, 'type': 'function'}], 'refusal': None}, response_metadata={'token_usage': {'completion_tokens': 53, 'prompt_tokens': 292, 'total_tokens': 345, 'completion_tokens_details': {'audio_tokens': None, 'reasoning_tokens': 0}, 'prompt_tokens_details': {'audio_tokens': None, 'cached_tokens': 0}}, 'model_name': 'gpt-3.5-turbo-0125', 'system_fingerprint': None, 'finish_reason': 'tool_calls', 'logprobs': None}, id='run-7cf2e4ee-0b01-4d2f-8389-366a90e4709a-0', tool_calls=[{'name': 'tavily_search_results_json', 'args': {'query': 'Aomine Daiki'}, 'id': 'call_EYFxF8BE0OXQRCwCx7TFdxtv', 'type': 'tool_call'}, {'name': 'stoic_collection_search', 'args': {'query': 'emotions'}, 'id': 'call_qBdaShM0MoIZCjQAU5pXfije', 'type': 'tool_call'}], usage_metadata={'input_tokens': 292, 'output_tokens': 53, 'total_tokens': 345, 'input_token_details': {'cache_read': 0}, 'output_token_details': {'reasoning': 0}}), ToolMessage(content='[{\\'url\\': \\'https://kurokonobasuke.fandom.com/wiki/Daiki_Aomine\\', \\'content\\': \"Daiki Aomine (青峰 大輝 Aomine Daiki) was the ace player of the renowned Generation of Miracles and was the former partner/light of Tetsuya Kuroko in Teikō Junior High. After hearing a benched teammate insult Tetsuya Kuroko and his style of play during a match against Seirin High, Aomine did not hesitate to slam him against the lockers and warn that he, as someone who couldn\\'t even earn a spot on the court, had no right to comment on the players\\' performances.[5] Aomine was similarly protective over Ryōta Kise following his match against Fukuda Sōgō Academy, as he chose to wait outside the venue to prevent Shōgo Haizaki from causing any further trouble for Kise or his team.[6]\"}, {\\'url\\': \\'https://myanimelist.net/character/36820/Daiki_Aomine\\', \\'content\\': \\'Daiki Aomine (Kuroko no Basket) - MyAnimeList.net Anime Top Anime Support Kuroko no Basket add Supporting Kuroko no Basket NG-shuu add Supporting Kuroko no Basket 2nd Season add Supporting Kuroko no Basket: Tip Off add Supporting Kuroko no Basket: Oshaberi Shiyokka add Supporting Kuroko no Basket 2nd Season NG-shuu add Supporting Kuroko no Basket 3rd Season add Supporting Kuroko no Basket 3rd Season NG-shuu add Supporting Kuroko no Basket Movie 4: Last Game add Supporting add Supporting Kuroko no Basket: Oshaberi Shiyou ka add Supporting Kuroko no Basket add Supporting Kuroko no Basket: Replace add Supporting Kuroko no Basket: Extra Game Kuroko no Basket: Replace Plus In his second year in middle school, Aomine inspired Kise to play basketball and he became his training partner.\\'}, {\\'url\\': \\'https://www.cbr.com/aomine-daiki-great-basketball-player-reasons/\\', \\'content\\': \\'![Image 6: Aomine Daiki from Kuroko\\\\\\'s Basketball alongside the other four Generation of Miracles members.](https://static1.cbrimages.com/wordpress/wp-content/uploads/2022/01/aomine-promo-image-kurokos-basketball.jpg) Touou Academy\\\\\\'s Aomine Daiki is one of the most polarizing characters in Kuroko\\\\\\'s Basketball. Though this is not all that he has to offer, Aomine\\\\\\'s strength is still a key component in why he is such an excellent basketball player. Aomine entered the \"Zone\" while playing against Kagami during the Winter Cup. RELATED: 5 Sports Anime For Action Lovers (& 5 That Are Comedy Gold) While most players would marvel at overpowering their opponents on the court, this jaded Aomine. The two played for the Teiko middle school team back in the day, so Aomine already recognized that Kuroko\\\\\\'s strength lay in his passing ability.\\'}, {\\'url\\': \\'https://www.anime-planet.com/characters/daiki-aomine\\', \\'content\\': \"Daiki AOMINE is a blue-haired basketball player and the main protagonist of Kuroko\\'s Basketball. He is a former member of the Generation of Miracles, a group of prodigies who dominated the sport.\"}]', name='tavily_search_results_json', tool_call_id='call_EYFxF8BE0OXQRCwCx7TFdxtv'), ToolMessage(content='bad tool name, retry', name='stoic_collection_search', tool_call_id='call_qBdaShM0MoIZCjQAU5pXfije'), AIMessage(content=\"Aomine Daiki is a blue-haired basketball player and the main protagonist of Kuroko's Basketball. He is a former member of the Generation of Miracles, a group of prodigies who dominated the sport. If you have any questions or need more information about him, feel free to ask!\", additional_kwargs={'refusal': None}, response_metadata={'token_usage': {'completion_tokens': 63, 'prompt_tokens': 1128, 'total_tokens': 1191, 'completion_tokens_details': {'audio_tokens': None, 'reasoning_tokens': 0}, 'prompt_tokens_details': {'audio_tokens': None, 'cached_tokens': 0}}, 'model_name': 'gpt-3.5-turbo-0125', 'system_fingerprint': None, 'finish_reason': 'stop', 'logprobs': None}, id='run-0528acc0-cfd8-41b8-98de-07e35bde0799-0', usage_metadata={'input_tokens': 1128, 'output_tokens': 63, 'total_tokens': 1191, 'input_token_details': {'cache_read': 0}, 'output_token_details': {'reasoning': 0}})]}\n"
     ]
    },
    {
     "data": {
      "text/plain": [
       "\"Aomine Daiki is a blue-haired basketball player and the main protagonist of Kuroko's Basketball. He is a former member of the Generation of Miracles, a group of prodigies who dominated the sport. If you have any questions or need more information about him, feel free to ask!\""
      ]
     },
     "execution_count": 159,
     "metadata": {},
     "output_type": "execute_result"
    }
   ],
   "source": [
    "messages = [HumanMessage(content=\"Who is Aomine Daiki?\")]\n",
    "messages = abot.graph.invoke({\"messages\": messages})\n",
    "print(messages)\n",
    "messages['messages'][-1].content"
   ]
  },
  {
   "cell_type": "code",
   "execution_count": null,
   "metadata": {},
   "outputs": [],
   "source": []
  },
  {
   "cell_type": "code",
   "execution_count": null,
   "metadata": {},
   "outputs": [],
   "source": []
  }
 ],
 "metadata": {
  "kernelspec": {
   "display_name": ".venv",
   "language": "python",
   "name": "python3"
  },
  "language_info": {
   "codemirror_mode": {
    "name": "ipython",
    "version": 3
   },
   "file_extension": ".py",
   "mimetype": "text/x-python",
   "name": "python",
   "nbconvert_exporter": "python",
   "pygments_lexer": "ipython3",
   "version": "3.11.8"
  }
 },
 "nbformat": 4,
 "nbformat_minor": 2
}
