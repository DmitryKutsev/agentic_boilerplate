{
 "cells": [
  {
   "cell_type": "code",
   "execution_count": 102,
   "metadata": {},
   "outputs": [],
   "source": [
    "from utils.chroma_db import chroma_collection\n",
    "from utils.tavily import tavily_client\n",
    "from utils.buienradar import buienradar_instance\n",
    "from utils.llm_client import llm_pipeline\n",
    "import json\n",
    "import os"
   ]
  },
  {
   "cell_type": "markdown",
   "metadata": {},
   "source": [
    "## Chroma DB"
   ]
  },
  {
   "cell_type": "code",
   "execution_count": 2,
   "metadata": {},
   "outputs": [
    {
     "data": {
      "text/plain": [
       "{'ids': [['id1', 'id320']],\n",
       " 'embeddings': None,\n",
       " 'documents': [['From my grandfather Verus I learned good morals and the government of my temper.\\n',\n",
       "   'In the constitution of the rational animal I see no virtue which is opposed to justice; but I see a virtue which is opposed to love of pleasure, and that is temperance.\\n']],\n",
       " 'uris': None,\n",
       " 'data': None,\n",
       " 'metadatas': [[None, None]],\n",
       " 'distances': [[0.6908390522003174, 1.1136633157730103]],\n",
       " 'included': [<IncludeEnum.distances: 'distances'>,\n",
       "  <IncludeEnum.documents: 'documents'>,\n",
       "  <IncludeEnum.metadatas: 'metadatas'>]}"
      ]
     },
     "execution_count": 2,
     "metadata": {},
     "output_type": "execute_result"
    }
   ],
   "source": [
    "chroma_collection.query(\n",
    "    query_texts=[\"I want to learn good morals and the government of my temper\"],\n",
    "    n_results=2,\n",
    ")"
   ]
  },
  {
   "cell_type": "markdown",
   "metadata": {},
   "source": [
    "## TavilyClient"
   ]
  },
  {
   "cell_type": "code",
   "execution_count": 3,
   "metadata": {},
   "outputs": [
    {
     "data": {
      "text/plain": [
       "{'query': 'Who is Uzumaki Naruto?',\n",
       " 'follow_up_questions': None,\n",
       " 'answer': None,\n",
       " 'images': [],\n",
       " 'results': [{'title': 'Naruto Uzumaki - Naruto Fandom Wiki',\n",
       "   'url': 'https://naruto-fandom.fandom.com/wiki/Naruto_Uzumaki',\n",
       "   'content': 'Naruto Uzumaki (うずまきナルト, Uzumaki Naruto) is the title character and main protagonist of the series: Naruto. He is a genin-level shinobi from Konohagakure, and a member ofTeam Kakashi. A maternal descendant of the Uzumaki clan, Naruto is the third and current jinchūriki of Kurama — the Nine-Tails. Despite once being ostracised by the majority of the village, he is now regarded',\n",
       "   'score': 0.9994867,\n",
       "   'raw_content': None},\n",
       "  {'title': 'Naruto Uzumaki - Wikipedia',\n",
       "   'url': 'https://en.wikipedia.org/wiki/Naruto_Uzumaki',\n",
       "   'content': 'Naruto Uzumaki (Japanese: うずまき ナルト, Hepburn: Uzumaki Naruto) (/ ˈ n ɑː r u t oʊ /) is the titular protagonist of the manga Naruto, created by Masashi Kishimoto.He is a ninja from the fictional Hidden Leaf Village (Japanese: 木ノ葉隠れ, Hepburn: konohagakure).As a boy, Naruto is ridiculed and ostracized on account of the Nine-Tailed Demon Fox—a malevolent creature that',\n",
       "   'score': 0.99924755,\n",
       "   'raw_content': None},\n",
       "  {'title': 'Naruto Uzumaki - Heroes Wiki',\n",
       "   'url': 'https://hero.fandom.com/wiki/Naruto_Uzumaki',\n",
       "   'content': 'Naruto Uzumaki is the titular main protagonist of the manga/anime series Naruto and the titular overarching protagonist of its sequel series Boruto. He is a shinobi of Konohagakure and a member of Team 7, alongside Sasuke Uchiha and Sakura Haruno. He is the son of Minato Namikaze and Kushina Uzumaki, the husband of Hinata Hyūga, the father of Boruto and Himawari Uzumaki, and the adoptive',\n",
       "   'score': 0.99886644,\n",
       "   'raw_content': None},\n",
       "  {'title': \"'Naruto's Uzumaki Family Tree Explained - Collider\",\n",
       "   'url': 'https://collider.com/naruto-uzumaki-family-tree/',\n",
       "   'content': 'Naruto Uzumaki is the knuckleheaded, resilient, and heroic protagonist of the series. After the Nine-Tails was sealed in him as a baby, the orphaned Naruto was isolated from the rest of the',\n",
       "   'score': 0.99760324,\n",
       "   'raw_content': None},\n",
       "  {'title': 'Everything To Know About Naruto | Fandom',\n",
       "   'url': 'https://www.fandom.com/universe/naruto',\n",
       "   'content': 'Naruto. Dive into the captivating universe of Naruto, a world-renowned manga and anime series created by Masashi Kishimoto. Naruto follows the journey of Naruto Uzumaki, a young ninja with the dream of becoming the Hokage, the leader of his village. The series is known for its rich character development, intricate plotlines, and intense battles.',\n",
       "   'score': 0.9832145,\n",
       "   'raw_content': None}],\n",
       " 'response_time': 2.57}"
      ]
     },
     "execution_count": 3,
     "metadata": {},
     "output_type": "execute_result"
    }
   ],
   "source": [
    "tavily_client.search(\"Who is Uzumaki Naruto?\")"
   ]
  },
  {
   "cell_type": "markdown",
   "metadata": {},
   "source": [
    "## BUIENRADAR"
   ]
  },
  {
   "cell_type": "code",
   "execution_count": 4,
   "metadata": {},
   "outputs": [
    {
     "data": {
      "text/plain": [
       "{'success': True,\n",
       " 'msg': None,\n",
       " 'data': {'attribution': 'Data provided by buienradar.nl',\n",
       "  'forecast': [{'condition': {'condcode': 'b',\n",
       "     'condition': 'cloudy',\n",
       "     'detailed': 'partlycloudy',\n",
       "     'exact': 'Mix of clear and medium or low clouds',\n",
       "     'exact_nl': 'Mix van opklaringen en middelbare of lage bewolking',\n",
       "     'night': False,\n",
       "     'image': 'https://www.buienradar.nl/resources/images/icons/weather/30x30/b.png'},\n",
       "    'temperature': 15.0,\n",
       "    'mintemp': 10.0,\n",
       "    'maxtemp': 15.0,\n",
       "    'sunchance': 30,\n",
       "    'rainchance': 10,\n",
       "    'rain': 0.0,\n",
       "    'minrain': 0.0,\n",
       "    'maxrain': 0.0,\n",
       "    'snow': 0,\n",
       "    'windforce': 2,\n",
       "    'windspeed': 2.06,\n",
       "    'winddirection': 'ZW',\n",
       "    'windazimuth': 225,\n",
       "    'datetime': datetime.datetime(2024, 10, 31, 0, 0, tzinfo=<DstTzInfo 'Europe/Amsterdam' CET+1:00:00 STD>)},\n",
       "   {'condition': {'condcode': 'c',\n",
       "     'condition': 'cloudy',\n",
       "     'detailed': 'cloudy',\n",
       "     'exact': 'Heavily clouded',\n",
       "     'exact_nl': 'Zwaar bewolkt',\n",
       "     'night': False,\n",
       "     'image': 'https://www.buienradar.nl/resources/images/icons/weather/30x30/c.png'},\n",
       "    'temperature': 16.0,\n",
       "    'mintemp': 9.0,\n",
       "    'maxtemp': 16.0,\n",
       "    'sunchance': 20,\n",
       "    'rainchance': 20,\n",
       "    'rain': 0.0,\n",
       "    'minrain': 0.0,\n",
       "    'maxrain': 0.0,\n",
       "    'snow': 0,\n",
       "    'windforce': 3,\n",
       "    'windspeed': 3.6,\n",
       "    'winddirection': 'W',\n",
       "    'windazimuth': 270,\n",
       "    'datetime': datetime.datetime(2024, 11, 1, 0, 0, tzinfo=<DstTzInfo 'Europe/Amsterdam' CET+1:00:00 STD>)},\n",
       "   {'condition': {'condcode': 'c',\n",
       "     'condition': 'cloudy',\n",
       "     'detailed': 'cloudy',\n",
       "     'exact': 'Heavily clouded',\n",
       "     'exact_nl': 'Zwaar bewolkt',\n",
       "     'night': False,\n",
       "     'image': 'https://www.buienradar.nl/resources/images/icons/weather/30x30/c.png'},\n",
       "    'temperature': 12.0,\n",
       "    'mintemp': 7.0,\n",
       "    'maxtemp': 12.0,\n",
       "    'sunchance': 20,\n",
       "    'rainchance': 10,\n",
       "    'rain': 0.0,\n",
       "    'minrain': 0.0,\n",
       "    'maxrain': 0.0,\n",
       "    'snow': 0,\n",
       "    'windforce': 3,\n",
       "    'windspeed': 3.6,\n",
       "    'winddirection': 'NO',\n",
       "    'windazimuth': 45,\n",
       "    'datetime': datetime.datetime(2024, 11, 2, 0, 0, tzinfo=<DstTzInfo 'Europe/Amsterdam' CET+1:00:00 STD>)},\n",
       "   {'condition': {'condcode': 'b',\n",
       "     'condition': 'cloudy',\n",
       "     'detailed': 'partlycloudy',\n",
       "     'exact': 'Mix of clear and medium or low clouds',\n",
       "     'exact_nl': 'Mix van opklaringen en middelbare of lage bewolking',\n",
       "     'night': False,\n",
       "     'image': 'https://www.buienradar.nl/resources/images/icons/weather/30x30/b.png'},\n",
       "    'temperature': 11.5,\n",
       "    'mintemp': 1.0,\n",
       "    'maxtemp': 13.0,\n",
       "    'sunchance': 50,\n",
       "    'rainchance': 10,\n",
       "    'rain': 0.0,\n",
       "    'minrain': 0.0,\n",
       "    'maxrain': 0.0,\n",
       "    'snow': 0,\n",
       "    'windforce': 2,\n",
       "    'windspeed': 2.06,\n",
       "    'winddirection': 'O',\n",
       "    'windazimuth': 90,\n",
       "    'datetime': datetime.datetime(2024, 11, 3, 0, 0, tzinfo=<DstTzInfo 'Europe/Amsterdam' CET+1:00:00 STD>)},\n",
       "   {'condition': {'condcode': 'b',\n",
       "     'condition': 'cloudy',\n",
       "     'detailed': 'partlycloudy',\n",
       "     'exact': 'Mix of clear and medium or low clouds',\n",
       "     'exact_nl': 'Mix van opklaringen en middelbare of lage bewolking',\n",
       "     'night': False,\n",
       "     'image': 'https://www.buienradar.nl/resources/images/icons/weather/30x30/b.png'},\n",
       "    'temperature': 13.0,\n",
       "    'mintemp': 2.0,\n",
       "    'maxtemp': 13.0,\n",
       "    'sunchance': 40,\n",
       "    'rainchance': 20,\n",
       "    'rain': 0.0,\n",
       "    'minrain': 0.0,\n",
       "    'maxrain': 0.0,\n",
       "    'snow': 0,\n",
       "    'windforce': 2,\n",
       "    'windspeed': 2.06,\n",
       "    'winddirection': 'NO',\n",
       "    'windazimuth': 45,\n",
       "    'datetime': datetime.datetime(2024, 11, 4, 0, 0, tzinfo=<DstTzInfo 'Europe/Amsterdam' CET+1:00:00 STD>)}],\n",
       "  'precipitation_forecast': {'average': 0.0, 'total': 0.0, 'timeframe': 45},\n",
       "  'barometerfc': 6,\n",
       "  'barometerfcname': 'Stable',\n",
       "  'barometerfcnamenl': 'Mooi',\n",
       "  'humidity': 100,\n",
       "  'groundtemperature': 12.2,\n",
       "  'irradiance': 0,\n",
       "  'measured': datetime.datetime(2024, 10, 30, 23, 10, tzinfo=<DstTzInfo 'Europe/Amsterdam' CET+1:00:00 STD>),\n",
       "  'precipitation': 0.0,\n",
       "  'pressure': 1028.9,\n",
       "  'stationname': 'De Bilt (6260)',\n",
       "  'condition': {'condcode': 'c',\n",
       "   'condition': 'cloudy',\n",
       "   'detailed': 'cloudy',\n",
       "   'exact': 'Heavily clouded',\n",
       "   'exact_nl': 'Zwaar bewolkt',\n",
       "   'night': True,\n",
       "   'image': 'https://www.buienradar.nl/resources/images/icons/weather/30x30/cc.png'},\n",
       "  'rainlast24hour': 0.7,\n",
       "  'rainlasthour': 0.0,\n",
       "  'temperature': 12.0,\n",
       "  'feeltemperature': 12.0,\n",
       "  'visibility': 9200,\n",
       "  'windspeed': 0.6,\n",
       "  'windforce': 1,\n",
       "  'winddirection': 'ZZO',\n",
       "  'windazimuth': 161,\n",
       "  'windgust': 1.0},\n",
       " 'distance': 5.48199}"
      ]
     },
     "execution_count": 4,
     "metadata": {},
     "output_type": "execute_result"
    }
   ],
   "source": [
    "buienradar_instance.fetch_weather_data(latitude=52.1, longitude=5.10, timeframe=45)"
   ]
  },
  {
   "cell_type": "markdown",
   "metadata": {},
   "source": []
  },
  {
   "cell_type": "markdown",
   "metadata": {},
   "source": [
    "## Prompts"
   ]
  },
  {
   "cell_type": "code",
   "execution_count": 37,
   "metadata": {},
   "outputs": [],
   "source": [
    "# TODO add step zero\n",
    "\n",
    "tasks_prompt = \"\"\"\n",
    "    SYSTEM:\n",
    "        You are a system, that splits request on topics.\n",
    "        Analyze the user's request and identify distinct questions or topics within it. Separate each question into its own entry, \n",
    "        numbering them sequentially. Use only english language, return result only in JSON format {index: part of the request}.\n",
    "\n",
    "    EXAMPLE:\n",
    "        Query:\n",
    "\n",
    "        Weather is terrible, life shitty. Who is Natsume Souseki and Dostoevsky?\n",
    "\n",
    "        Model response:\n",
    "        \n",
    "        {\n",
    "        \"1\": \" Weather is terrible\",\n",
    "        \"2\": \"life is shitty\",\n",
    "        \"3\": \"Who is Natsume Souseki?\",\n",
    "        \"4\": \"Who is Natsume Dostoevsky?\"\n",
    "        }\n",
    "\n",
    "\n",
    "    USER:\n",
    "    \"\"\""
   ]
  },
  {
   "cell_type": "code",
   "execution_count": 5,
   "metadata": {},
   "outputs": [],
   "source": [
    "router_prompt = \"\"\"\n",
    "    SYSTEM:\n",
    "    You are an expert at routing a user question to a vectorstore, buienradar or web search. \n",
    "    Vectorstore is consists of the quotes of Marcus Aurelius. If there is an emotion or need for\n",
    "    an advicce for life situation or just a complain or an advice, \n",
    "    use the vectorstore. \n",
    "    For every question about weather forecast in the Netherlands, use buienradar.\n",
    "    For all other questions including names, advices on business, characters or science use web-search. \n",
    "    Give a choice 'web_search',  'vectorstore' or 'buienradar' based on the question. Return a string with a single word 'web_search', 'buienradar' or 'vectorstore' with no premable or explaination. \n",
    "\n",
    "    Example:\n",
    "        Question: I want to learn good morals and the government of my temper.\n",
    "        Answer: 'vectorstore'\n",
    "\n",
    "    USER:\n",
    "    \"\"\""
   ]
  },
  {
   "cell_type": "code",
   "execution_count": 6,
   "metadata": {},
   "outputs": [],
   "source": [
    "stoic_prompt = \"\"\"\n",
    "    SYSTEM:\n",
    "    You are a multilingual string merger. You have a user complain about something emotional in any language.\n",
    "    You have a tool with a list of closest quotes \n",
    "    from Marcus Aurelius. Yus should pick up one closest quote and return it with the prefix \n",
    "    \"Here is what Marcus Aurelius had to say on this matter:\" You must not rephrase the \n",
    "    quote or use any thoughts of yours. You must pick one quote. Just prefix and quote no metter what. Answer only in English.\n",
    "\n",
    "    Example:\n",
    "        Question: I want to learn good morals and the government of my temper.\n",
    "        Quotes:[\"Be not disgusted, nor discouraged, nor dissatisfied,\n",
    "          if thou dost not succeed in doing everything according to right principles.\\n\",\n",
    "  \"Examine men's ruling principles, even those of the wise, what kind of things they avoid, and what kind they pursue.\\n\"]\n",
    "\n",
    "        Answer: \"That is what Marcus Avrelius said on this metter: Be not disgusted, nor discouraged, nor dissatisfied,\n",
    "          if thou dost not succeed in doing everything according to right principles\n",
    "\n",
    "    USER:\n",
    "    \"\"\""
   ]
  },
  {
   "cell_type": "code",
   "execution_count": 7,
   "metadata": {},
   "outputs": [],
   "source": [
    "search_prompt = \"\"\"\n",
    "    SYSTEM:\n",
    "    You are a multilingual search system. you have a qustion from user and a serach results. You need to the closest answer. \n",
    "    Answer always in English.\n",
    "\n",
    "    USER:\n",
    "    \"\"\""
   ]
  },
  {
   "cell_type": "code",
   "execution_count": 13,
   "metadata": {},
   "outputs": [],
   "source": [
    "# this one is going to be interesting! Let's try to create an agent\n",
    "\n",
    "weather_promp_1 = \"\"\"\n",
    "SYSTEM:\n",
    "You are a location retriewing assistant. Retrieve a detailed information about the location from the request.\n",
    "You need to answer in JSON format.\n",
    "If there is any location in the request, set \"is_location\": location_from_request (int).\n",
    "If there is longitude in request, set \"longitude\": longitude_from_request (int).\n",
    "If there is longitude in request, set \"latitude\": latitude_from_request (int).\n",
    "If it is mentioned in what time user wants to know the weather, set \"timeframe\": minutes_time_from_request (int).\n",
    "\n",
    "\n",
    " example:\n",
    "    query:\n",
    "    I want the weather in Utrecht in 1h\n",
    "    response:\n",
    "    {\n",
    "        \"is_location\": \"Utrecht\",\n",
    "        \"is_time\": 60,\n",
    "    }\n",
    "\n",
    "\n",
    "USER:\n",
    "\"\"\""
   ]
  },
  {
   "cell_type": "code",
   "execution_count": 14,
   "metadata": {},
   "outputs": [],
   "source": [
    "weather_promp_2 = \"\"\"\n",
    "SYSTEM:\n",
    "You are a weather forecast assistant. Retrieve a detailed weather forecast from the user data. Include the following details:\n",
    "\n",
    "Weather Condition: Describe the cloud cover, expected precipitation, and other sky conditions.\n",
    "Temperature: Give the current temperature along with minimum and maximum temperatures forecasted over the period.\n",
    "Rain Forecast: Include the chances of rain and expected precipitation amounts.\n",
    "Wind: Describe wind speed, force, and direction, including any gusts.\n",
    "Humidity and Pressure: Provide the current humidity and barometric pressure.\n",
    "Miscellaneous: Include visibility, any snowfall expected, ground temperature, and any other notable forecast points, like sunchance or barometer status.\n",
    "Summarize in a way that is easy to understand for everyday use.\n",
    "\n",
    "USER:\n",
    "\"\"\""
   ]
  },
  {
   "cell_type": "code",
   "execution_count": 11,
   "metadata": {},
   "outputs": [
    {
     "data": {
      "text/plain": [
       "'web_search'"
      ]
     },
     "execution_count": 11,
     "metadata": {},
     "output_type": "execute_result"
    }
   ],
   "source": [
    "curr_question = \"Who is Uzumaki Naruto?\"\n",
    "\n",
    "llm_pipeline(f\"{router_prompt} {curr_question}\")"
   ]
  },
  {
   "cell_type": "code",
   "execution_count": 15,
   "metadata": {},
   "outputs": [
    {
     "name": "stdout",
     "output_type": "stream",
     "text": [
      "buienradar\n",
      "{\n",
      "  \"is_location\": \"Utrecht\"\n",
      "}\n"
     ]
    }
   ],
   "source": [
    "curr_question = \"The weather in Utrecht?\"\n",
    "\n",
    "print(llm_pipeline(f\"{router_prompt} {curr_question}\"))\n",
    "print(llm_pipeline(f\"{weather_promp_1} {curr_question}\"))"
   ]
  },
  {
   "cell_type": "code",
   "execution_count": 16,
   "metadata": {},
   "outputs": [
    {
     "name": "stdout",
     "output_type": "stream",
     "text": [
      "buienradar\n",
      "{\n",
      "  \"is_location\": \"Utrecht\",\n",
      "  \"is_time\": 120\n",
      "}\n"
     ]
    }
   ],
   "source": [
    "curr_question = \"The weather in Utrecht in two hours?\"\n",
    "\n",
    "print(llm_pipeline(f\"{router_prompt} {curr_question}\"))\n",
    "print(llm_pipeline(f\"{weather_promp_1} {curr_question}\"))"
   ]
  },
  {
   "cell_type": "code",
   "execution_count": 30,
   "metadata": {},
   "outputs": [],
   "source": [
    "class AmIAnAgent:\n",
    "    def __init__(\n",
    "        self,\n",
    "        llm_pipeline,\n",
    "        get_search_results,\n",
    "        collection,\n",
    "        router_prompt=router_prompt,\n",
    "        search_prompt=search_prompt,\n",
    "        stoic_prompt=stoic_prompt,\n",
    "        weather_promp_1=weather_promp_1,\n",
    "        weather_promp_2=weather_promp_2,\n",
    "    ):\n",
    "        self.llm_pipeline = llm_pipeline\n",
    "        self.get_search_results = get_search_results\n",
    "        self.collection = collection\n",
    "        self.router_prompt = router_prompt\n",
    "        self.search_prompt = search_prompt\n",
    "        self.stoic_prompt = stoic_prompt\n",
    "        self.weather_promp_1 = (weather_promp_1,)\n",
    "        self.weather_promp_2 = (weather_promp_2,)\n",
    "\n",
    "    def first_step_completion(self, user_query):\n",
    "        \"\"\"Performs the first step of processing the user query.\"\"\"\n",
    "        return self.llm_pipeline(f\"{self.router_prompt} {user_query}\")\n",
    "\n",
    "    def second_step(self, first_step_result, curr_question):\n",
    "        \"\"\"Performs the second step based on the result of the first step.\"\"\"\n",
    "        if first_step_result == \"web_search\":\n",
    "            search_results = self.get_search_results.search(\n",
    "                curr_question, max_results=2\n",
    "            )\n",
    "            return self.llm_pipeline(\n",
    "                f\"{self.search_prompt} {curr_question}, SEARCH_RESULTS: {search_results}\"\n",
    "            )\n",
    "        elif first_step_result == \"vectorstore\":\n",
    "            store_search = self.collection.query(\n",
    "                query_texts=[curr_question], n_results=2\n",
    "            )[\"documents\"]\n",
    "            return self.llm_pipeline(\n",
    "                f\"{self.stoic_prompt} {curr_question}, QUOTES: {store_search}\"\n",
    "            )\n",
    "\n",
    "        elif first_step_result == \"buienradar\":\n",
    "            loc_dict = {}\n",
    "\n",
    "            loc_time_json = llm_pipeline(f\"{self.weather_promp_1} {curr_question}\")\n",
    "            if loc_time_json:\n",
    "                loc_time_dict = json.loads(loc_time_json)\n",
    "\n",
    "                if loc_time_dict.get(\"longitude\"):\n",
    "                    loc_dict[\"longitude\"] = loc_time_dict[\"longitude\"]\n",
    "                if loc_time_dict.get(\"latitude\"):\n",
    "                    loc_dict[\"latitude\"] = loc_time_dict[\"latitude\"]\n",
    "                if loc_time_dict.get(\"timeframe\"):\n",
    "                    loc_dict[\"timeframe\"] = loc_time_dict[\"timeframe\"]\n",
    "\n",
    "            # TODO: add a step with search by location!!\n",
    "\n",
    "            report = (\n",
    "                buienradar_instance.fetch_weather_data(**loc_dict)\n",
    "                if loc_dict\n",
    "                else buienradar_instance.fetch_weather_data()\n",
    "            )\n",
    "            return llm_pipeline(f\"{self.weather_promp_2} {report}\")\n",
    "\n",
    "    def run_steps(self, user_query):\n",
    "        \"\"\"Executes the pipeline steps for processing the user query.\"\"\"\n",
    "        first_step_res = self.first_step_completion(user_query)\n",
    "        return self.second_step(first_step_res, user_query)"
   ]
  },
  {
   "cell_type": "code",
   "execution_count": 31,
   "metadata": {},
   "outputs": [],
   "source": [
    "am_i_real_agent = AmIAnAgent(llm_pipeline, tavily_client, chroma_collection)"
   ]
  },
  {
   "cell_type": "code",
   "execution_count": 34,
   "metadata": {},
   "outputs": [
    {
     "data": {
      "text/plain": [
       "\"**Weather Forecast for Amsterdam**\\n\\n**Current Weather Conditions:**\\n- **Cloud Cover:** Currently, it's cloudy with a mix of clear and medium or low clouds.\\n- **Precipitation:** No precipitation is expected.\\n- **Other Sky Conditions:** The sky is heavily clouded.\\n\\n**Temperature:**\\n- **Current Temperature:** 12.0°C\\n- **Minimum Temperature:** 1.0°C (expected on November 3)\\n- **Maximum Temperature:** 16.0°C (expected on November 1)\\n\\n**Rain Forecast:**\\n- **Chance of Rain:** 10-20% (on November 1 and 2)\\n- **Expected Precipitation Amount:** 0 mm\\n\\n**Wind:**\\n- **Wind Speed:** 0.1 m/s (currently)\\n- **Wind Force:** 0 (currently)\\n- **Wind Direction:** South-South-West (currently)\\n- **Wind Gusts:** 0.7 m/s (on October 31)\\n\\n**Humidity and Pressure:**\\n- **Current Humidity:** 98%\\n- **Barometric Pressure:** 1029.0 hPa\\n\\n**Miscellaneous:**\\n- **Visibility:** 9350 meters\\n- **Snowfall:** No snowfall expected\\n- **Ground Temperature:** 12.1°C\\n- **Sun Chance:** 20-50% (on November 1-3)\\n- **Barometer Status:** Stable (Mooi)\\n\\n**Note:** The forecast is based on data provided by buienradar.nl and is accurate as of October 31, 2024.\""
      ]
     },
     "execution_count": 34,
     "metadata": {},
     "output_type": "execute_result"
    }
   ],
   "source": [
    "# TODO add location thingi\n",
    "am_i_real_agent.run_steps(\"The weather in Amsterdam in two hours?\")"
   ]
  },
  {
   "cell_type": "code",
   "execution_count": 33,
   "metadata": {},
   "outputs": [
    {
     "data": {
      "text/plain": [
       "'Based on the search results, I can tell you that Uzumaki Naruto is the titular protagonist of the manga and anime series \"Naruto\" created by Masashi Kishimoto. He is a ninja from the Hidden Leaf Village and is known for being the jinchuriki of the Nine-Tailed Demon Fox. He is also the main character of the series and is known for his determination and strong will to become the Hokage, the leader of the Hidden Leaf Village.'"
      ]
     },
     "execution_count": 33,
     "metadata": {},
     "output_type": "execute_result"
    }
   ],
   "source": [
    "am_i_real_agent.run_steps(\"Who is Uzumaki Naruto?\")"
   ]
  },
  {
   "cell_type": "code",
   "execution_count": null,
   "metadata": {},
   "outputs": [],
   "source": []
  },
  {
   "cell_type": "markdown",
   "metadata": {},
   "source": [
    "## Let's have a look at LangGraph"
   ]
  },
  {
   "cell_type": "code",
   "execution_count": 44,
   "metadata": {},
   "outputs": [],
   "source": [
    "from langgraph.graph import StateGraph, END\n",
    "from typing import TypedDict, Annotated\n",
    "import operator\n",
    "from langchain_core.messages import AnyMessage, SystemMessage, HumanMessage, ToolMessage\n",
    "from langchain_openai import ChatOpenAI\n",
    "from langchain_community.tools.tavily_search import TavilySearchResults\n",
    "from langchain_core.tools import tool"
   ]
  },
  {
   "cell_type": "code",
   "execution_count": 45,
   "metadata": {},
   "outputs": [],
   "source": [
    "@tool\n",
    "def stoic_collection_search(query, n_results=4) -> dict:\n",
    "    \"\"\"\n",
    "    Searches a stoic quote in a collection. Use when needed advice on an emotional or life-relational situation.\n",
    "    \"\"\"\n",
    "\n",
    "    return chroma_collection.query(\n",
    "        query_texts=[query],\n",
    "        n_results=n_results,\n",
    "    )  # type: ignore"
   ]
  },
  {
   "cell_type": "code",
   "execution_count": 83,
   "metadata": {},
   "outputs": [],
   "source": [
    "@tool\n",
    "def weather_report(\n",
    "    latitude: float = 52.1, longitude: float = 5.10, timeframe: int = 45\n",
    ") -> dict:\n",
    "    \"\"\"\n",
    "    Searches a weather in a given location. Use coordinates from the request if you find any\n",
    "    \"\"\"\n",
    "\n",
    "    return buienradar_instance.fetch_weather_data(\n",
    "        latitude=latitude, longitude=longitude, timeframe=timeframe\n",
    "    )"
   ]
  },
  {
   "cell_type": "code",
   "execution_count": 84,
   "metadata": {},
   "outputs": [],
   "source": [
    "search_tool = TavilySearchResults(max_results=4)\n",
    "tools = [stoic_collection_search, search_tool, weather_report]"
   ]
  },
  {
   "cell_type": "code",
   "execution_count": 85,
   "metadata": {},
   "outputs": [],
   "source": [
    "lg_prompt = \"\"\"You are a smart ass research assistant. You are an expert at routing a user question to a \n",
    "    stoic_collection_search, weather_report or web search.\n",
    "    \n",
    "    stoic_collection_search is consists of the stoic quotes. \n",
    "    \n",
    "    If there is an emotion or need for\n",
    "    an advice for life situation or just a complain or an advice, \n",
    "    use the stoic_collection_search. You should pick up a most appropriate one quote and return it with the prefix \n",
    "    \"Here is what Marcus Aurelius had to say on this matter:\" You must not rephrase the \n",
    "    quote or use any thoughts of yours. Just prefix and quote no metter what.\n",
    "\n",
    "    If question is about the weather, use weather_report tool only.\n",
    "\n",
    "\n",
    "    For all other questions use web-search\n",
    "    If you need to look up some information before asking a follow up question, you are allowed to do that!  Answer only in English. \n",
    "\"\"\""
   ]
  },
  {
   "cell_type": "code",
   "execution_count": 86,
   "metadata": {},
   "outputs": [],
   "source": [
    "class AgentState(TypedDict):\n",
    "    messages: Annotated[list[AnyMessage], operator.add]"
   ]
  },
  {
   "cell_type": "code",
   "execution_count": 87,
   "metadata": {},
   "outputs": [],
   "source": [
    "class LgAgent:\n",
    "    def __init__(self, model, tools, system=\"\"):\n",
    "        self.system = system\n",
    "        graph = StateGraph(AgentState)\n",
    "        graph.add_node(\"llm\", self.call_openai)\n",
    "        graph.add_node(\"action\", self.take_action)\n",
    "        graph.add_conditional_edges(\n",
    "            \"llm\", self.exists_action, {True: \"action\", False: END}\n",
    "        )\n",
    "        graph.add_edge(\"action\", \"llm\")\n",
    "        graph.set_entry_point(\"llm\")\n",
    "        self.graph = graph.compile()\n",
    "        self.tools = {t.name: t for t in tools}\n",
    "        self.model = model.bind_tools(tools)\n",
    "\n",
    "    def exists_action(self, state: AgentState):\n",
    "        result = state[\"messages\"][-1]\n",
    "        return len(result.tool_calls) > 0\n",
    "\n",
    "    def call_openai(self, state: AgentState):\n",
    "        messages = state[\"messages\"]\n",
    "        if self.system:\n",
    "            messages = [SystemMessage(content=self.system)] + messages\n",
    "        message = self.model.invoke(messages)\n",
    "        return {\"messages\": [message]}\n",
    "\n",
    "    def take_action(self, state: AgentState):\n",
    "        tool_calls = state[\"messages\"][-1].tool_calls\n",
    "        results = []\n",
    "        for tool in tool_calls:\n",
    "            print(f\"Calling: {tool}\")\n",
    "            if not tool[\"name\"] in self.tools:  # check for bad tool name from LLM\n",
    "                print(\"\\n ....bad tool name....\")\n",
    "                result = \"bad tool name, retry\"  # instruct LLM to retry if bad\n",
    "            else:\n",
    "                result = self.tools[tool[\"name\"]].invoke(tool[\"args\"])\n",
    "            results.append(\n",
    "                ToolMessage(\n",
    "                    tool_call_id=tool[\"id\"], name=tool[\"name\"], content=str(result)\n",
    "                )\n",
    "            )\n",
    "        print(\"Back to the model!\")\n",
    "        return {\"messages\": results}"
   ]
  },
  {
   "cell_type": "code",
   "execution_count": 88,
   "metadata": {},
   "outputs": [],
   "source": [
    "model = ChatOpenAI(model=\"gpt-3.5-turbo\")  # reduce inference cost\n",
    "i_am_an_agent = LgAgent(model, tools, system=lg_prompt)"
   ]
  },
  {
   "cell_type": "code",
   "execution_count": 89,
   "metadata": {},
   "outputs": [
    {
     "data": {
      "image/png": "[encoded data removed]",
      "text/plain": [
       "<IPython.core.display.Image object>"
      ]
     },
     "execution_count": 89,
     "metadata": {},
     "output_type": "execute_result"
    }
   ],
   "source": [
    "from IPython.display import Image\n",
    "\n",
    "Image(i_am_an_agent.graph.get_graph().draw_png())"
   ]
  },
  {
   "cell_type": "code",
   "execution_count": 90,
   "metadata": {},
   "outputs": [
    {
     "name": "stdout",
     "output_type": "stream",
     "text": [
      "Calling: {'name': 'weather_report', 'args': {'latitude': 52.1, 'longitude': 5.1, 'timeframe': 45}, 'id': 'call_DGeVeJgK6JFosC8WDDVY4Zi5', 'type': 'tool_call'}\n",
      "Back to the model!\n",
      "{'messages': [HumanMessage(content='What is the weather in utrecht this sunday?', additional_kwargs={}, response_metadata={}), AIMessage(content='', additional_kwargs={'tool_calls': [{'id': 'call_DGeVeJgK6JFosC8WDDVY4Zi5', 'function': {'arguments': '{\"latitude\":52.1,\"longitude\":5.1,\"timeframe\":45}', 'name': 'weather_report'}, 'type': 'function'}], 'refusal': None}, response_metadata={'token_usage': {'completion_tokens': 27, 'prompt_tokens': 395, 'total_tokens': 422, 'completion_tokens_details': {'audio_tokens': None, 'reasoning_tokens': 0}, 'prompt_tokens_details': {'audio_tokens': None, 'cached_tokens': 0}}, 'model_name': 'gpt-3.5-turbo-0125', 'system_fingerprint': None, 'finish_reason': 'tool_calls', 'logprobs': None}, id='run-abdb68e4-1b62-4a16-b482-825199305a94-0', tool_calls=[{'name': 'weather_report', 'args': {'latitude': 52.1, 'longitude': 5.1, 'timeframe': 45}, 'id': 'call_DGeVeJgK6JFosC8WDDVY4Zi5', 'type': 'tool_call'}], usage_metadata={'input_tokens': 395, 'output_tokens': 27, 'total_tokens': 422, 'input_token_details': {'cache_read': 0}, 'output_token_details': {'reasoning': 0}}), ToolMessage(content=\"{'success': True, 'msg': None, 'data': {'attribution': 'Data provided by buienradar.nl', 'forecast': [{'condition': {'condcode': 'b', 'condition': 'cloudy', 'detailed': 'partlycloudy', 'exact': 'Mix of clear and medium or low clouds', 'exact_nl': 'Mix van opklaringen en middelbare of lage bewolking', 'night': False, 'image': 'https://www.buienradar.nl/resources/images/icons/weather/30x30/b.png'}, 'temperature': 15.0, 'mintemp': 10.0, 'maxtemp': 15.0, 'sunchance': 30, 'rainchance': 10, 'rain': 0.0, 'minrain': 0.0, 'maxrain': 0.0, 'snow': 0, 'windforce': 2, 'windspeed': 2.06, 'winddirection': 'ZW', 'windazimuth': 225, 'datetime': datetime.datetime(2024, 10, 31, 0, 0, tzinfo=<DstTzInfo 'Europe/Amsterdam' CET+1:00:00 STD>)}, {'condition': {'condcode': 'c', 'condition': 'cloudy', 'detailed': 'cloudy', 'exact': 'Heavily clouded', 'exact_nl': 'Zwaar bewolkt', 'night': False, 'image': 'https://www.buienradar.nl/resources/images/icons/weather/30x30/c.png'}, 'temperature': 16.0, 'mintemp': 9.0, 'maxtemp': 16.0, 'sunchance': 20, 'rainchance': 20, 'rain': 0.0, 'minrain': 0.0, 'maxrain': 0.0, 'snow': 0, 'windforce': 3, 'windspeed': 3.6, 'winddirection': 'W', 'windazimuth': 270, 'datetime': datetime.datetime(2024, 11, 1, 0, 0, tzinfo=<DstTzInfo 'Europe/Amsterdam' CET+1:00:00 STD>)}, {'condition': {'condcode': 'c', 'condition': 'cloudy', 'detailed': 'cloudy', 'exact': 'Heavily clouded', 'exact_nl': 'Zwaar bewolkt', 'night': False, 'image': 'https://www.buienradar.nl/resources/images/icons/weather/30x30/c.png'}, 'temperature': 12.0, 'mintemp': 7.0, 'maxtemp': 12.0, 'sunchance': 20, 'rainchance': 10, 'rain': 0.0, 'minrain': 0.0, 'maxrain': 0.0, 'snow': 0, 'windforce': 3, 'windspeed': 3.6, 'winddirection': 'NO', 'windazimuth': 45, 'datetime': datetime.datetime(2024, 11, 2, 0, 0, tzinfo=<DstTzInfo 'Europe/Amsterdam' CET+1:00:00 STD>)}, {'condition': {'condcode': 'b', 'condition': 'cloudy', 'detailed': 'partlycloudy', 'exact': 'Mix of clear and medium or low clouds', 'exact_nl': 'Mix van opklaringen en middelbare of lage bewolking', 'night': False, 'image': 'https://www.buienradar.nl/resources/images/icons/weather/30x30/b.png'}, 'temperature': 11.5, 'mintemp': 1.0, 'maxtemp': 13.0, 'sunchance': 50, 'rainchance': 10, 'rain': 0.0, 'minrain': 0.0, 'maxrain': 0.0, 'snow': 0, 'windforce': 2, 'windspeed': 2.06, 'winddirection': 'O', 'windazimuth': 90, 'datetime': datetime.datetime(2024, 11, 3, 0, 0, tzinfo=<DstTzInfo 'Europe/Amsterdam' CET+1:00:00 STD>)}, {'condition': {'condcode': 'b', 'condition': 'cloudy', 'detailed': 'partlycloudy', 'exact': 'Mix of clear and medium or low clouds', 'exact_nl': 'Mix van opklaringen en middelbare of lage bewolking', 'night': False, 'image': 'https://www.buienradar.nl/resources/images/icons/weather/30x30/b.png'}, 'temperature': 13.0, 'mintemp': 2.0, 'maxtemp': 13.0, 'sunchance': 40, 'rainchance': 20, 'rain': 0.0, 'minrain': 0.0, 'maxrain': 0.0, 'snow': 0, 'windforce': 2, 'windspeed': 2.06, 'winddirection': 'NO', 'windazimuth': 45, 'datetime': datetime.datetime(2024, 11, 4, 0, 0, tzinfo=<DstTzInfo 'Europe/Amsterdam' CET+1:00:00 STD>)}], 'precipitation_forecast': {'average': 0.0, 'total': 0.0, 'timeframe': 45}, 'barometerfc': 6, 'barometerfcname': 'Stable', 'barometerfcnamenl': 'Mooi', 'humidity': 100, 'groundtemperature': 12.1, 'irradiance': 0, 'measured': datetime.datetime(2024, 10, 31, 0, 40, tzinfo=<DstTzInfo 'Europe/Amsterdam' CET+1:00:00 STD>), 'precipitation': 0.0, 'pressure': 1029.0, 'stationname': 'De Bilt (6260)', 'condition': {'condcode': 'c', 'condition': 'cloudy', 'detailed': 'cloudy', 'exact': 'Heavily clouded', 'exact_nl': 'Zwaar bewolkt', 'night': True, 'image': 'https://www.buienradar.nl/resources/images/icons/weather/30x30/cc.png'}, 'rainlast24hour': 0.7, 'rainlasthour': 0.0, 'temperature': 12.0, 'feeltemperature': 12.0, 'visibility': 7270, 'windspeed': 0.0, 'windforce': 0, 'winddirection': 'ZZO', 'windazimuth': 160, 'windgust': 0.4}, 'distance': 5.48199}\", name='weather_report', tool_call_id='call_DGeVeJgK6JFosC8WDDVY4Zi5'), AIMessage(content='The weather in Utrecht this Sunday is expected to be cloudy with a mix of clear and medium or low clouds. The temperature will range from 10°C to 15°C with a slight chance of rain (10%). The wind will be coming from the southwest direction with a speed of 2.06 m/s.', additional_kwargs={'refusal': None}, response_metadata={'token_usage': {'completion_tokens': 65, 'prompt_tokens': 1963, 'total_tokens': 2028, 'completion_tokens_details': {'audio_tokens': None, 'reasoning_tokens': 0}, 'prompt_tokens_details': {'audio_tokens': None, 'cached_tokens': 0}}, 'model_name': 'gpt-3.5-turbo-0125', 'system_fingerprint': None, 'finish_reason': 'stop', 'logprobs': None}, id='run-db83593e-c2eb-468a-9323-6d7b69e5d525-0', usage_metadata={'input_tokens': 1963, 'output_tokens': 65, 'total_tokens': 2028, 'input_token_details': {'cache_read': 0}, 'output_token_details': {'reasoning': 0}})]}\n"
     ]
    },
    {
     "data": {
      "text/plain": [
       "'The weather in Utrecht this Sunday is expected to be cloudy with a mix of clear and medium or low clouds. The temperature will range from 10°C to 15°C with a slight chance of rain (10%). The wind will be coming from the southwest direction with a speed of 2.06 m/s.'"
      ]
     },
     "execution_count": 90,
     "metadata": {},
     "output_type": "execute_result"
    }
   ],
   "source": [
    "messages = [HumanMessage(content=\"What is the weather in utrecht this sunday?\")]\n",
    "messages = i_am_an_agent.graph.invoke({\"messages\": messages})\n",
    "print(messages)\n",
    "messages[\"messages\"][-1].content"
   ]
  },
  {
   "cell_type": "code",
   "execution_count": 91,
   "metadata": {},
   "outputs": [],
   "source": [
    "# it is actually wrong, coordinates are from amsterdam, it's easier to search"
   ]
  },
  {
   "cell_type": "code",
   "execution_count": 93,
   "metadata": {},
   "outputs": [
    {
     "name": "stdout",
     "output_type": "stream",
     "text": [
      "Calling: {'name': 'stoic_collection_search', 'args': {'query': 'good morals and government of temper'}, 'id': 'call_4SywQhNAHCXJQq1IFYF5h7d3', 'type': 'tool_call'}\n",
      "Back to the model!\n",
      "{'messages': [HumanMessage(content='I want to learn good morals and the government of my temper', additional_kwargs={}, response_metadata={}), AIMessage(content='', additional_kwargs={'tool_calls': [{'id': 'call_4SywQhNAHCXJQq1IFYF5h7d3', 'function': {'arguments': '{\"query\":\"good morals and government of temper\"}', 'name': 'stoic_collection_search'}, 'type': 'function'}], 'refusal': None}, response_metadata={'token_usage': {'completion_tokens': 22, 'prompt_tokens': 398, 'total_tokens': 420, 'completion_tokens_details': {'audio_tokens': None, 'reasoning_tokens': 0}, 'prompt_tokens_details': {'audio_tokens': None, 'cached_tokens': 0}}, 'model_name': 'gpt-3.5-turbo-0125', 'system_fingerprint': None, 'finish_reason': 'tool_calls', 'logprobs': None}, id='run-cefe0034-6a7e-4b6c-9be8-fbca338674f1-0', tool_calls=[{'name': 'stoic_collection_search', 'args': {'query': 'good morals and government of temper'}, 'id': 'call_4SywQhNAHCXJQq1IFYF5h7d3', 'type': 'tool_call'}], usage_metadata={'input_tokens': 398, 'output_tokens': 22, 'total_tokens': 420, 'input_token_details': {'cache_read': 0}, 'output_token_details': {'reasoning': 0}}), ToolMessage(content=\"{'ids': [['id1', 'id15', 'id320', 'id2']], 'embeddings': None, 'documents': [['From my grandfather Verus I learned good morals and the government of my temper.\\\\n', 'From Maximus I learned self-government, and not to be led aside by anything; and cheerfulness in all circumstances, as well as in illness; and a just admixture in the moral character of sweetness and dignity, and to do what was set before me without complaining. I observed that everybody believed that he thought as he spoke, and that in all that he did he never had any bad intention; and he never showed amazement and surprise, and was never in a hurry, and never put off doing a thing, nor was perplexed nor dejected, nor did he ever laugh to disguise his vexation, nor, on the other hand, was he ever passionate or suspicious. He was accustomed to do acts of beneficence, and was ready to forgive, and was free from all falsehood; and he presented the appearance of a man who could not be diverted from right rather than of a man who had been improved. I observed, too, that no man could ever think that he was despised by Maximus, or ever venture to think himself a better man. He had also the art of being humorous in an agreeable way.\\\\n', 'In the constitution of the rational animal I see no virtue which is opposed to justice; but I see a virtue which is opposed to love of pleasure, and that is temperance.\\\\n', 'From the reputation and remembrance of my father, modesty and a manly character.\\\\n']], 'uris': None, 'data': None, 'metadatas': [[None, None, None, None]], 'distances': [[0.7550063729286194, 1.0133970975875854, 1.021941065788269, 1.069104552268982]], 'included': [<IncludeEnum.distances: 'distances'>, <IncludeEnum.documents: 'documents'>, <IncludeEnum.metadatas: 'metadatas'>]}\", name='stoic_collection_search', tool_call_id='call_4SywQhNAHCXJQq1IFYF5h7d3'), AIMessage(content='Here is what Marcus Aurelius had to say on this matter:\\n\"From my grandfather Verus I learned good morals and the government of my temper.\"', additional_kwargs={'refusal': None}, response_metadata={'token_usage': {'completion_tokens': 31, 'prompt_tokens': 875, 'total_tokens': 906, 'completion_tokens_details': {'audio_tokens': None, 'reasoning_tokens': 0}, 'prompt_tokens_details': {'audio_tokens': None, 'cached_tokens': 0}}, 'model_name': 'gpt-3.5-turbo-0125', 'system_fingerprint': None, 'finish_reason': 'stop', 'logprobs': None}, id='run-d35caff4-bc66-4d07-b6a6-7472a09f3b34-0', usage_metadata={'input_tokens': 875, 'output_tokens': 31, 'total_tokens': 906, 'input_token_details': {'cache_read': 0}, 'output_token_details': {'reasoning': 0}})]}\n"
     ]
    },
    {
     "data": {
      "text/plain": [
       "'Here is what Marcus Aurelius had to say on this matter:\\n\"From my grandfather Verus I learned good morals and the government of my temper.\"'"
      ]
     },
     "execution_count": 93,
     "metadata": {},
     "output_type": "execute_result"
    }
   ],
   "source": [
    "messages = [\n",
    "    HumanMessage(content=\"I want to learn good morals and the government of my temper\")\n",
    "]\n",
    "messages = i_am_an_agent.graph.invoke({\"messages\": messages})\n",
    "print(messages)\n",
    "messages[\"messages\"][-1].content"
   ]
  },
  {
   "cell_type": "code",
   "execution_count": 95,
   "metadata": {},
   "outputs": [
    {
     "name": "stdout",
     "output_type": "stream",
     "text": [
      "Calling: {'name': 'tavily_search_results_json', 'args': {'query': 'Age of Naruto Uzumaki'}, 'id': 'call_Z45XS9jLuzegRCzic4NX1LH3', 'type': 'tool_call'}\n",
      "Calling: {'name': 'tavily_search_results_json', 'args': {'query': 'Naruto Uzumaki birthdate'}, 'id': 'call_9hOl9ruT61tVkNWzcZcnhnL8', 'type': 'tool_call'}\n",
      "Back to the model!\n",
      "{'messages': [HumanMessage(content='How old is Naruto Uzumaki?', additional_kwargs={}, response_metadata={}), AIMessage(content='', additional_kwargs={'tool_calls': [{'id': 'call_Z45XS9jLuzegRCzic4NX1LH3', 'function': {'arguments': '{\"query\": \"Age of Naruto Uzumaki\"}', 'name': 'tavily_search_results_json'}, 'type': 'function'}, {'id': 'call_9hOl9ruT61tVkNWzcZcnhnL8', 'function': {'arguments': '{\"query\": \"Naruto Uzumaki birthdate\"}', 'name': 'tavily_search_results_json'}, 'type': 'function'}], 'refusal': None}, response_metadata={'token_usage': {'completion_tokens': 65, 'prompt_tokens': 395, 'total_tokens': 460, 'completion_tokens_details': {'audio_tokens': None, 'reasoning_tokens': 0}, 'prompt_tokens_details': {'audio_tokens': None, 'cached_tokens': 0}}, 'model_name': 'gpt-3.5-turbo-0125', 'system_fingerprint': None, 'finish_reason': 'tool_calls', 'logprobs': None}, id='run-33058f3b-5132-414e-929b-cf911fd8426d-0', tool_calls=[{'name': 'tavily_search_results_json', 'args': {'query': 'Age of Naruto Uzumaki'}, 'id': 'call_Z45XS9jLuzegRCzic4NX1LH3', 'type': 'tool_call'}, {'name': 'tavily_search_results_json', 'args': {'query': 'Naruto Uzumaki birthdate'}, 'id': 'call_9hOl9ruT61tVkNWzcZcnhnL8', 'type': 'tool_call'}], usage_metadata={'input_tokens': 395, 'output_tokens': 65, 'total_tokens': 460, 'input_token_details': {'cache_read': 0}, 'output_token_details': {'reasoning': 0}}), ToolMessage(content='[{\\'url\\': \\'https://wegotthiscovered.com/anime/how-old-is-naruto-naruto-uzumakis-age-throughout-his-namesake-franchise-explained/\\', \\'content\\': \\'How Old Is Naruto? How old is Naruto? Naruto Uzumaki starts off his long journey as a tween, 12 years old to be exact. Airing from 2002 to 2007, the first part of the Naruto series showcases the protagonist as a pre-teen, from 12 to 13 years old. By the end of this arc, Naruto and Jiraya begin their return trip to the Leaf Village after nearly three years away. By the end, Naruto is 17 years old and has undergone an epic journey from zero to hero. In The Last: Naruto the Movie But the majority of the main action takes place two years after the events of the Great Ninja War, which makes Naruto and most of his friends 19 years old.\\'}, {\\'url\\': \\'https://www.radiotimes.com/tv/fantasy/anime/naruto-age-timeline-explained/\\', \\'content\\': \"How old is Naruto? Explaining Naruto\\'s age timeline | Radio Times TV Guide How old is Naruto? How old is Naruto? Naruto\\'s adventure begins with him enrolling at Konoha\\'s Ninja Academy, with the titular character being 12 years old when he graduates from the academy. This sets Naruto as only 13 years old by the time the show wraps. The events of Naruto: Shippuden take place two and a half years after the original anime, meaning Naruto is 15 years old during the series. Naruto stepped away from the limelight to focus on his training under Jiraiya but later returned to Konoha Village at 15 years old. Check out more of our Fantasy coverage or visit our TV Guide or Streaming Guide to find out what else is on.\"}, {\\'url\\': \\'https://collider.com/naruto-age-timeline-explained/\\', \\'content\\': \"![Image 3: Different ages of Naruto in front of the series logo and the Hidden Leaf Vilage](https://static1.colliderimages.com/wordpress/wp-content/uploads/2021/11/Naruto%E2%80%99s-Age-Timeline.jpg) Naruto\\'s age spans across the three series: he starts as a young boy at 12, becomes 16 during a major arc, and ends as a 17-year-old after the fourth great ninja war. Naruto Grows Up Throughout The Series and Movies in the Franchise In 2014 The Last: Naruto the Movie was released. [![Image 6: NARUTO-MOVIES-IN-ORDER](https://static1.colliderimages.com/wordpress/wp-content/uploads/2021/08/NARUTO-MOVIES-IN-ORDER.jpg)](https://collider.com/naruto-movies-in-order-how-to-watch/) [![Image 8: Timon Pumba and Simba walking across a log in the moonlight in The Lion King](https://static1.colliderimages.com/wordpress/wp-content/uploads/2024/06/the-lion-king.jpg)](https://collider.com/original-movies-better-than-remakes/) [![Image 9: Best-Indie-Movies-With-Great-Acting-Ranked](https://static1.colliderimages.com/wordpress/wp-content/uploads/2024/10/the-10-best-indie-movies-with-great-acting-ranked.jpg)](https://collider.com/best-indie-movies-great-acting-ranked/) [![Image 10: Wish-Upon](https://static1.colliderimages.com/wordpress/wp-content/uploads/2024/10/wish-upon.jpg)](https://collider.com/worst-movies-confusing/) ](https://static1.colliderimages.com/wordpress/wp-content/uploads/2024/05/frodo-one-ring-return-of-the-king-lotr.jpeg)](https://collider.com/voyage-and-return-movies-best-ranked/) [![Image 12: Best-Movies-on-Netflix](https://collider.com/naruto-age-timeline-explained/)](https://collider.com/best-movies-on-netflix-streaming/) [![Image 14: bat-family-featured](https://static1.colliderimages.com/wordpress/wp-content/uploads/2023/10/bat-family-featured.jpg)](https://collider.com/bat-family-members-ranked/) [![Image 15: Keke Palmer and SZA standing on the street in the trailer for One of them Days](https://static1.colliderimages.com/wordpress/wp-content/uploads/2024/10/one-of-them-days-trailer.png)](https://collider.com/one-of-them-days-trailer-keke-palmer/)\"}, {\\'url\\': \\'https://www.sportskeeda.com/anime/how-old-naruto-his-age-throughout-series-movies-boruto-explained\\', \\'content\\': \"Please logout and login again. One of the most popular anime and manga series of all time is author and illustrator Masashi Kishimoto’s Naruto series, beloved by fans for several reasons. He joins the Leaf Village Academy at age six and is 12 by the time fans start the series. In any case, the time-skip in between these two sections of the story is two years, which means Naruto\\'s age at the start of Shippuden is 15. The series takes place 15 years after the events of the Fourth Shinobi World War, meaning he\\'s roughly 32 at the start of the Boruto anime. WWE NBA NFL MMA Tennis NHL Golf MLB\"}]', name='tavily_search_results_json', tool_call_id='call_Z45XS9jLuzegRCzic4NX1LH3'), ToolMessage(content='[{\\'url\\': \\'https://naruto-official.com/en/news/01_1610\\', \\'content\\': \"Naruto Uzumaki ・Birthday: October 10th (Libra) ・Favorite Foods: Ichiraku\\'s ramen, oshiruko. A Tumultuous Birth . Naruto is born to the Nine Tails\\' Jinchuriki, Kushina Uzumaki, and the Fourth Hokage, Minato Namikaze. His life is filled with turbulence right from the moment it begins.\"}, {\\'url\\': \\'https://www.dualshockers.com/naruto-main-characters-age-height-birthdays/\\', \\'content\\': \\'So, the age and height of your favorite characters are listed depending on how old and tall the characters were in the Naruto series. Characters. Age. Height. Birthday. Naruto Uzumaki. 12-13\\'}, {\\'url\\': \\'https://www.animecharactersdatabase.com/birthdays.php?pid=100053\\', \\'content\\': \\'Naruto Shippuden Character Birthdays ☰ ACDB \\\\xa0Log InEnglish Japanese Chinese French German Korean Spanish Russian PortugueseAll Characters Anime Voice Studios Members Details Left Details Right Tags Genre Quotes Relations Scripts  Anime Anime Characters Naruto Shippuden Character Birthdays Check for characters missing birthday info here. Karui Akimichi A (Second Raikage) Tsunade (young) Temari Nara Hinata Uzumaki NOTE: This page uses a cached copy of characters data. New characters and recent edits will not be reflected in results until tomorrow. Character Details Characters Add a Character A-Z Characters Anime and Games Character Info Top 25 Characters Anime by Year This site uses cookies for analytics, personalized content and ads. Increase your fun by becoming a member today! Airing Today Maou-sama, Retry! Season 2\\'}, {\\'url\\': \\'https://hero.fandom.com/wiki/Naruto_Uzumaki\\', \\'content\\': \\'Naruto Uzumaki is the titular main protagonist of the manga/anime series Naruto and the titular overarching protagonist of its sequel series Boruto. He is a shinobi of Konohagakure and a member of Team 7, alongside Sasuke Uchiha and Sakura Haruno. He is the son of Minato Namikaze and Kushina Uzumaki, the husband of Hinata Hyūga, the father of Boruto and Himawari Uzumaki, and the adoptive\\'}]', name='tavily_search_results_json', tool_call_id='call_9hOl9ruT61tVkNWzcZcnhnL8'), AIMessage(content='Naruto Uzumaki starts his journey as a tween at 12 years old and by the end of the first arc, he is 17 years old. Most of the main action takes place two years after the Great Ninja War, making Naruto and his friends 19 years old.', additional_kwargs={'refusal': None}, response_metadata={'token_usage': {'completion_tokens': 60, 'prompt_tokens': 2172, 'total_tokens': 2232, 'completion_tokens_details': {'audio_tokens': None, 'reasoning_tokens': 0}, 'prompt_tokens_details': {'audio_tokens': None, 'cached_tokens': 0}}, 'model_name': 'gpt-3.5-turbo-0125', 'system_fingerprint': None, 'finish_reason': 'stop', 'logprobs': None}, id='run-905e8a00-5bb1-4ea5-8866-d0abb7653cb4-0', usage_metadata={'input_tokens': 2172, 'output_tokens': 60, 'total_tokens': 2232, 'input_token_details': {'cache_read': 0}, 'output_token_details': {'reasoning': 0}})]}\n"
     ]
    },
    {
     "data": {
      "text/plain": [
       "'Naruto Uzumaki starts his journey as a tween at 12 years old and by the end of the first arc, he is 17 years old. Most of the main action takes place two years after the Great Ninja War, making Naruto and his friends 19 years old.'"
      ]
     },
     "execution_count": 95,
     "metadata": {},
     "output_type": "execute_result"
    }
   ],
   "source": [
    "messages = [HumanMessage(content=\"How old is Naruto Uzumaki?\")]\n",
    "messages = i_am_an_agent.graph.invoke({\"messages\": messages})\n",
    "print(messages)\n",
    "messages[\"messages\"][-1].content"
   ]
  },
  {
   "cell_type": "code",
   "execution_count": null,
   "metadata": {},
   "outputs": [],
   "source": []
  },
  {
   "cell_type": "code",
   "execution_count": null,
   "metadata": {},
   "outputs": [],
   "source": []
  },
  {
   "cell_type": "code",
   "execution_count": null,
   "metadata": {},
   "outputs": [],
   "source": []
  },
  {
   "cell_type": "markdown",
   "metadata": {},
   "source": [
    "## What about other frameworks?"
   ]
  },
  {
   "cell_type": "code",
   "execution_count": 96,
   "metadata": {},
   "outputs": [
    {
     "name": "stderr",
     "output_type": "stream",
     "text": [
      "/Users/dmitrykutsev/repos/learn_langgraph/.venv/lib/python3.11/site-packages/tqdm/auto.py:21: TqdmWarning: IProgress not found. Please update jupyter and ipywidgets. See https://ipywidgets.readthedocs.io/en/stable/user_install.html\n",
      "  from .autonotebook import tqdm as notebook_tqdm\n",
      "None of PyTorch, TensorFlow >= 2.0, or Flax have been found. Models won't be available and only tokenizers, configuration and file/data utilities can be used.\n"
     ]
    }
   ],
   "source": [
    "from llama_index.core.agent import ReActAgent\n",
    "from llama_index.core.tools import FunctionTool\n",
    "from llama_index.llms.together import TogetherLLM"
   ]
  },
  {
   "cell_type": "code",
   "execution_count": 136,
   "metadata": {},
   "outputs": [],
   "source": [
    "def li_tavily_search(query, n_results=4) -> dict:\n",
    "    \"\"\"\n",
    "    Conduct a search on the topic of [user's query topic] and provide a concise, accurate summary based on the most relevant results\n",
    "    use minimum 3 results.\n",
    "    \"\"\"\n",
    "    return tavily_client.search(query, max_results=n_results)"
   ]
  },
  {
   "cell_type": "code",
   "execution_count": 137,
   "metadata": {},
   "outputs": [],
   "source": [
    "def li_weather_report(\n",
    "    latitude: float = 52.1, longitude: float = 5.10, timeframe: int = 45\n",
    ") -> dict:\n",
    "    \"\"\"\n",
    "    Use this with every weather question. Use coordinates from the request if you find any\n",
    "    \"\"\"\n",
    "\n",
    "    return buienradar_instance.fetch_weather_data(\n",
    "        latitude=latitude, longitude=longitude, timeframe=timeframe\n",
    "    )"
   ]
  },
  {
   "cell_type": "code",
   "execution_count": 138,
   "metadata": {},
   "outputs": [],
   "source": [
    "def li_stoic_collection_search(query, n_results=4) -> dict:\n",
    "    \"\"\"\n",
    "    Searches a stoic quote in a collection. Use when needed advice on an emotional or life-relational situation.\n",
    "    The closest quote is the answer.cUse only the quote without changing.\n",
    "    The response should begin with ‘Here is what Marcus Aurelius had to say on this matter.’”\n",
    "    \"\"\"\n",
    "\n",
    "    return collection.query(\n",
    "        query_texts=[query],\n",
    "        n_results=n_results,\n",
    "    )  # type: ignore"
   ]
  },
  {
   "cell_type": "code",
   "execution_count": 139,
   "metadata": {},
   "outputs": [],
   "source": [
    "TOGETHER_API_KEY = os.getenv(\"TOGETHER_API_KEY\")\n",
    "CURR_LLM_MODEL = os.getenv(\"CURR_LLM_MODEL\")"
   ]
  },
  {
   "cell_type": "code",
   "execution_count": 140,
   "metadata": {},
   "outputs": [],
   "source": [
    "li_llm = TogetherLLM(\n",
    "    model=CURR_LLM_MODEL,\n",
    "    api_key=TOGETHER_API_KEY,\n",
    ")"
   ]
  },
  {
   "cell_type": "code",
   "execution_count": 141,
   "metadata": {},
   "outputs": [],
   "source": [
    "li_tavily_tool = FunctionTool.from_defaults(fn=li_tavily_search)\n",
    "li_stoic_collection_tool = FunctionTool.from_defaults(fn=li_stoic_collection_search)\n",
    "li_weather_tool = FunctionTool.from_defaults(fn=li_weather_report)"
   ]
  },
  {
   "cell_type": "code",
   "execution_count": 142,
   "metadata": {},
   "outputs": [],
   "source": [
    "li_agent = ReActAgent.from_tools(\n",
    "    [li_tavily_tool, li_stoic_collection_tool, li_weather_tool], llm=li_llm, verbose=True, max_iterations=20,\n",
    ")"
   ]
  },
  {
   "cell_type": "code",
   "execution_count": 143,
   "metadata": {},
   "outputs": [
    {
     "name": "stdout",
     "output_type": "stream",
     "text": [
      "> Running step 041cc4ce-bb67-481f-a7fd-4d9daa0beedf. Step input: How old is Naruto Uzumaki?\n",
      "\u001b[1;3;38;5;200mThought: The current language of the user is: English. I need to use a tool to help me answer the question.\n",
      "Action: li_tavily_search\n",
      "Action Input: {'query': 'Naruto Uzumaki age', 'n_results': 1}\n",
      "\u001b[0m\u001b[1;3;34mObservation: {'query': 'Naruto Uzumaki age', 'follow_up_questions': None, 'answer': None, 'images': [], 'results': [{'title': \"How old is Naruto? Naruto Uzumaki's age throughout his namesake ...\", 'url': 'https://wegotthiscovered.com/anime/how-old-is-naruto-naruto-uzumakis-age-throughout-his-namesake-franchise-explained/', 'content': 'How Old Is Naruto? How old is Naruto? Naruto Uzumaki starts off his long journey as a tween, 12 years old to be exact. Airing from 2002 to 2007, the first part of the Naruto series showcases the protagonist as a pre-teen, from 12 to 13 years old. By the end of this arc, Naruto and Jiraya begin their return trip to the Leaf Village after nearly three years away. By the end, Naruto is 17 years old and has undergone an epic journey from zero to hero. In The Last: Naruto the Movie But the majority of the main action takes place two years after the events of the Great Ninja War, which makes Naruto and most of his friends 19 years old.', 'score': 0.9985335, 'raw_content': None}], 'response_time': 2.16}\n",
      "\u001b[0m> Running step 3deb1303-19a6-4955-865c-5d9da4519f47. Step input: None\n",
      "\u001b[1;3;38;5;200mThought: I can use the information from the search result to answer the question.\n",
      "Answer: Naruto Uzumaki is 12 years old at the beginning of his journey, 17 years old at the end of the first part of the series, and 19 years old in The Last: Naruto the Movie.\n",
      "\u001b[0m"
     ]
    },
    {
     "data": {
      "text/plain": [
       "AgentChatResponse(response='Naruto Uzumaki is 12 years old at the beginning of his journey, 17 years old at the end of the first part of the series, and 19 years old in The Last: Naruto the Movie.', sources=[ToolOutput(content='{\\'query\\': \\'Naruto Uzumaki age\\', \\'follow_up_questions\\': None, \\'answer\\': None, \\'images\\': [], \\'results\\': [{\\'title\\': \"How old is Naruto? Naruto Uzumaki\\'s age throughout his namesake ...\", \\'url\\': \\'https://wegotthiscovered.com/anime/how-old-is-naruto-naruto-uzumakis-age-throughout-his-namesake-franchise-explained/\\', \\'content\\': \\'How Old Is Naruto? How old is Naruto? Naruto Uzumaki starts off his long journey as a tween, 12 years old to be exact. Airing from 2002 to 2007, the first part of the Naruto series showcases the protagonist as a pre-teen, from 12 to 13 years old. By the end of this arc, Naruto and Jiraya begin their return trip to the Leaf Village after nearly three years away. By the end, Naruto is 17 years old and has undergone an epic journey from zero to hero. In The Last: Naruto the Movie But the majority of the main action takes place two years after the events of the Great Ninja War, which makes Naruto and most of his friends 19 years old.\\', \\'score\\': 0.9985335, \\'raw_content\\': None}], \\'response_time\\': 2.16}', tool_name='li_tavily_search', raw_input={'args': (), 'kwargs': {'query': 'Naruto Uzumaki age', 'n_results': 1}}, raw_output={'query': 'Naruto Uzumaki age', 'follow_up_questions': None, 'answer': None, 'images': [], 'results': [{'title': \"How old is Naruto? Naruto Uzumaki's age throughout his namesake ...\", 'url': 'https://wegotthiscovered.com/anime/how-old-is-naruto-naruto-uzumakis-age-throughout-his-namesake-franchise-explained/', 'content': 'How Old Is Naruto? How old is Naruto? Naruto Uzumaki starts off his long journey as a tween, 12 years old to be exact. Airing from 2002 to 2007, the first part of the Naruto series showcases the protagonist as a pre-teen, from 12 to 13 years old. By the end of this arc, Naruto and Jiraya begin their return trip to the Leaf Village after nearly three years away. By the end, Naruto is 17 years old and has undergone an epic journey from zero to hero. In The Last: Naruto the Movie But the majority of the main action takes place two years after the events of the Great Ninja War, which makes Naruto and most of his friends 19 years old.', 'score': 0.9985335, 'raw_content': None}], 'response_time': 2.16}, is_error=False)], source_nodes=[], is_dummy_stream=False, metadata=None)"
      ]
     },
     "execution_count": 143,
     "metadata": {},
     "output_type": "execute_result"
    }
   ],
   "source": [
    "li_agent.chat(\"How old is Naruto Uzumaki?\")"
   ]
  },
  {
   "cell_type": "code",
   "execution_count": 145,
   "metadata": {},
   "outputs": [
    {
     "name": "stdout",
     "output_type": "stream",
     "text": [
      "> Running step 04e59d99-a584-4dc9-8f0c-fa74339b1e0a. Step input: What is the weather tomorrow in Tilburg?\n",
      "\u001b[1;3;38;5;200mThought: I need to use a tool to help me answer the question.\n",
      "Action: li_weather_report\n",
      "Action Input: {'latitude': 51.6, 'longitude': 5.1, 'timeframe': 1}\n",
      "\u001b[0m\u001b[1;3;34mObservation: Error: Timeframe must be >=5 and <=120.\n",
      "\u001b[0m> Running step dbd51c6f-df5d-4ac1-a884-aef2faef9ff0. Step input: None\n",
      "\u001b[1;3;38;5;200mThought: I need to use a tool to help me answer the question.\n",
      "Action: li_weather_report\n",
      "Action Input: {'latitude': 51.6, 'longitude': 5.1, 'timeframe': 24}\n",
      "\u001b[0m\u001b[1;3;34mObservation: {'success': True, 'msg': None, 'data': {'attribution': 'Data provided by buienradar.nl', 'forecast': [{'condition': {'condcode': 'b', 'condition': 'cloudy', 'detailed': 'partlycloudy', 'exact': 'Mix of clear and medium or low clouds', 'exact_nl': 'Mix van opklaringen en middelbare of lage bewolking', 'night': False, 'image': 'https://www.buienradar.nl/resources/images/icons/weather/30x30/b.png'}, 'temperature': 15.0, 'mintemp': 10.0, 'maxtemp': 15.0, 'sunchance': 30, 'rainchance': 10, 'rain': 0.0, 'minrain': 0.0, 'maxrain': 0.0, 'snow': 0, 'windforce': 2, 'windspeed': 2.06, 'winddirection': 'ZW', 'windazimuth': 225, 'datetime': datetime.datetime(2024, 10, 31, 0, 0, tzinfo=<DstTzInfo 'Europe/Amsterdam' CET+1:00:00 STD>)}, {'condition': {'condcode': 'c', 'condition': 'cloudy', 'detailed': 'cloudy', 'exact': 'Heavily clouded', 'exact_nl': 'Zwaar bewolkt', 'night': False, 'image': 'https://www.buienradar.nl/resources/images/icons/weather/30x30/c.png'}, 'temperature': 16.0, 'mintemp': 9.0, 'maxtemp': 16.0, 'sunchance': 20, 'rainchance': 20, 'rain': 0.0, 'minrain': 0.0, 'maxrain': 0.0, 'snow': 0, 'windforce': 3, 'windspeed': 3.6, 'winddirection': 'W', 'windazimuth': 270, 'datetime': datetime.datetime(2024, 11, 1, 0, 0, tzinfo=<DstTzInfo 'Europe/Amsterdam' CET+1:00:00 STD>)}, {'condition': {'condcode': 'c', 'condition': 'cloudy', 'detailed': 'cloudy', 'exact': 'Heavily clouded', 'exact_nl': 'Zwaar bewolkt', 'night': False, 'image': 'https://www.buienradar.nl/resources/images/icons/weather/30x30/c.png'}, 'temperature': 12.0, 'mintemp': 7.0, 'maxtemp': 12.0, 'sunchance': 20, 'rainchance': 10, 'rain': 0.0, 'minrain': 0.0, 'maxrain': 0.0, 'snow': 0, 'windforce': 3, 'windspeed': 3.6, 'winddirection': 'NO', 'windazimuth': 45, 'datetime': datetime.datetime(2024, 11, 2, 0, 0, tzinfo=<DstTzInfo 'Europe/Amsterdam' CET+1:00:00 STD>)}, {'condition': {'condcode': 'b', 'condition': 'cloudy', 'detailed': 'partlycloudy', 'exact': 'Mix of clear and medium or low clouds', 'exact_nl': 'Mix van opklaringen en middelbare of lage bewolking', 'night': False, 'image': 'https://www.buienradar.nl/resources/images/icons/weather/30x30/b.png'}, 'temperature': 11.5, 'mintemp': 1.0, 'maxtemp': 13.0, 'sunchance': 50, 'rainchance': 10, 'rain': 0.0, 'minrain': 0.0, 'maxrain': 0.0, 'snow': 0, 'windforce': 2, 'windspeed': 2.06, 'winddirection': 'O', 'windazimuth': 90, 'datetime': datetime.datetime(2024, 11, 3, 0, 0, tzinfo=<DstTzInfo 'Europe/Amsterdam' CET+1:00:00 STD>)}, {'condition': {'condcode': 'b', 'condition': 'cloudy', 'detailed': 'partlycloudy', 'exact': 'Mix of clear and medium or low clouds', 'exact_nl': 'Mix van opklaringen en middelbare of lage bewolking', 'night': False, 'image': 'https://www.buienradar.nl/resources/images/icons/weather/30x30/b.png'}, 'temperature': 13.0, 'mintemp': 2.0, 'maxtemp': 13.0, 'sunchance': 40, 'rainchance': 20, 'rain': 0.0, 'minrain': 0.0, 'maxrain': 0.0, 'snow': 0, 'windforce': 2, 'windspeed': 2.06, 'winddirection': 'NO', 'windazimuth': 45, 'datetime': datetime.datetime(2024, 11, 4, 0, 0, tzinfo=<DstTzInfo 'Europe/Amsterdam' CET+1:00:00 STD>)}], 'precipitation_forecast': {'average': 0.0, 'total': 0.0, 'timeframe': 24}, 'barometerfc': 6, 'barometerfcname': 'Stable', 'barometerfcnamenl': 'Mooi', 'humidity': 99, 'groundtemperature': 11.8, 'irradiance': 0, 'measured': datetime.datetime(2024, 10, 31, 1, 0, tzinfo=<DstTzInfo 'Europe/Amsterdam' CET+1:00:00 STD>), 'precipitation': 0.0, 'pressure': 1028.9, 'stationname': 'Gilze Rijen (6350)', 'condition': {'condcode': 'c', 'condition': 'cloudy', 'detailed': 'cloudy', 'exact': 'Heavily clouded', 'exact_nl': 'Zwaar bewolkt', 'night': True, 'image': 'https://www.buienradar.nl/resources/images/icons/weather/30x30/cc.png'}, 'rainlast24hour': 0.2, 'rainlasthour': 0.0, 'temperature': 12.1, 'feeltemperature': 12.1, 'visibility': 4210, 'windspeed': 0.5, 'windforce': 1, 'winddirection': 'ZW', 'windazimuth': 215, 'windgust': 0.8}, 'distance': 12.246543}\n",
      "\u001b[0m> Running step 03a944d8-39c4-48ae-9964-d50b213fc1a2. Step input: None\n",
      "\u001b[1;3;38;5;200mThought: I can answer without using any more tools. I'll use the user's language to answer\n",
      "Answer: Tomorrow in Tilburg, it will be cloudy with a temperature of 16.0°C.\n",
      "\u001b[0m"
     ]
    },
    {
     "data": {
      "text/plain": [
       "AgentChatResponse(response='Tomorrow in Tilburg, it will be cloudy with a temperature of 16.0°C.', sources=[ToolOutput(content='Error: Timeframe must be >=5 and <=120.', tool_name='li_weather_report', raw_input={'kwargs': {'latitude': 51.6, 'longitude': 5.1, 'timeframe': 1}}, raw_output=ValueError('Timeframe must be >=5 and <=120.'), is_error=True), ToolOutput(content=\"{'success': True, 'msg': None, 'data': {'attribution': 'Data provided by buienradar.nl', 'forecast': [{'condition': {'condcode': 'b', 'condition': 'cloudy', 'detailed': 'partlycloudy', 'exact': 'Mix of clear and medium or low clouds', 'exact_nl': 'Mix van opklaringen en middelbare of lage bewolking', 'night': False, 'image': 'https://www.buienradar.nl/resources/images/icons/weather/30x30/b.png'}, 'temperature': 15.0, 'mintemp': 10.0, 'maxtemp': 15.0, 'sunchance': 30, 'rainchance': 10, 'rain': 0.0, 'minrain': 0.0, 'maxrain': 0.0, 'snow': 0, 'windforce': 2, 'windspeed': 2.06, 'winddirection': 'ZW', 'windazimuth': 225, 'datetime': datetime.datetime(2024, 10, 31, 0, 0, tzinfo=<DstTzInfo 'Europe/Amsterdam' CET+1:00:00 STD>)}, {'condition': {'condcode': 'c', 'condition': 'cloudy', 'detailed': 'cloudy', 'exact': 'Heavily clouded', 'exact_nl': 'Zwaar bewolkt', 'night': False, 'image': 'https://www.buienradar.nl/resources/images/icons/weather/30x30/c.png'}, 'temperature': 16.0, 'mintemp': 9.0, 'maxtemp': 16.0, 'sunchance': 20, 'rainchance': 20, 'rain': 0.0, 'minrain': 0.0, 'maxrain': 0.0, 'snow': 0, 'windforce': 3, 'windspeed': 3.6, 'winddirection': 'W', 'windazimuth': 270, 'datetime': datetime.datetime(2024, 11, 1, 0, 0, tzinfo=<DstTzInfo 'Europe/Amsterdam' CET+1:00:00 STD>)}, {'condition': {'condcode': 'c', 'condition': 'cloudy', 'detailed': 'cloudy', 'exact': 'Heavily clouded', 'exact_nl': 'Zwaar bewolkt', 'night': False, 'image': 'https://www.buienradar.nl/resources/images/icons/weather/30x30/c.png'}, 'temperature': 12.0, 'mintemp': 7.0, 'maxtemp': 12.0, 'sunchance': 20, 'rainchance': 10, 'rain': 0.0, 'minrain': 0.0, 'maxrain': 0.0, 'snow': 0, 'windforce': 3, 'windspeed': 3.6, 'winddirection': 'NO', 'windazimuth': 45, 'datetime': datetime.datetime(2024, 11, 2, 0, 0, tzinfo=<DstTzInfo 'Europe/Amsterdam' CET+1:00:00 STD>)}, {'condition': {'condcode': 'b', 'condition': 'cloudy', 'detailed': 'partlycloudy', 'exact': 'Mix of clear and medium or low clouds', 'exact_nl': 'Mix van opklaringen en middelbare of lage bewolking', 'night': False, 'image': 'https://www.buienradar.nl/resources/images/icons/weather/30x30/b.png'}, 'temperature': 11.5, 'mintemp': 1.0, 'maxtemp': 13.0, 'sunchance': 50, 'rainchance': 10, 'rain': 0.0, 'minrain': 0.0, 'maxrain': 0.0, 'snow': 0, 'windforce': 2, 'windspeed': 2.06, 'winddirection': 'O', 'windazimuth': 90, 'datetime': datetime.datetime(2024, 11, 3, 0, 0, tzinfo=<DstTzInfo 'Europe/Amsterdam' CET+1:00:00 STD>)}, {'condition': {'condcode': 'b', 'condition': 'cloudy', 'detailed': 'partlycloudy', 'exact': 'Mix of clear and medium or low clouds', 'exact_nl': 'Mix van opklaringen en middelbare of lage bewolking', 'night': False, 'image': 'https://www.buienradar.nl/resources/images/icons/weather/30x30/b.png'}, 'temperature': 13.0, 'mintemp': 2.0, 'maxtemp': 13.0, 'sunchance': 40, 'rainchance': 20, 'rain': 0.0, 'minrain': 0.0, 'maxrain': 0.0, 'snow': 0, 'windforce': 2, 'windspeed': 2.06, 'winddirection': 'NO', 'windazimuth': 45, 'datetime': datetime.datetime(2024, 11, 4, 0, 0, tzinfo=<DstTzInfo 'Europe/Amsterdam' CET+1:00:00 STD>)}], 'precipitation_forecast': {'average': 0.0, 'total': 0.0, 'timeframe': 24}, 'barometerfc': 6, 'barometerfcname': 'Stable', 'barometerfcnamenl': 'Mooi', 'humidity': 99, 'groundtemperature': 11.8, 'irradiance': 0, 'measured': datetime.datetime(2024, 10, 31, 1, 0, tzinfo=<DstTzInfo 'Europe/Amsterdam' CET+1:00:00 STD>), 'precipitation': 0.0, 'pressure': 1028.9, 'stationname': 'Gilze Rijen (6350)', 'condition': {'condcode': 'c', 'condition': 'cloudy', 'detailed': 'cloudy', 'exact': 'Heavily clouded', 'exact_nl': 'Zwaar bewolkt', 'night': True, 'image': 'https://www.buienradar.nl/resources/images/icons/weather/30x30/cc.png'}, 'rainlast24hour': 0.2, 'rainlasthour': 0.0, 'temperature': 12.1, 'feeltemperature': 12.1, 'visibility': 4210, 'windspeed': 0.5, 'windforce': 1, 'winddirection': 'ZW', 'windazimuth': 215, 'windgust': 0.8}, 'distance': 12.246543}\", tool_name='li_weather_report', raw_input={'args': (), 'kwargs': {'latitude': 51.6, 'longitude': 5.1, 'timeframe': 24}}, raw_output={'success': True, 'msg': None, 'data': {'attribution': 'Data provided by buienradar.nl', 'forecast': [{'condition': {'condcode': 'b', 'condition': 'cloudy', 'detailed': 'partlycloudy', 'exact': 'Mix of clear and medium or low clouds', 'exact_nl': 'Mix van opklaringen en middelbare of lage bewolking', 'night': False, 'image': 'https://www.buienradar.nl/resources/images/icons/weather/30x30/b.png'}, 'temperature': 15.0, 'mintemp': 10.0, 'maxtemp': 15.0, 'sunchance': 30, 'rainchance': 10, 'rain': 0.0, 'minrain': 0.0, 'maxrain': 0.0, 'snow': 0, 'windforce': 2, 'windspeed': 2.06, 'winddirection': 'ZW', 'windazimuth': 225, 'datetime': datetime.datetime(2024, 10, 31, 0, 0, tzinfo=<DstTzInfo 'Europe/Amsterdam' CET+1:00:00 STD>)}, {'condition': {'condcode': 'c', 'condition': 'cloudy', 'detailed': 'cloudy', 'exact': 'Heavily clouded', 'exact_nl': 'Zwaar bewolkt', 'night': False, 'image': 'https://www.buienradar.nl/resources/images/icons/weather/30x30/c.png'}, 'temperature': 16.0, 'mintemp': 9.0, 'maxtemp': 16.0, 'sunchance': 20, 'rainchance': 20, 'rain': 0.0, 'minrain': 0.0, 'maxrain': 0.0, 'snow': 0, 'windforce': 3, 'windspeed': 3.6, 'winddirection': 'W', 'windazimuth': 270, 'datetime': datetime.datetime(2024, 11, 1, 0, 0, tzinfo=<DstTzInfo 'Europe/Amsterdam' CET+1:00:00 STD>)}, {'condition': {'condcode': 'c', 'condition': 'cloudy', 'detailed': 'cloudy', 'exact': 'Heavily clouded', 'exact_nl': 'Zwaar bewolkt', 'night': False, 'image': 'https://www.buienradar.nl/resources/images/icons/weather/30x30/c.png'}, 'temperature': 12.0, 'mintemp': 7.0, 'maxtemp': 12.0, 'sunchance': 20, 'rainchance': 10, 'rain': 0.0, 'minrain': 0.0, 'maxrain': 0.0, 'snow': 0, 'windforce': 3, 'windspeed': 3.6, 'winddirection': 'NO', 'windazimuth': 45, 'datetime': datetime.datetime(2024, 11, 2, 0, 0, tzinfo=<DstTzInfo 'Europe/Amsterdam' CET+1:00:00 STD>)}, {'condition': {'condcode': 'b', 'condition': 'cloudy', 'detailed': 'partlycloudy', 'exact': 'Mix of clear and medium or low clouds', 'exact_nl': 'Mix van opklaringen en middelbare of lage bewolking', 'night': False, 'image': 'https://www.buienradar.nl/resources/images/icons/weather/30x30/b.png'}, 'temperature': 11.5, 'mintemp': 1.0, 'maxtemp': 13.0, 'sunchance': 50, 'rainchance': 10, 'rain': 0.0, 'minrain': 0.0, 'maxrain': 0.0, 'snow': 0, 'windforce': 2, 'windspeed': 2.06, 'winddirection': 'O', 'windazimuth': 90, 'datetime': datetime.datetime(2024, 11, 3, 0, 0, tzinfo=<DstTzInfo 'Europe/Amsterdam' CET+1:00:00 STD>)}, {'condition': {'condcode': 'b', 'condition': 'cloudy', 'detailed': 'partlycloudy', 'exact': 'Mix of clear and medium or low clouds', 'exact_nl': 'Mix van opklaringen en middelbare of lage bewolking', 'night': False, 'image': 'https://www.buienradar.nl/resources/images/icons/weather/30x30/b.png'}, 'temperature': 13.0, 'mintemp': 2.0, 'maxtemp': 13.0, 'sunchance': 40, 'rainchance': 20, 'rain': 0.0, 'minrain': 0.0, 'maxrain': 0.0, 'snow': 0, 'windforce': 2, 'windspeed': 2.06, 'winddirection': 'NO', 'windazimuth': 45, 'datetime': datetime.datetime(2024, 11, 4, 0, 0, tzinfo=<DstTzInfo 'Europe/Amsterdam' CET+1:00:00 STD>)}], 'precipitation_forecast': {'average': 0.0, 'total': 0.0, 'timeframe': 24}, 'barometerfc': 6, 'barometerfcname': 'Stable', 'barometerfcnamenl': 'Mooi', 'humidity': 99, 'groundtemperature': 11.8, 'irradiance': 0, 'measured': datetime.datetime(2024, 10, 31, 1, 0, tzinfo=<DstTzInfo 'Europe/Amsterdam' CET+1:00:00 STD>), 'precipitation': 0.0, 'pressure': 1028.9, 'stationname': 'Gilze Rijen (6350)', 'condition': {'condcode': 'c', 'condition': 'cloudy', 'detailed': 'cloudy', 'exact': 'Heavily clouded', 'exact_nl': 'Zwaar bewolkt', 'night': True, 'image': 'https://www.buienradar.nl/resources/images/icons/weather/30x30/cc.png'}, 'rainlast24hour': 0.2, 'rainlasthour': 0.0, 'temperature': 12.1, 'feeltemperature': 12.1, 'visibility': 4210, 'windspeed': 0.5, 'windforce': 1, 'winddirection': 'ZW', 'windazimuth': 215, 'windgust': 0.8}, 'distance': 12.246543}, is_error=False)], source_nodes=[], is_dummy_stream=False, metadata=None)"
      ]
     },
     "execution_count": 145,
     "metadata": {},
     "output_type": "execute_result"
    }
   ],
   "source": [
    "li_agent.chat(\"What is the weather tomorrow in Tilburg?\")"
   ]
  },
  {
   "cell_type": "code",
   "execution_count": null,
   "metadata": {},
   "outputs": [],
   "source": []
  },
  {
   "cell_type": "code",
   "execution_count": null,
   "metadata": {},
   "outputs": [],
   "source": []
  }
 ],
 "metadata": {
  "kernelspec": {
   "display_name": ".venv",
   "language": "python",
   "name": "python3"
  },
  "language_info": {
   "codemirror_mode": {
    "name": "ipython",
    "version": 3
   },
   "file_extension": ".py",
   "mimetype": "text/x-python",
   "name": "python",
   "nbconvert_exporter": "python",
   "pygments_lexer": "ipython3",
   "version": "3.11.8"
  }
 },
 "nbformat": 4,
 "nbformat_minor": 2
}
